{
  "nbformat": 4,
  "nbformat_minor": 0,
  "metadata": {
    "colab": {
      "name": "Quiz1.ipynb",
      "provenance": [],
      "collapsed_sections": [],
      "authorship_tag": "ABX9TyOgCZD2idB92U7ED87heqeZ",
      "include_colab_link": true
    },
    "kernelspec": {
      "name": "python3",
      "display_name": "Python 3"
    },
    "language_info": {
      "name": "python"
    }
  },
  "cells": [
    {
      "cell_type": "markdown",
      "metadata": {
        "id": "view-in-github",
        "colab_type": "text"
      },
      "source": [
        "<a href=\"https://colab.research.google.com/github/jumorenop/MetNumUN2022II/blob/main/Quiz1/Quiz1.ipynb\" target=\"_parent\"><img src=\"https://colab.research.google.com/assets/colab-badge.svg\" alt=\"Open In Colab\"/></a>"
      ]
    },
    {
      "cell_type": "markdown",
      "source": [
        "Problema 1"
      ],
      "metadata": {
        "id": "L3vW5-HuZ9II"
      }
    },
    {
      "cell_type": "code",
      "source": [
        "!python --version\n",
        "import numpy as np\n",
        "\n",
        "print('NumPy', np.__version__)"
      ],
      "metadata": {
        "colab": {
          "base_uri": "https://localhost:8080/"
        },
        "id": "ILBQ-gZvZ-QX",
        "outputId": "38861b43-b99e-44c9-8c82-b3b41f8aed04"
      },
      "execution_count": null,
      "outputs": [
        {
          "output_type": "stream",
          "name": "stdout",
          "text": [
            "Python 3.7.13\n",
            "NumPy 1.21.6\n"
          ]
        }
      ]
    },
    {
      "cell_type": "code",
      "source": [
        "def FizzBuzz(x):  \n",
        "  if x % 3 == 0:\n",
        "    if x % 5 != 0:\n",
        "        print ('Fizz!')\n",
        "    elif x % 5 == 0:\n",
        "        print ('FizzBuzz!')\n",
        "  elif x % 5 == 0:\n",
        "    if x % 3 != 0:\n",
        "        print ('Buzz!')\n",
        "  else:\n",
        "    print ('...')\n",
        "\n",
        "  answer =\"\"\n",
        "  return answer\n",
        "print(FizzBuzz(3))\n",
        "print(FizzBuzz(7))\n",
        "print(FizzBuzz(5))\n",
        "print(FizzBuzz(11))\n",
        "print(FizzBuzz(15))"
      ],
      "metadata": {
        "id": "yiz-RqHYa_e_",
        "colab": {
          "base_uri": "https://localhost:8080/"
        },
        "outputId": "efacf27d-bdbc-4c74-e327-3e643f5c4536"
      },
      "execution_count": null,
      "outputs": [
        {
          "output_type": "stream",
          "name": "stdout",
          "text": [
            "Fizz!\n",
            "\n",
            "...\n",
            "\n",
            "Buzz!\n",
            "\n",
            "...\n",
            "\n",
            "FizzBuzz!\n",
            "\n"
          ]
        }
      ]
    },
    {
      "cell_type": "markdown",
      "source": [
        "Problema 2"
      ],
      "metadata": {
        "id": "_y2SLoZIbAPm"
      }
    },
    {
      "cell_type": "code",
      "source": [
        "def FizzBuzzList(n):\n",
        "    ans = []\n",
        "    i = 1\n",
        "    for i in range(1,n+1):\n",
        "        ans.append(i)\n",
        "        if i % 3 == 0:\n",
        "          if i % 5 != 0:\n",
        "              ans[i-1] = \"Fizz!\"\n",
        "          elif i % 5 == 0:\n",
        "              ans[i-1] = \"FizzBuzz!\"\n",
        "        elif i % 5 == 0:\n",
        "          if i % 3 != 0:\n",
        "              ans[i-1] = \"Buzz!\"\n",
        "        else:\n",
        "          ans[i-1] = \"...\"\n",
        "        i += 1 \n",
        "    return ans\n",
        "print(FizzBuzzList(5))\n",
        "print(FizzBuzzList(-30))"
      ],
      "metadata": {
        "colab": {
          "base_uri": "https://localhost:8080/"
        },
        "id": "3HkEZEOVbBhu",
        "outputId": "2dffd073-ad15-4706-87e1-2d2c9d3106c5"
      },
      "execution_count": null,
      "outputs": [
        {
          "output_type": "stream",
          "name": "stdout",
          "text": [
            "['...', '...', 'Fizz!', '...', 'Buzz!']\n",
            "[]\n"
          ]
        }
      ]
    },
    {
      "cell_type": "markdown",
      "source": [
        "Problema 3"
      ],
      "metadata": {
        "id": "u8_7RjMmpRMM"
      }
    },
    {
      "cell_type": "code",
      "source": [
        "import numpy as np\n",
        "X0 = np.array([4.8, 4.0, 4.2, 4.0, 5.0])\n",
        "X1 = np.arange(5)\n",
        "def standarize(X):\n",
        "  X_standarized = (X - X.mean())/(X.std())\n",
        "  return X_standarized\n",
        "standarize(X0)"
      ],
      "metadata": {
        "id": "kAojixkJpSsq",
        "colab": {
          "base_uri": "https://localhost:8080/"
        },
        "outputId": "5fd81b97-5888-4504-8cdb-4730157ece5d"
      },
      "execution_count": null,
      "outputs": [
        {
          "output_type": "execute_result",
          "data": {
            "text/plain": [
              "array([ 0.95346259, -0.95346259, -0.47673129, -0.95346259,  1.43019388])"
            ]
          },
          "metadata": {},
          "execution_count": 36
        }
      ]
    },
    {
      "cell_type": "markdown",
      "source": [
        "Problema 4"
      ],
      "metadata": {
        "id": "qRcvNuhTNEtJ"
      }
    },
    {
      "cell_type": "code",
      "source": [
        "import numpy as np\n",
        "A = np.array(\n",
        "    [\n",
        "    [4, 0, 2],\n",
        "    [9, 5, 6],\n",
        "    [1, 9, 6],\n",
        "    [3, 0, 5]\n",
        "    ])\n",
        "def main_diagonal_matrix(B):\n",
        "  D = np.diag(np.diag(B)).astype(float)\n",
        "  return D\n",
        "main_diagonal_matrix(A)"
      ],
      "metadata": {
        "colab": {
          "base_uri": "https://localhost:8080/"
        },
        "id": "FtcTMy2tNF3j",
        "outputId": "2b8365ae-fd69-4985-b969-2bfb4ee44997"
      },
      "execution_count": null,
      "outputs": [
        {
          "output_type": "execute_result",
          "data": {
            "text/plain": [
              "array([[4., 0., 0.],\n",
              "       [0., 5., 0.],\n",
              "       [0., 0., 6.]])"
            ]
          },
          "metadata": {},
          "execution_count": 41
        }
      ]
    }
  ]
}