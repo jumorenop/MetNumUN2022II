{
  "nbformat": 4,
  "nbformat_minor": 0,
  "metadata": {
    "colab": {
      "name": "Lab1.ipynb",
      "provenance": [],
      "collapsed_sections": [],
      "authorship_tag": "ABX9TyOuzgGCwbHsJzttbJ4fNQ0D",
      "include_colab_link": true
    },
    "kernelspec": {
      "name": "python3",
      "display_name": "Python 3"
    },
    "language_info": {
      "name": "python"
    }
  },
  "cells": [
    {
      "cell_type": "markdown",
      "metadata": {
        "id": "view-in-github",
        "colab_type": "text"
      },
      "source": [
        "<a href=\"https://colab.research.google.com/github/jumorenop/MetNumUN2022II/blob/main/Lab1/Lab1.ipynb\" target=\"_parent\"><img src=\"https://colab.research.google.com/assets/colab-badge.svg\" alt=\"Open In Colab\"/></a>"
      ]
    },
    {
      "cell_type": "code",
      "execution_count": null,
      "metadata": {
        "id": "q3nr24OLE1iT"
      },
      "outputs": [],
      "source": [
        "Ejemplo 1"
      ]
    },
    {
      "cell_type": "code",
      "source": [
        "cuerdaing1 = 'Me gusta mucho'\n",
        "cuerdaing2 = \"comer hamburguesa\"\n",
        "print(cuerdaing1 + ' ' + cuerdaing2)"
      ],
      "metadata": {
        "id": "9Oec8BOwE5Yo"
      },
      "execution_count": null,
      "outputs": []
    },
    {
      "cell_type": "markdown",
      "source": [
        "Ejemplo 2"
      ],
      "metadata": {
        "id": "4go_ffyHFgCO"
      }
    },
    {
      "cell_type": "code",
      "source": [
        "my_string = \"23\"\n",
        "print(type(my_string))\n",
        "\n",
        "my_int = int(my_string)\n",
        "print(type(my_int))"
      ],
      "metadata": {
        "colab": {
          "base_uri": "https://localhost:8080/"
        },
        "id": "UYtGAe2iFgYF",
        "outputId": "7f6a52ea-146c-43fc-a8a8-6c6111f67189"
      },
      "execution_count": null,
      "outputs": [
        {
          "output_type": "stream",
          "name": "stdout",
          "text": [
            "<class 'str'>\n",
            "<class 'int'>\n"
          ]
        }
      ]
    },
    {
      "cell_type": "markdown",
      "source": [
        "Ejemplo 3"
      ],
      "metadata": {
        "id": "3syaroVAFmJn"
      }
    },
    {
      "cell_type": "code",
      "source": [
        "my_float = 1.7\n",
        "print(type(my_float))\n",
        "\n",
        "my_int = 1\n",
        "print(type(my_int))"
      ],
      "metadata": {
        "colab": {
          "base_uri": "https://localhost:8080/"
        },
        "id": "1KVqe7vRFic2",
        "outputId": "d34ed84f-a422-410b-9eb5-4dd6bfdbfab6"
      },
      "execution_count": null,
      "outputs": [
        {
          "output_type": "stream",
          "name": "stdout",
          "text": [
            "<class 'float'>\n",
            "<class 'int'>\n"
          ]
        }
      ]
    },
    {
      "cell_type": "markdown",
      "source": [
        "Ejemplo 4"
      ],
      "metadata": {
        "id": "bhGVuLLmFnX_"
      }
    },
    {
      "cell_type": "code",
      "source": [
        "f1 = 5.0\n",
        "print(type(f1))"
      ],
      "metadata": {
        "colab": {
          "base_uri": "https://localhost:8080/"
        },
        "id": "CB2_SQSHFiaM",
        "outputId": "241d4bb9-fd4d-48fe-98d9-fe92ba0bd453"
      },
      "execution_count": null,
      "outputs": [
        {
          "output_type": "stream",
          "name": "stdout",
          "text": [
            "<class 'float'>\n"
          ]
        }
      ]
    },
    {
      "cell_type": "markdown",
      "source": [
        "Ejemplo 5"
      ],
      "metadata": {
        "id": "_FJuKpuEFvRD"
      }
    },
    {
      "cell_type": "code",
      "source": [
        "ent = 11\n",
        "print(type(ent))"
      ],
      "metadata": {
        "colab": {
          "base_uri": "https://localhost:8080/"
        },
        "id": "w1ft5AXmFiX0",
        "outputId": "e8c6cf06-b7f8-4e4e-899a-dff6e4f9e141"
      },
      "execution_count": null,
      "outputs": [
        {
          "output_type": "stream",
          "name": "stdout",
          "text": [
            "<class 'int'>\n"
          ]
        }
      ]
    },
    {
      "cell_type": "markdown",
      "source": [
        "Ejemplo 6"
      ],
      "metadata": {
        "id": "16t9CA7gFxau"
      }
    },
    {
      "cell_type": "code",
      "source": [
        "print(\"SUMA \", 105+53)\n",
        "print(\"RESTA \", 724-54)"
      ],
      "metadata": {
        "colab": {
          "base_uri": "https://localhost:8080/"
        },
        "id": "yxmqNGrKFiVf",
        "outputId": "8f8f0178-74f1-4ad4-d594-ae8cf506e5fd"
      },
      "execution_count": null,
      "outputs": [
        {
          "output_type": "stream",
          "name": "stdout",
          "text": [
            "SUMA  158\n",
            "RESTA  670\n"
          ]
        }
      ]
    },
    {
      "cell_type": "markdown",
      "source": [
        "Ejemplo 7"
      ],
      "metadata": {
        "id": "fWl_A3X7FzcU"
      }
    },
    {
      "cell_type": "code",
      "source": [
        "boolean = True\n",
        "print(boolean)\n",
        "print(type(boolean))"
      ],
      "metadata": {
        "colab": {
          "base_uri": "https://localhost:8080/"
        },
        "id": "BU9EELMCFiTV",
        "outputId": "011fb11c-5854-4c99-9bfc-fd5ca51c371b"
      },
      "execution_count": null,
      "outputs": [
        {
          "output_type": "stream",
          "name": "stdout",
          "text": [
            "True\n",
            "<class 'bool'>\n"
          ]
        }
      ]
    },
    {
      "cell_type": "markdown",
      "source": [
        "Ejemplo 8"
      ],
      "metadata": {
        "id": "Y10t41zZGCZ_"
      }
    },
    {
      "cell_type": "code",
      "source": [
        "my_list = ['arroz', 'carne','papa']\n",
        "print(my_list)"
      ],
      "metadata": {
        "id": "Zsl6W9z8FiRQ",
        "colab": {
          "base_uri": "https://localhost:8080/"
        },
        "outputId": "67fa0102-378f-40c3-edc3-f557a2179840"
      },
      "execution_count": null,
      "outputs": [
        {
          "output_type": "stream",
          "name": "stdout",
          "text": [
            "['arroz', 'carne', 'papa']\n"
          ]
        }
      ]
    },
    {
      "cell_type": "markdown",
      "source": [
        "Ejemplo 9"
      ],
      "metadata": {
        "id": "l4xuJSEjGEEX"
      }
    },
    {
      "cell_type": "code",
      "source": [
        "valo = ['sova', 'fade','breach']\n",
        "print(type(valo))"
      ],
      "metadata": {
        "id": "Ao52Pa7LFiO2",
        "colab": {
          "base_uri": "https://localhost:8080/"
        },
        "outputId": "94a50b21-cd19-43c4-85bd-6e550e3d4a12"
      },
      "execution_count": null,
      "outputs": [
        {
          "output_type": "stream",
          "name": "stdout",
          "text": [
            "<class 'list'>\n"
          ]
        }
      ]
    },
    {
      "cell_type": "markdown",
      "source": [
        "Ejemplo 10"
      ],
      "metadata": {
        "id": "NWliF-ybGEfm"
      }
    },
    {
      "cell_type": "code",
      "source": [
        "print(len(valo))\n",
        "print(valo[1])\n",
        "print(len(valo) - 1)"
      ],
      "metadata": {
        "id": "r_YitX0ZFiMS",
        "colab": {
          "base_uri": "https://localhost:8080/"
        },
        "outputId": "15aad0f3-a916-43b0-9ae6-f0bddbfd358c"
      },
      "execution_count": null,
      "outputs": [
        {
          "output_type": "stream",
          "name": "stdout",
          "text": [
            "3\n",
            "fade\n",
            "2\n"
          ]
        }
      ]
    },
    {
      "cell_type": "markdown",
      "source": [
        "Ejemplo 11"
      ],
      "metadata": {
        "id": "G29iLd6uGFQJ"
      }
    },
    {
      "cell_type": "code",
      "source": [
        "print(valo[1:3])"
      ],
      "metadata": {
        "id": "45jQm_OlFiKE",
        "colab": {
          "base_uri": "https://localhost:8080/"
        },
        "outputId": "569ac8ca-5142-48d4-8bf6-5596ee5dd1e1"
      },
      "execution_count": null,
      "outputs": [
        {
          "output_type": "stream",
          "name": "stdout",
          "text": [
            "['fade', 'breach']\n"
          ]
        }
      ]
    },
    {
      "cell_type": "markdown",
      "source": [
        "Ejemplo 12"
      ],
      "metadata": {
        "id": "OIBpz-agllmv"
      }
    },
    {
      "cell_type": "code",
      "source": [
        "lista = ['Radamel', 'Falcao']\n",
        "lista.append('Radamel')\n",
        "print(lista)\n",
        "lista.remove('Falcao')\n",
        "print(lista)"
      ],
      "metadata": {
        "colab": {
          "base_uri": "https://localhost:8080/"
        },
        "id": "G3Le7Kbjlk3Y",
        "outputId": "81b8e4df-253d-499a-9cc2-d774d2f5b956"
      },
      "execution_count": null,
      "outputs": [
        {
          "output_type": "stream",
          "name": "stdout",
          "text": [
            "['Radamel', 'Falcao', 'Radamel']\n",
            "['Radamel', 'Radamel']\n"
          ]
        }
      ]
    },
    {
      "cell_type": "markdown",
      "source": [
        "Ejemplo 13"
      ],
      "metadata": {
        "id": "Du_iPHx9lnP6"
      }
    },
    {
      "cell_type": "code",
      "source": [
        "m1xwell = ('padre','del','valorant')\n",
        "print(m1xwell[:1])"
      ],
      "metadata": {
        "colab": {
          "base_uri": "https://localhost:8080/"
        },
        "id": "g5CGyY7qk4ZO",
        "outputId": "22e9b802-63e6-45bb-e5a9-74e714f5b1a1"
      },
      "execution_count": null,
      "outputs": [
        {
          "output_type": "stream",
          "name": "stdout",
          "text": [
            "('padre',)\n"
          ]
        }
      ]
    },
    {
      "cell_type": "markdown",
      "source": [
        "Ejemplo 14"
      ],
      "metadata": {
        "id": "JiYjgUD_lnvx"
      }
    },
    {
      "cell_type": "code",
      "source": [
        "valorant = ['vandal', 'phantom', 'ghost', 'spectre', 'operator', 'bulldog']\n",
        "set_padre = set(valorant)\n",
        "print(set_padre)"
      ],
      "metadata": {
        "id": "yqSfnEptFiIM",
        "colab": {
          "base_uri": "https://localhost:8080/"
        },
        "outputId": "4c08683c-c7fd-4945-9e12-3e4ceb7593e7"
      },
      "execution_count": null,
      "outputs": [
        {
          "output_type": "stream",
          "name": "stdout",
          "text": [
            "{'bulldog', 'phantom', 'vandal', 'ghost', 'spectre', 'operator'}\n"
          ]
        }
      ]
    },
    {
      "cell_type": "markdown",
      "source": [
        "Ejemplo 15"
      ],
      "metadata": {
        "id": "dkNYHm5nloHk"
      }
    },
    {
      "cell_type": "code",
      "source": [
        "str = 'BRRRRRRRRRRR ELECTROCUTADOS'\n",
        "print(str[:20])"
      ],
      "metadata": {
        "id": "_NEmlprQFiFm",
        "colab": {
          "base_uri": "https://localhost:8080/"
        },
        "outputId": "c835de7c-7a72-454d-8d91-5b468272ffd9"
      },
      "execution_count": null,
      "outputs": [
        {
          "output_type": "stream",
          "name": "stdout",
          "text": [
            "BRRRRRRRRRRR ELECTRO\n"
          ]
        }
      ]
    },
    {
      "cell_type": "markdown",
      "source": [
        "Ejemplo 16"
      ],
      "metadata": {
        "id": "K9OFVBCnlomE"
      }
    },
    {
      "cell_type": "code",
      "source": [
        "str = 'BRRRRRRRRRRR ELECTROCUTADOS'\n",
        "print(str[2:])\n",
        "print(\"Counting the number of E in this sentence\".count('e'))"
      ],
      "metadata": {
        "id": "zzzvRNnVFiCy",
        "colab": {
          "base_uri": "https://localhost:8080/"
        },
        "outputId": "cfaa4b2e-9af7-4f7b-e2e5-b31c2fc1fa71"
      },
      "execution_count": 2,
      "outputs": [
        {
          "output_type": "stream",
          "name": "stdout",
          "text": [
            "RRRRRRRRRR ELECTROCUTADOS\n",
            "5\n"
          ]
        }
      ]
    },
    {
      "cell_type": "markdown",
      "source": [
        ""
      ],
      "metadata": {
        "id": "v5owuuX_lpAr"
      }
    },
    {
      "cell_type": "code",
      "source": [
        ""
      ],
      "metadata": {
        "id": "A-hxn_UFFiAU"
      },
      "execution_count": null,
      "outputs": []
    },
    {
      "cell_type": "code",
      "source": [
        ""
      ],
      "metadata": {
        "id": "xx_PNaDXFh-R"
      },
      "execution_count": null,
      "outputs": []
    },
    {
      "cell_type": "code",
      "source": [
        ""
      ],
      "metadata": {
        "id": "YWjitgxuFh8K"
      },
      "execution_count": null,
      "outputs": []
    },
    {
      "cell_type": "code",
      "source": [
        ""
      ],
      "metadata": {
        "id": "bCgRUIM5Fh5i"
      },
      "execution_count": null,
      "outputs": []
    },
    {
      "cell_type": "code",
      "source": [
        ""
      ],
      "metadata": {
        "id": "MTjDBH-jFh3M"
      },
      "execution_count": null,
      "outputs": []
    },
    {
      "cell_type": "code",
      "source": [
        ""
      ],
      "metadata": {
        "id": "zDfVY_UBFh0u"
      },
      "execution_count": null,
      "outputs": []
    },
    {
      "cell_type": "code",
      "source": [
        ""
      ],
      "metadata": {
        "id": "oLY-I1IOFhwX"
      },
      "execution_count": null,
      "outputs": []
    },
    {
      "cell_type": "code",
      "source": [
        ""
      ],
      "metadata": {
        "id": "wHOfriseFhrJ"
      },
      "execution_count": null,
      "outputs": []
    },
    {
      "cell_type": "code",
      "source": [
        ""
      ],
      "metadata": {
        "id": "w4PlFLXxFhif"
      },
      "execution_count": null,
      "outputs": []
    }
  ]
}