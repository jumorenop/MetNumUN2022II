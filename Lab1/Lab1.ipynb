{
  "nbformat": 4,
  "nbformat_minor": 0,
  "metadata": {
    "colab": {
      "name": "Lab1.ipynb",
      "provenance": [],
      "collapsed_sections": [],
      "authorship_tag": "ABX9TyMLojWvKT39S7AteA14lVvx",
      "include_colab_link": true
    },
    "kernelspec": {
      "name": "python3",
      "display_name": "Python 3"
    },
    "language_info": {
      "name": "python"
    }
  },
  "cells": [
    {
      "cell_type": "markdown",
      "metadata": {
        "id": "view-in-github",
        "colab_type": "text"
      },
      "source": [
        "<a href=\"https://colab.research.google.com/github/jumorenop/MetNumUN2022II/blob/main/Lab1/Lab1.ipynb\" target=\"_parent\"><img src=\"https://colab.research.google.com/assets/colab-badge.svg\" alt=\"Open In Colab\"/></a>"
      ]
    },
    {
      "cell_type": "code",
      "execution_count": null,
      "metadata": {
        "id": "q3nr24OLE1iT"
      },
      "outputs": [],
      "source": [
        "Ejemplo 1"
      ]
    },
    {
      "cell_type": "code",
      "source": [
        "cuerdaing1 = 'Me gusta mucho'\n",
        "cuerdaing2 = \"comer hamburguesa\"\n",
        "print(cuerdaing1 + ' ' + cuerdaing2)"
      ],
      "metadata": {
        "id": "9Oec8BOwE5Yo"
      },
      "execution_count": null,
      "outputs": []
    },
    {
      "cell_type": "markdown",
      "source": [
        "Ejemplo 2"
      ],
      "metadata": {
        "id": "4go_ffyHFgCO"
      }
    },
    {
      "cell_type": "code",
      "source": [
        "my_string = \"23\"\n",
        "print(type(my_string))\n",
        "\n",
        "my_int = int(my_string)\n",
        "print(type(my_int))"
      ],
      "metadata": {
        "colab": {
          "base_uri": "https://localhost:8080/"
        },
        "id": "UYtGAe2iFgYF",
        "outputId": "7f6a52ea-146c-43fc-a8a8-6c6111f67189"
      },
      "execution_count": null,
      "outputs": [
        {
          "output_type": "stream",
          "name": "stdout",
          "text": [
            "<class 'str'>\n",
            "<class 'int'>\n"
          ]
        }
      ]
    },
    {
      "cell_type": "markdown",
      "source": [
        "Ejemplo 3"
      ],
      "metadata": {
        "id": "3syaroVAFmJn"
      }
    },
    {
      "cell_type": "code",
      "source": [
        "my_float = 1.7\n",
        "print(type(my_float))\n",
        "\n",
        "my_int = 1\n",
        "print(type(my_int))"
      ],
      "metadata": {
        "colab": {
          "base_uri": "https://localhost:8080/"
        },
        "id": "1KVqe7vRFic2",
        "outputId": "d34ed84f-a422-410b-9eb5-4dd6bfdbfab6"
      },
      "execution_count": null,
      "outputs": [
        {
          "output_type": "stream",
          "name": "stdout",
          "text": [
            "<class 'float'>\n",
            "<class 'int'>\n"
          ]
        }
      ]
    },
    {
      "cell_type": "markdown",
      "source": [
        "Ejemplo 4"
      ],
      "metadata": {
        "id": "bhGVuLLmFnX_"
      }
    },
    {
      "cell_type": "code",
      "source": [
        "f1 = 5.0\n",
        "print(type(f1))"
      ],
      "metadata": {
        "colab": {
          "base_uri": "https://localhost:8080/"
        },
        "id": "CB2_SQSHFiaM",
        "outputId": "241d4bb9-fd4d-48fe-98d9-fe92ba0bd453"
      },
      "execution_count": null,
      "outputs": [
        {
          "output_type": "stream",
          "name": "stdout",
          "text": [
            "<class 'float'>\n"
          ]
        }
      ]
    },
    {
      "cell_type": "markdown",
      "source": [
        "Ejemplo 5"
      ],
      "metadata": {
        "id": "_FJuKpuEFvRD"
      }
    },
    {
      "cell_type": "code",
      "source": [
        "ent = 11\n",
        "print(type(ent))"
      ],
      "metadata": {
        "colab": {
          "base_uri": "https://localhost:8080/"
        },
        "id": "w1ft5AXmFiX0",
        "outputId": "e8c6cf06-b7f8-4e4e-899a-dff6e4f9e141"
      },
      "execution_count": null,
      "outputs": [
        {
          "output_type": "stream",
          "name": "stdout",
          "text": [
            "<class 'int'>\n"
          ]
        }
      ]
    },
    {
      "cell_type": "markdown",
      "source": [
        "Ejemplo 6"
      ],
      "metadata": {
        "id": "16t9CA7gFxau"
      }
    },
    {
      "cell_type": "code",
      "source": [
        "print(\"SUMA \", 105+53)\n",
        "print(\"RESTA \", 724-54)"
      ],
      "metadata": {
        "colab": {
          "base_uri": "https://localhost:8080/"
        },
        "id": "yxmqNGrKFiVf",
        "outputId": "8f8f0178-74f1-4ad4-d594-ae8cf506e5fd"
      },
      "execution_count": null,
      "outputs": [
        {
          "output_type": "stream",
          "name": "stdout",
          "text": [
            "SUMA  158\n",
            "RESTA  670\n"
          ]
        }
      ]
    },
    {
      "cell_type": "markdown",
      "source": [
        "Ejemplo 7"
      ],
      "metadata": {
        "id": "fWl_A3X7FzcU"
      }
    },
    {
      "cell_type": "code",
      "source": [
        "boolean = True\n",
        "print(boolean)\n",
        "print(type(boolean))"
      ],
      "metadata": {
        "colab": {
          "base_uri": "https://localhost:8080/"
        },
        "id": "BU9EELMCFiTV",
        "outputId": "011fb11c-5854-4c99-9bfc-fd5ca51c371b"
      },
      "execution_count": null,
      "outputs": [
        {
          "output_type": "stream",
          "name": "stdout",
          "text": [
            "True\n",
            "<class 'bool'>\n"
          ]
        }
      ]
    },
    {
      "cell_type": "markdown",
      "source": [
        "Ejemplo 8"
      ],
      "metadata": {
        "id": "Y10t41zZGCZ_"
      }
    },
    {
      "cell_type": "code",
      "source": [
        "my_list = ['arroz', 'carne','papa']\n",
        "print(my_list)"
      ],
      "metadata": {
        "id": "Zsl6W9z8FiRQ",
        "colab": {
          "base_uri": "https://localhost:8080/"
        },
        "outputId": "67fa0102-378f-40c3-edc3-f557a2179840"
      },
      "execution_count": null,
      "outputs": [
        {
          "output_type": "stream",
          "name": "stdout",
          "text": [
            "['arroz', 'carne', 'papa']\n"
          ]
        }
      ]
    },
    {
      "cell_type": "markdown",
      "source": [
        "Ejemplo 9"
      ],
      "metadata": {
        "id": "l4xuJSEjGEEX"
      }
    },
    {
      "cell_type": "code",
      "source": [
        "valo = ['sova', 'fade','breach']\n",
        "print(type(valo))"
      ],
      "metadata": {
        "id": "Ao52Pa7LFiO2",
        "colab": {
          "base_uri": "https://localhost:8080/"
        },
        "outputId": "94a50b21-cd19-43c4-85bd-6e550e3d4a12"
      },
      "execution_count": null,
      "outputs": [
        {
          "output_type": "stream",
          "name": "stdout",
          "text": [
            "<class 'list'>\n"
          ]
        }
      ]
    },
    {
      "cell_type": "markdown",
      "source": [
        "Ejemplo 10"
      ],
      "metadata": {
        "id": "NWliF-ybGEfm"
      }
    },
    {
      "cell_type": "code",
      "source": [
        "print(len(valo))\n",
        "print(valo[1])\n",
        "print(len(valo) - 1)"
      ],
      "metadata": {
        "id": "r_YitX0ZFiMS",
        "colab": {
          "base_uri": "https://localhost:8080/"
        },
        "outputId": "15aad0f3-a916-43b0-9ae6-f0bddbfd358c"
      },
      "execution_count": null,
      "outputs": [
        {
          "output_type": "stream",
          "name": "stdout",
          "text": [
            "3\n",
            "fade\n",
            "2\n"
          ]
        }
      ]
    },
    {
      "cell_type": "markdown",
      "source": [
        "Ejemplo 11"
      ],
      "metadata": {
        "id": "G29iLd6uGFQJ"
      }
    },
    {
      "cell_type": "code",
      "source": [
        "print(valo[1:3])"
      ],
      "metadata": {
        "id": "45jQm_OlFiKE",
        "colab": {
          "base_uri": "https://localhost:8080/"
        },
        "outputId": "569ac8ca-5142-48d4-8bf6-5596ee5dd1e1"
      },
      "execution_count": null,
      "outputs": [
        {
          "output_type": "stream",
          "name": "stdout",
          "text": [
            "['fade', 'breach']\n"
          ]
        }
      ]
    },
    {
      "cell_type": "markdown",
      "source": [
        "Ejemplo 12"
      ],
      "metadata": {
        "id": "OIBpz-agllmv"
      }
    },
    {
      "cell_type": "code",
      "source": [
        "lista = ['Radamel', 'Falcao']\n",
        "lista.append('Radamel')\n",
        "print(lista)\n",
        "lista.remove('Falcao')\n",
        "print(lista)"
      ],
      "metadata": {
        "colab": {
          "base_uri": "https://localhost:8080/"
        },
        "id": "G3Le7Kbjlk3Y",
        "outputId": "81b8e4df-253d-499a-9cc2-d774d2f5b956"
      },
      "execution_count": null,
      "outputs": [
        {
          "output_type": "stream",
          "name": "stdout",
          "text": [
            "['Radamel', 'Falcao', 'Radamel']\n",
            "['Radamel', 'Radamel']\n"
          ]
        }
      ]
    },
    {
      "cell_type": "markdown",
      "source": [
        "Ejemplo 13"
      ],
      "metadata": {
        "id": "Du_iPHx9lnP6"
      }
    },
    {
      "cell_type": "code",
      "source": [
        "m1xwell = ('padre','del','valorant')\n",
        "print(m1xwell[:1])"
      ],
      "metadata": {
        "colab": {
          "base_uri": "https://localhost:8080/"
        },
        "id": "g5CGyY7qk4ZO",
        "outputId": "22e9b802-63e6-45bb-e5a9-74e714f5b1a1"
      },
      "execution_count": null,
      "outputs": [
        {
          "output_type": "stream",
          "name": "stdout",
          "text": [
            "('padre',)\n"
          ]
        }
      ]
    },
    {
      "cell_type": "markdown",
      "source": [
        "Ejemplo 14"
      ],
      "metadata": {
        "id": "JiYjgUD_lnvx"
      }
    },
    {
      "cell_type": "code",
      "source": [
        "valorant = ['vandal', 'phantom', 'ghost', 'spectre', 'operator', 'bulldog']\n",
        "set_padre = set(valorant)\n",
        "print(set_padre)"
      ],
      "metadata": {
        "id": "yqSfnEptFiIM",
        "colab": {
          "base_uri": "https://localhost:8080/"
        },
        "outputId": "4c08683c-c7fd-4945-9e12-3e4ceb7593e7"
      },
      "execution_count": null,
      "outputs": [
        {
          "output_type": "stream",
          "name": "stdout",
          "text": [
            "{'bulldog', 'phantom', 'vandal', 'ghost', 'spectre', 'operator'}\n"
          ]
        }
      ]
    },
    {
      "cell_type": "markdown",
      "source": [
        "Ejemplo 15"
      ],
      "metadata": {
        "id": "dkNYHm5nloHk"
      }
    },
    {
      "cell_type": "code",
      "source": [
        "str = 'BRRRRRRRRRRR ELECTROCUTADOS'\n",
        "print(str[:20])"
      ],
      "metadata": {
        "id": "_NEmlprQFiFm",
        "colab": {
          "base_uri": "https://localhost:8080/"
        },
        "outputId": "c835de7c-7a72-454d-8d91-5b468272ffd9"
      },
      "execution_count": null,
      "outputs": [
        {
          "output_type": "stream",
          "name": "stdout",
          "text": [
            "BRRRRRRRRRRR ELECTRO\n"
          ]
        }
      ]
    },
    {
      "cell_type": "markdown",
      "source": [
        "Ejemplo 16"
      ],
      "metadata": {
        "id": "K9OFVBCnlomE"
      }
    },
    {
      "cell_type": "code",
      "source": [
        "str = 'BRRRRRRRRRRR ELECTROCUTADOS'\n",
        "print(str[2:])\n",
        "print(\"Counting the number of E in this sentence\".count('e'))"
      ],
      "metadata": {
        "id": "zzzvRNnVFiCy",
        "colab": {
          "base_uri": "https://localhost:8080/"
        },
        "outputId": "cfaa4b2e-9af7-4f7b-e2e5-b31c2fc1fa71"
      },
      "execution_count": null,
      "outputs": [
        {
          "output_type": "stream",
          "name": "stdout",
          "text": [
            "RRRRRRRRRR ELECTROCUTADOS\n",
            "5\n"
          ]
        }
      ]
    },
    {
      "cell_type": "markdown",
      "source": [
        "Ejemplo 17"
      ],
      "metadata": {
        "id": "v5owuuX_lpAr"
      }
    },
    {
      "cell_type": "code",
      "source": [
        "c = 0\n",
        "for i in range(10):\n",
        "    c = c + i\n",
        "    print(c)"
      ],
      "metadata": {
        "id": "A-hxn_UFFiAU",
        "colab": {
          "base_uri": "https://localhost:8080/"
        },
        "outputId": "a000bc57-9686-4fee-e23e-9f4549b8c400"
      },
      "execution_count": null,
      "outputs": [
        {
          "output_type": "stream",
          "name": "stdout",
          "text": [
            "0\n",
            "1\n",
            "3\n",
            "6\n",
            "10\n",
            "15\n",
            "21\n",
            "28\n",
            "36\n",
            "45\n"
          ]
        }
      ]
    },
    {
      "cell_type": "markdown",
      "source": [
        "Ejemplo 18"
      ],
      "metadata": {
        "id": "AAcG3RG1LDec"
      }
    },
    {
      "cell_type": "code",
      "source": [
        "import numpy as np\n",
        "import pandas as pd"
      ],
      "metadata": {
        "id": "xx_PNaDXFh-R"
      },
      "execution_count": null,
      "outputs": []
    },
    {
      "cell_type": "markdown",
      "source": [
        "Ejemplo 19"
      ],
      "metadata": {
        "id": "9qvWJsUeLEnx"
      }
    },
    {
      "cell_type": "code",
      "source": [
        "import matplotlib.pyplot as plt"
      ],
      "metadata": {
        "id": "YWjitgxuFh8K"
      },
      "execution_count": null,
      "outputs": []
    },
    {
      "cell_type": "markdown",
      "source": [
        "Ejemplo 20"
      ],
      "metadata": {
        "id": "B_jC_01wLIDE"
      }
    },
    {
      "cell_type": "code",
      "source": [
        "X = np.random.normal(0, 1, 100)\n",
        "plt.plot(X)"
      ],
      "metadata": {
        "id": "bCgRUIM5Fh5i",
        "colab": {
          "base_uri": "https://localhost:8080/",
          "height": 282
        },
        "outputId": "749c5184-cfef-4c09-fe32-4b050fe8a17c"
      },
      "execution_count": null,
      "outputs": [
        {
          "output_type": "execute_result",
          "data": {
            "text/plain": [
              "[<matplotlib.lines.Line2D at 0x7ff6201cc650>]"
            ]
          },
          "metadata": {},
          "execution_count": 9
        },
        {
          "output_type": "display_data",
          "data": {
            "text/plain": [
              "<Figure size 432x288 with 1 Axes>"
            ],
            "image/png": "[encoded data removed]"
          },
          "metadata": {
            "needs_background": "light"
          }
        }
      ]
    },
    {
      "cell_type": "markdown",
      "source": [
        "Ejemplo 21"
      ],
      "metadata": {
        "id": "V06WMZ9mLJVM"
      }
    },
    {
      "cell_type": "code",
      "source": [
        "X = np.random.normal(0, 1, 20)\n",
        "plt.plot(X)"
      ],
      "metadata": {
        "id": "MTjDBH-jFh3M",
        "colab": {
          "base_uri": "https://localhost:8080/",
          "height": 282
        },
        "outputId": "fb516fd1-65b6-4be0-9e43-c5d2d714dc0f"
      },
      "execution_count": null,
      "outputs": [
        {
          "output_type": "execute_result",
          "data": {
            "text/plain": [
              "[<matplotlib.lines.Line2D at 0x7ff61fcc3b90>]"
            ]
          },
          "metadata": {},
          "execution_count": 11
        },
        {
          "output_type": "display_data",
          "data": {
            "text/plain": [
              "<Figure size 432x288 with 1 Axes>"
            ],
            "image/png": "[encoded data removed]"
          },
          "metadata": {
            "needs_background": "light"
          }
        }
      ]
    },
    {
      "cell_type": "markdown",
      "source": [
        "Ejemplo 22"
      ],
      "metadata": {
        "id": "diCva80gMTYz"
      }
    },
    {
      "cell_type": "code",
      "source": [
        "entero = 50\n",
        "print (entero, type(entero))"
      ],
      "metadata": {
        "id": "uwQwDrOrMS0y",
        "colab": {
          "base_uri": "https://localhost:8080/"
        },
        "outputId": "323fab3e-2c8f-48b1-9459-e408be47473e"
      },
      "execution_count": null,
      "outputs": [
        {
          "output_type": "stream",
          "name": "stdout",
          "text": [
            "50 <class 'int'>\n"
          ]
        }
      ]
    },
    {
      "cell_type": "markdown",
      "source": [
        "Ejemplo 23"
      ],
      "metadata": {
        "id": "JBbTl9YFMV46"
      }
    },
    {
      "cell_type": "code",
      "source": [
        "print ('Suma: ', 12+54)"
      ],
      "metadata": {
        "id": "W15GzDhMMPMS",
        "colab": {
          "base_uri": "https://localhost:8080/"
        },
        "outputId": "7b641e0e-9c01-4455-bbdb-6325d869d8fa"
      },
      "execution_count": null,
      "outputs": [
        {
          "output_type": "stream",
          "name": "stdout",
          "text": [
            "Addition:  66\n"
          ]
        }
      ]
    },
    {
      "cell_type": "markdown",
      "source": [
        "Ejemplo 24"
      ],
      "metadata": {
        "id": "W3LPjpCCMXMf"
      }
    },
    {
      "cell_type": "code",
      "source": [
        "print ('Módulo: ', 150%4) #modulo: restante de la division"
      ],
      "metadata": {
        "id": "zDfVY_UBFh0u",
        "colab": {
          "base_uri": "https://localhost:8080/"
        },
        "outputId": "8fe321d4-d19c-48fb-df87-408a8ed5fce5"
      },
      "execution_count": null,
      "outputs": [
        {
          "output_type": "stream",
          "name": "stdout",
          "text": [
            "Modulo:  2\n"
          ]
        }
      ]
    },
    {
      "cell_type": "markdown",
      "source": [
        "Ejemplo 25"
      ],
      "metadata": {
        "id": "gUtJLb1bMYdL"
      }
    },
    {
      "cell_type": "code",
      "source": [
        "my_float = float(1)\n",
        "print ((my_float), type(my_float))"
      ],
      "metadata": {
        "id": "nElSIGoHMQia",
        "colab": {
          "base_uri": "https://localhost:8080/"
        },
        "outputId": "df7f6e41-01cf-4535-8f58-63c9e66ecbcf"
      },
      "execution_count": null,
      "outputs": [
        {
          "output_type": "stream",
          "name": "stdout",
          "text": [
            "1.0 <class 'float'>\n"
          ]
        }
      ]
    },
    {
      "cell_type": "markdown",
      "source": [
        "Ejemplo 26"
      ],
      "metadata": {
        "id": "A5FU-MGjMZgK"
      }
    },
    {
      "cell_type": "code",
      "source": [
        "import math\n",
        "print ('seno de pi: ', math.sin(math.pi))\n",
        "plt.plot(math.sin(math.pi))"
      ],
      "metadata": {
        "id": "oLY-I1IOFhwX",
        "colab": {
          "base_uri": "https://localhost:8080/",
          "height": 311
        },
        "outputId": "bfe5015a-c815-46ad-ec08-15b22a2c451d"
      },
      "execution_count": null,
      "outputs": [
        {
          "output_type": "stream",
          "name": "stdout",
          "text": [
            "seno de pi:  1.2246467991473532e-16\n"
          ]
        },
        {
          "output_type": "execute_result",
          "data": {
            "text/plain": [
              "[<matplotlib.lines.Line2D at 0x7ff61f8701d0>]"
            ]
          },
          "metadata": {},
          "execution_count": 30
        },
        {
          "output_type": "display_data",
          "data": {
            "text/plain": [
              "<Figure size 432x288 with 1 Axes>"
            ],
            "image/png": "[encoded data removed]"
          },
          "metadata": {
            "needs_background": "light"
          }
        }
      ]
    },
    {
      "cell_type": "markdown",
      "source": [
        "Ejemplo 27"
      ],
      "metadata": {
        "id": "dNMlM0lOMavy"
      }
    },
    {
      "cell_type": "code",
      "source": [
        "lista=[1,3,5,7]\n",
        "print (lista, len(lista))"
      ],
      "metadata": {
        "id": "wHOfriseFhrJ",
        "colab": {
          "base_uri": "https://localhost:8080/"
        },
        "outputId": "3f375f4f-0c97-449b-8278-f68868f3e5c4"
      },
      "execution_count": null,
      "outputs": [
        {
          "output_type": "stream",
          "name": "stdout",
          "text": [
            "[1, 3, 5, 7] 4\n"
          ]
        }
      ]
    },
    {
      "cell_type": "markdown",
      "source": [
        "Ejemplo 28"
      ],
      "metadata": {
        "id": "bZ15EnzmMcAi"
      }
    },
    {
      "cell_type": "code",
      "source": [
        "lista[0] = 42\n",
        "lista[3]= math.pi\n",
        "print (lista)"
      ],
      "metadata": {
        "id": "w4PlFLXxFhif",
        "colab": {
          "base_uri": "https://localhost:8080/"
        },
        "outputId": "20b4ea69-bb7b-4039-e69a-9757c1127aa7"
      },
      "execution_count": null,
      "outputs": [
        {
          "output_type": "stream",
          "name": "stdout",
          "text": [
            "[42, 3, 5, 3.141592653589793]\n"
          ]
        }
      ]
    },
    {
      "cell_type": "markdown",
      "source": [
        "Ejemplo 29"
      ],
      "metadata": {
        "id": "EzYSkpcYMdLy"
      }
    },
    {
      "cell_type": "code",
      "source": [
        "print (lista [0], lista [3])"
      ],
      "metadata": {
        "id": "ukVSkCofMe2S",
        "colab": {
          "base_uri": "https://localhost:8080/"
        },
        "outputId": "db9486cc-315c-4803-e9ce-e9661dc8feb4"
      },
      "execution_count": null,
      "outputs": [
        {
          "output_type": "stream",
          "name": "stdout",
          "text": [
            "42 3.141592653589793\n"
          ]
        }
      ]
    },
    {
      "cell_type": "markdown",
      "source": [
        "Ejemplo 30"
      ],
      "metadata": {
        "id": "wTSaAm5MMfXC"
      }
    },
    {
      "cell_type": "code",
      "source": [
        "lista2=['carne','pollo','pescado']\n",
        "lista3=['santa fe','nacional','medellin']\n",
        "listat = lista + lista2 + lista3\n",
        "print (listat)"
      ],
      "metadata": {
        "id": "U1gP56DNMm6D",
        "colab": {
          "base_uri": "https://localhost:8080/"
        },
        "outputId": "24639a42-2710-4a35-b6fc-e127c6f02a48"
      },
      "execution_count": null,
      "outputs": [
        {
          "output_type": "stream",
          "name": "stdout",
          "text": [
            "[42, 3, 5, 3.141592653589793, 'carne', 'pollo', 'pescado', 'santa fe', 'nacional', 'medellin']\n"
          ]
        }
      ]
    },
    {
      "cell_type": "markdown",
      "source": [
        "Ejemplo 31"
      ],
      "metadata": {
        "id": "qoz80CraMnQ6"
      }
    },
    {
      "cell_type": "code",
      "source": [
        "xd=[1,2,3,4,5,6,7,8,9]\n",
        "print (xd[0:8:2])"
      ],
      "metadata": {
        "id": "qEge3-RJMpCy",
        "colab": {
          "base_uri": "https://localhost:8080/"
        },
        "outputId": "59ca75aa-20cb-4272-b287-5230b4d56a61"
      },
      "execution_count": null,
      "outputs": [
        {
          "output_type": "stream",
          "name": "stdout",
          "text": [
            "[1, 3, 5, 7]\n"
          ]
        }
      ]
    },
    {
      "cell_type": "markdown",
      "source": [
        "Ejemplo 32"
      ],
      "metadata": {
        "id": "X_yNW9tbMpZj"
      }
    },
    {
      "cell_type": "code",
      "source": [
        "print (xd[::3])"
      ],
      "metadata": {
        "id": "2zHpjOxiMpx8",
        "colab": {
          "base_uri": "https://localhost:8080/"
        },
        "outputId": "384fac0b-1366-414d-d02d-ad049cebf2d2"
      },
      "execution_count": null,
      "outputs": [
        {
          "output_type": "stream",
          "name": "stdout",
          "text": [
            "[1, 4, 7]\n"
          ]
        }
      ]
    },
    {
      "cell_type": "markdown",
      "source": [
        "Ejemplo 33"
      ],
      "metadata": {
        "id": "tubceEMKMqDC"
      }
    },
    {
      "cell_type": "code",
      "source": [
        "print (xd[:])"
      ],
      "metadata": {
        "id": "cC--U22kMqxS",
        "colab": {
          "base_uri": "https://localhost:8080/"
        },
        "outputId": "b734296a-7b40-4623-f78d-fd4b0928f9ce"
      },
      "execution_count": null,
      "outputs": [
        {
          "output_type": "stream",
          "name": "stdout",
          "text": [
            "[1, 2, 3, 4, 5, 6, 7, 8, 9]\n"
          ]
        }
      ]
    },
    {
      "cell_type": "markdown",
      "source": [
        "Ejemplo 34"
      ],
      "metadata": {
        "id": "qQxM-AFAMrMs"
      }
    },
    {
      "cell_type": "code",
      "source": [
        "print (xd[::-1])"
      ],
      "metadata": {
        "id": "gLxIdf0TMr-b",
        "colab": {
          "base_uri": "https://localhost:8080/"
        },
        "outputId": "85f8bb33-4e98-4415-b409-91dadb6d31f3"
      },
      "execution_count": null,
      "outputs": [
        {
          "output_type": "stream",
          "name": "stdout",
          "text": [
            "[9, 8, 7, 6, 5, 4, 3, 2, 1]\n"
          ]
        }
      ]
    },
    {
      "cell_type": "markdown",
      "source": [
        "Ejemplo 35"
      ],
      "metadata": {
        "id": "J5zruiNpMsKq"
      }
    },
    {
      "cell_type": "code",
      "source": [
        "b = 10\n",
        "rr = range(b)\n",
        "print (rr)"
      ],
      "metadata": {
        "id": "5cVFoCvFMtCy",
        "colab": {
          "base_uri": "https://localhost:8080/"
        },
        "outputId": "7c2ed00a-e6cb-4202-b293-6e9884aa3c81"
      },
      "execution_count": null,
      "outputs": [
        {
          "output_type": "stream",
          "name": "stdout",
          "text": [
            "range(0, 10)\n"
          ]
        }
      ]
    },
    {
      "cell_type": "markdown",
      "source": [
        "Ejemplo 36"
      ],
      "metadata": {
        "id": "5vl754DPMtOy"
      }
    },
    {
      "cell_type": "code",
      "source": [
        "a = 0\n",
        "b = 10\n",
        "rr = range(a, b)\n",
        "print (rr)"
      ],
      "metadata": {
        "id": "EvDOpOVfMt-K",
        "colab": {
          "base_uri": "https://localhost:8080/"
        },
        "outputId": "3ea8ad27-c879-41dc-970d-6ba844aabad9"
      },
      "execution_count": null,
      "outputs": [
        {
          "output_type": "stream",
          "name": "stdout",
          "text": [
            "range(0, 10)\n"
          ]
        }
      ]
    },
    {
      "cell_type": "markdown",
      "source": [
        "Ejemplo 37"
      ],
      "metadata": {
        "id": "ys4I-1myMuHu"
      }
    },
    {
      "cell_type": "code",
      "source": [
        "paso = 2\n",
        "my_list = range(a, b, paso)\n",
        "print (rr)"
      ],
      "metadata": {
        "id": "Zl_11-KvMxj6",
        "colab": {
          "base_uri": "https://localhost:8080/"
        },
        "outputId": "28e21f5d-4233-493b-e1cb-9cda2136453c"
      },
      "execution_count": null,
      "outputs": [
        {
          "output_type": "stream",
          "name": "stdout",
          "text": [
            "range(0, 10)\n"
          ]
        }
      ]
    },
    {
      "cell_type": "markdown",
      "source": [
        "Ejemplo 38"
      ],
      "metadata": {
        "id": "iDTeQECEMx8q"
      }
    },
    {
      "cell_type": "code",
      "source": [
        "tt = ('Me', 'gusta', 'el', 'fútbol')\n",
        "print (tt)"
      ],
      "metadata": {
        "id": "accswD80MyvK",
        "colab": {
          "base_uri": "https://localhost:8080/"
        },
        "outputId": "20c8bb03-9596-446b-f65c-49a49aa56e58"
      },
      "execution_count": null,
      "outputs": [
        {
          "output_type": "stream",
          "name": "stdout",
          "text": [
            "('Me', 'gusta', 'el', 'fútbol')\n"
          ]
        }
      ]
    },
    {
      "cell_type": "markdown",
      "source": [
        "Ejemplo 39"
      ],
      "metadata": {
        "id": "4XRubH5ZMzAT"
      }
    },
    {
      "cell_type": "code",
      "source": [
        "print (tt[1:3])"
      ],
      "metadata": {
        "id": "vZJpIobKM3G6",
        "colab": {
          "base_uri": "https://localhost:8080/"
        },
        "outputId": "bb526098-82c7-44f2-eb91-66d12681014e"
      },
      "execution_count": null,
      "outputs": [
        {
          "output_type": "stream",
          "name": "stdout",
          "text": [
            "('gusta', 'el')\n"
          ]
        }
      ]
    },
    {
      "cell_type": "markdown",
      "source": [
        "Ejemplo 40"
      ],
      "metadata": {
        "id": "VO3ZDhFuM3Q6"
      }
    },
    {
      "cell_type": "code",
      "source": [
        "ttt = ('de', 'Inglaterra', 'y', 'España')\n",
        "print (tt+ttt)"
      ],
      "metadata": {
        "id": "3heFeZDVM4Lm",
        "colab": {
          "base_uri": "https://localhost:8080/"
        },
        "outputId": "eaf380cd-c068-41d4-80a2-c835ec568254"
      },
      "execution_count": null,
      "outputs": [
        {
          "output_type": "stream",
          "name": "stdout",
          "text": [
            "('Me', 'gusta', 'el', 'fútbol', 'de', 'Inglaterra', 'y', 'España')\n"
          ]
        }
      ]
    },
    {
      "cell_type": "markdown",
      "source": [
        "Ejemplo 41"
      ],
      "metadata": {
        "id": "3rjSCUbfM4VB"
      }
    },
    {
      "cell_type": "code",
      "source": [
        "mejorcomida = {'mexicana', 'colombiana', 'italiana', 'china'}\n",
        "print (mejorcomida, type(mejorcomida))"
      ],
      "metadata": {
        "id": "yacSrf4-M40C",
        "colab": {
          "base_uri": "https://localhost:8080/"
        },
        "outputId": "a6d99104-3f29-41d2-82cb-39bc6c129fa5"
      },
      "execution_count": null,
      "outputs": [
        {
          "output_type": "stream",
          "name": "stdout",
          "text": [
            "{'italiana', 'mexicana', 'china', 'colombiana'} <class 'set'>\n"
          ]
        }
      ]
    },
    {
      "cell_type": "markdown",
      "source": [
        "Ejemplo 42"
      ],
      "metadata": {
        "id": "XodgGbigM5Pp"
      }
    },
    {
      "cell_type": "code",
      "source": [
        "dicci = {\"FPS\": [\"valorant\", \"csgo\"], \n",
        "           \"deporte\": [\"FIFA\", \"NBA\", \"Madden\"],\n",
        "           \"carreras\": [\"Forza\", \"NFS\"]}\n",
        "print (dicci[\"FPS\"])"
      ],
      "metadata": {
        "id": "FHb-8Eg4M6Wr",
        "colab": {
          "base_uri": "https://localhost:8080/"
        },
        "outputId": "3a1bb106-9356-46bf-e2cc-2ae942f989f7"
      },
      "execution_count": null,
      "outputs": [
        {
          "output_type": "stream",
          "name": "stdout",
          "text": [
            "['valorant', 'csgo']\n"
          ]
        }
      ]
    },
    {
      "cell_type": "markdown",
      "source": [
        "Ejemplo 43"
      ],
      "metadata": {
        "id": "koj43YecM6iC"
      }
    },
    {
      "cell_type": "code",
      "source": [
        "dicci[\"FPS\"]= \"halo\"\n",
        "print (dicci[\"FPS\"])"
      ],
      "metadata": {
        "id": "qRF7Jo4GNOsZ",
        "colab": {
          "base_uri": "https://localhost:8080/"
        },
        "outputId": "fa6e2ab9-4955-40aa-f591-a8d14e16117a"
      },
      "execution_count": null,
      "outputs": [
        {
          "output_type": "stream",
          "name": "stdout",
          "text": [
            "halo\n"
          ]
        }
      ]
    },
    {
      "cell_type": "markdown",
      "source": [
        "Ejemplo 44"
      ],
      "metadata": {
        "id": "NBmbU6AkNPA5"
      }
    },
    {
      "cell_type": "code",
      "source": [
        "hilo1 = 'Radamel'\n",
        "hilo2 = \"Falcao\"\n",
        "print(hilo1 + ' ' + hilo2)"
      ],
      "metadata": {
        "id": "vNOzKS1xNPnx",
        "colab": {
          "base_uri": "https://localhost:8080/"
        },
        "outputId": "bef96fd8-6129-469f-add7-407a6b719210"
      },
      "execution_count": 1,
      "outputs": [
        {
          "output_type": "stream",
          "name": "stdout",
          "text": [
            "Radamel Falcao\n"
          ]
        }
      ]
    },
    {
      "cell_type": "markdown",
      "source": [
        "Ejemplo 45"
      ],
      "metadata": {
        "id": "ZNatOaYGNP2R"
      }
    },
    {
      "cell_type": "code",
      "source": [
        "entero = 15\n",
        "print(entero)\n",
        "print(type(entero))"
      ],
      "metadata": {
        "id": "Ck0CEK1cNQch",
        "colab": {
          "base_uri": "https://localhost:8080/"
        },
        "outputId": "24941fa0-e3e2-4603-cd3a-08abd8a4cc00"
      },
      "execution_count": 2,
      "outputs": [
        {
          "output_type": "stream",
          "name": "stdout",
          "text": [
            "15\n",
            "<class 'int'>\n"
          ]
        }
      ]
    },
    {
      "cell_type": "markdown",
      "source": [
        "Ejemplo 46"
      ],
      "metadata": {
        "id": "AOTVFNCFNQqR"
      }
    },
    {
      "cell_type": "code",
      "source": [
        "hill = \"100\"\n",
        "print(type(hill))\n",
        "mient = int(hill)\n",
        "print(type(mient))\n",
        "print (mient)"
      ],
      "metadata": {
        "id": "I2QHcSPyNVkL",
        "colab": {
          "base_uri": "https://localhost:8080/"
        },
        "outputId": "82daaf4f-6e54-44fe-b075-abbb71752a67"
      },
      "execution_count": 4,
      "outputs": [
        {
          "output_type": "stream",
          "name": "stdout",
          "text": [
            "<class 'str'>\n",
            "<class 'int'>\n",
            "100\n"
          ]
        }
      ]
    },
    {
      "cell_type": "markdown",
      "source": [
        "Ejemplo 47"
      ],
      "metadata": {
        "id": "JpUguS0cNVvp"
      }
    },
    {
      "cell_type": "code",
      "source": [
        "boo = True\n",
        "print(boo)\n",
        "print(type(boo))"
      ],
      "metadata": {
        "id": "jbv-GuBDNWYp",
        "colab": {
          "base_uri": "https://localhost:8080/"
        },
        "outputId": "ed20fbf9-beec-44ca-ac27-2bb8c3620621"
      },
      "execution_count": 5,
      "outputs": [
        {
          "output_type": "stream",
          "name": "stdout",
          "text": [
            "True\n",
            "<class 'bool'>\n"
          ]
        }
      ]
    },
    {
      "cell_type": "markdown",
      "source": [
        "Ejemplo 48"
      ],
      "metadata": {
        "id": "gmi-ou_-NWiB"
      }
    },
    {
      "cell_type": "code",
      "source": [
        "import math\n",
        "print('pi**4= ', math.pi**4)"
      ],
      "metadata": {
        "id": "WuU01zmFNW4J",
        "colab": {
          "base_uri": "https://localhost:8080/"
        },
        "outputId": "be02d008-3b33-43ae-e645-46066939a454"
      },
      "execution_count": 10,
      "outputs": [
        {
          "output_type": "stream",
          "name": "stdout",
          "text": [
            "pi**4=  97.40909103400242\n"
          ]
        }
      ]
    },
    {
      "cell_type": "markdown",
      "source": [
        "Ejemplo 49"
      ],
      "metadata": {
        "id": "baPPxD_qNXD8"
      }
    },
    {
      "cell_type": "code",
      "source": [
        "print('El bebé se mece'.count('e'))"
      ],
      "metadata": {
        "id": "s6z6JoXINXaB",
        "colab": {
          "base_uri": "https://localhost:8080/"
        },
        "outputId": "43febcee-e334-45bc-cb31-5af456401c57"
      },
      "execution_count": 11,
      "outputs": [
        {
          "output_type": "stream",
          "name": "stdout",
          "text": [
            "4\n"
          ]
        }
      ]
    },
    {
      "cell_type": "markdown",
      "source": [
        "Ejemplo 50"
      ],
      "metadata": {
        "id": "JUfy-tt2NXmS"
      }
    },
    {
      "cell_type": "code",
      "source": [
        "print('El bebé se mece'.find('e'))"
      ],
      "metadata": {
        "id": "lKjEGbK6auag",
        "colab": {
          "base_uri": "https://localhost:8080/"
        },
        "outputId": "46277fb0-0473-472b-db15-0021a2930c58"
      },
      "execution_count": 12,
      "outputs": [
        {
          "output_type": "stream",
          "name": "stdout",
          "text": [
            "4\n"
          ]
        }
      ]
    },
    {
      "cell_type": "markdown",
      "source": [
        "Ejemplo 51"
      ],
      "metadata": {
        "id": "eEiRUtA8CU_4"
      }
    },
    {
      "cell_type": "code",
      "source": [
        "print('El bebé se mece'.replace('e','a'))"
      ],
      "metadata": {
        "colab": {
          "base_uri": "https://localhost:8080/"
        },
        "id": "udy6XObXCUN6",
        "outputId": "fb140250-b7a7-4ecc-830d-27fa8ddc5d59"
      },
      "execution_count": 15,
      "outputs": [
        {
          "output_type": "stream",
          "name": "stdout",
          "text": [
            "El babé sa maca\n"
          ]
        }
      ]
    },
    {
      "cell_type": "markdown",
      "source": [
        "Ejemplo 52"
      ],
      "metadata": {
        "id": "DO6uInQbCqIk"
      }
    },
    {
      "cell_type": "code",
      "source": [
        "fecha = '2022-08-24 09:43:00'\n",
        "splited_list = fecha.split(' ')\n",
        "dia = splited_list[0]\n",
        "hora = splited_list[1]\n",
        "print(dia, hora)\n",
        "hora = fecha.split(':')[0]\n",
        "print(hora)"
      ],
      "metadata": {
        "colab": {
          "base_uri": "https://localhost:8080/"
        },
        "id": "GsJ0YiCyCqb7",
        "outputId": "dee34f9e-f142-40a1-eb7d-235dc87dbba0"
      },
      "execution_count": 22,
      "outputs": [
        {
          "output_type": "stream",
          "name": "stdout",
          "text": [
            "2022-08-24 09:43:00\n",
            "2022-08-24 09\n"
          ]
        }
      ]
    },
    {
      "cell_type": "markdown",
      "source": [
        "Ejemplo 53"
      ],
      "metadata": {
        "id": "FP5nZ7FyDqOT"
      }
    },
    {
      "cell_type": "code",
      "source": [
        "qhora = 'hora: {}, Minuto:{}'.format('01','15')\n",
        "print(qhora)"
      ],
      "metadata": {
        "colab": {
          "base_uri": "https://localhost:8080/"
        },
        "id": "T4xqistkDqbr",
        "outputId": "e2a6661b-3491-47b4-f942-a0e724a0162e"
      },
      "execution_count": 23,
      "outputs": [
        {
          "output_type": "stream",
          "name": "stdout",
          "text": [
            "hora: 01, Minuto:15\n"
          ]
        }
      ]
    },
    {
      "cell_type": "markdown",
      "source": [
        "Ejemplo 54"
      ],
      "metadata": {
        "id": "Lt1ZxhkzELta"
      }
    },
    {
      "cell_type": "code",
      "source": [
        "print('%s el %s'%('soy','mejor'))"
      ],
      "metadata": {
        "colab": {
          "base_uri": "https://localhost:8080/"
        },
        "id": "B9UQA5IaEL4r",
        "outputId": "b809e842-f1db-4218-969d-3e87c4918e76"
      },
      "execution_count": 24,
      "outputs": [
        {
          "output_type": "stream",
          "name": "stdout",
          "text": [
            "soy el mejor\n"
          ]
        }
      ]
    },
    {
      "cell_type": "markdown",
      "source": [
        "Ejemplo 55"
      ],
      "metadata": {
        "id": "fIw5ODqfEYui"
      }
    },
    {
      "cell_type": "code",
      "source": [
        "print(0/math.inf)"
      ],
      "metadata": {
        "colab": {
          "base_uri": "https://localhost:8080/"
        },
        "id": "WkQs6kg_EY5i",
        "outputId": "48b9bc71-b8f5-4cd0-e17b-4f747a95ad53"
      },
      "execution_count": 25,
      "outputs": [
        {
          "output_type": "stream",
          "name": "stdout",
          "text": [
            "0.0\n"
          ]
        }
      ]
    },
    {
      "cell_type": "markdown",
      "source": [
        "Ejemplo 56"
      ],
      "metadata": {
        "id": "wvOYwrhUEZH5"
      }
    },
    {
      "cell_type": "code",
      "source": [
        "print(math.inf*5)\n",
        "print(type(math.inf*5))"
      ],
      "metadata": {
        "colab": {
          "base_uri": "https://localhost:8080/"
        },
        "id": "9Gn2XogUEZZg",
        "outputId": "efb4b0c8-f140-4a95-9e9d-02fdc86dc994"
      },
      "execution_count": 27,
      "outputs": [
        {
          "output_type": "stream",
          "name": "stdout",
          "text": [
            "inf\n",
            "<class 'float'>\n"
          ]
        }
      ]
    },
    {
      "cell_type": "markdown",
      "source": [
        "Ejemplo 57"
      ],
      "metadata": {
        "id": "8x8bjVDPEZrr"
      }
    },
    {
      "cell_type": "code",
      "source": [
        "print('el numero de euler es %f'%math.e)"
      ],
      "metadata": {
        "colab": {
          "base_uri": "https://localhost:8080/"
        },
        "id": "pfJ8bUdWEZ5e",
        "outputId": "093fed77-52a6-4a9c-cbd7-05dd02a64bca"
      },
      "execution_count": 28,
      "outputs": [
        {
          "output_type": "stream",
          "name": "stdout",
          "text": [
            "el numero de euler es 2.718282\n"
          ]
        }
      ]
    },
    {
      "cell_type": "markdown",
      "source": [
        "Ejemplo 58"
      ],
      "metadata": {
        "id": "fy7atO7nEaJU"
      }
    },
    {
      "cell_type": "code",
      "source": [
        "cuerd = 'yo soy el peor de nosotros'\n",
        "print(cuerd[7:])"
      ],
      "metadata": {
        "colab": {
          "base_uri": "https://localhost:8080/"
        },
        "id": "Q6upn8_KEaZ5",
        "outputId": "ebc8fdd4-c1b2-486b-e538-b09a129b53dd"
      },
      "execution_count": 32,
      "outputs": [
        {
          "output_type": "stream",
          "name": "stdout",
          "text": [
            "el peor de nosotros\n"
          ]
        }
      ]
    },
    {
      "cell_type": "markdown",
      "source": [
        "Ejemplo 59"
      ],
      "metadata": {
        "id": "3PU-81IgEa1P"
      }
    },
    {
      "cell_type": "code",
      "source": [
        "dix = {'val':'valorant', 'cs':'counter strike', 'nfs':'need for speed'}\n",
        "print(dix['cs'])"
      ],
      "metadata": {
        "colab": {
          "base_uri": "https://localhost:8080/"
        },
        "id": "QvX6DML8EbAT",
        "outputId": "07c06445-759a-4f20-f2f2-fe8673e22fe9"
      },
      "execution_count": 33,
      "outputs": [
        {
          "output_type": "stream",
          "name": "stdout",
          "text": [
            "counter strike\n"
          ]
        }
      ]
    },
    {
      "cell_type": "markdown",
      "source": [
        "Ejemplo 60"
      ],
      "metadata": {
        "id": "ZnvIAdwmEbJu"
      }
    },
    {
      "cell_type": "code",
      "source": [
        "dix['cs'] = 'fps'\n",
        "print(dix['cs'])"
      ],
      "metadata": {
        "colab": {
          "base_uri": "https://localhost:8080/"
        },
        "id": "oZCN3IlzEba_",
        "outputId": "90493e94-2622-4eed-eb0b-93a4cc19daec"
      },
      "execution_count": 34,
      "outputs": [
        {
          "output_type": "stream",
          "name": "stdout",
          "text": [
            "fps\n"
          ]
        }
      ]
    },
    {
      "cell_type": "markdown",
      "source": [
        "Ejemplo 61"
      ],
      "metadata": {
        "id": "lH9V9_FxFTdO"
      }
    },
    {
      "cell_type": "code",
      "source": [
        "print(0>5)"
      ],
      "metadata": {
        "colab": {
          "base_uri": "https://localhost:8080/"
        },
        "id": "cFJORUPCFT3u",
        "outputId": "f6c1b036-0b42-480c-e778-1730acac74c5"
      },
      "execution_count": 35,
      "outputs": [
        {
          "output_type": "stream",
          "name": "stdout",
          "text": [
            "False\n"
          ]
        }
      ]
    },
    {
      "cell_type": "markdown",
      "source": [
        "Ejemplo 62"
      ],
      "metadata": {
        "id": "yrWQbfZLFUEn"
      }
    },
    {
      "cell_type": "code",
      "source": [
        "print(5 != -5)"
      ],
      "metadata": {
        "colab": {
          "base_uri": "https://localhost:8080/"
        },
        "id": "K4967AhYFUrf",
        "outputId": "fcf5013f-c051-4b42-d0f3-c380d5654d56"
      },
      "execution_count": 36,
      "outputs": [
        {
          "output_type": "stream",
          "name": "stdout",
          "text": [
            "True\n"
          ]
        }
      ]
    },
    {
      "cell_type": "markdown",
      "source": [
        "Ejemplo 63"
      ],
      "metadata": {
        "id": "8pC16wE9FVD-"
      }
    },
    {
      "cell_type": "code",
      "source": [
        "print(257 > 2 and 3 > 1.5)"
      ],
      "metadata": {
        "colab": {
          "base_uri": "https://localhost:8080/"
        },
        "id": "_RvGZkbCFVXJ",
        "outputId": "b6fb810d-7017-473c-ee9c-493592e77418"
      },
      "execution_count": 37,
      "outputs": [
        {
          "output_type": "stream",
          "name": "stdout",
          "text": [
            "True\n"
          ]
        }
      ]
    },
    {
      "cell_type": "markdown",
      "source": [
        "Ejemplo 64"
      ],
      "metadata": {
        "id": "4BWTcIs0G2jL"
      }
    },
    {
      "cell_type": "code",
      "source": [
        "print(12 < 1 and math.pí > 2)"
      ],
      "metadata": {
        "colab": {
          "base_uri": "https://localhost:8080/"
        },
        "id": "yL2o-tj7G2wU",
        "outputId": "ee5df932-40e7-4ddd-def4-2779a3897982"
      },
      "execution_count": 38,
      "outputs": [
        {
          "output_type": "stream",
          "name": "stdout",
          "text": [
            "False\n"
          ]
        }
      ]
    },
    {
      "cell_type": "markdown",
      "source": [
        "Ejemplo 65"
      ],
      "metadata": {
        "id": "aBxBthqpG3FT"
      }
    },
    {
      "cell_type": "code",
      "source": [
        "print((5 > 4 or 4 < 3) and (1!=1 and 4>3) and not ( 3 < 2 or 1 < 3 and (1!=3 and 4>3)))"
      ],
      "metadata": {
        "colab": {
          "base_uri": "https://localhost:8080/"
        },
        "id": "lP88IX8uG3WD",
        "outputId": "50ce96ad-2cc3-4623-ce74-1b863bb097a6"
      },
      "execution_count": 39,
      "outputs": [
        {
          "output_type": "stream",
          "name": "stdout",
          "text": [
            "False\n"
          ]
        }
      ]
    },
    {
      "cell_type": "markdown",
      "source": [
        "Ejemplo 66"
      ],
      "metadata": {
        "id": "jKqG9Dg9G3ry"
      }
    },
    {
      "cell_type": "code",
      "source": [
        "kda = 5\n",
        "if kda > 3:\n",
        "    print('kemaster')"
      ],
      "metadata": {
        "colab": {
          "base_uri": "https://localhost:8080/"
        },
        "id": "MvwGzvFtG34C",
        "outputId": "c7c34afd-d31b-479d-9158-2deb27735d75"
      },
      "execution_count": 40,
      "outputs": [
        {
          "output_type": "stream",
          "name": "stdout",
          "text": [
            "kemaster\n"
          ]
        }
      ]
    },
    {
      "cell_type": "markdown",
      "source": [
        "Ejemplo 67"
      ],
      "metadata": {
        "id": "2eZImUBsG4CR"
      }
    },
    {
      "cell_type": "code",
      "source": [
        "p = 12 > 10\n",
        "q = 21 > 1333\n",
        "if p and q:\n",
        "    print('p y q son verdaderas')\n",
        "elif p and not q:\n",
        "    print('q es falsa')\n",
        "elif q and not p:\n",
        "    print('p es falsa')\n",
        "else:\n",
        "    print('ambas son falsas')"
      ],
      "metadata": {
        "colab": {
          "base_uri": "https://localhost:8080/"
        },
        "id": "y1_VPUYjG4R8",
        "outputId": "13944f15-9bd6-4b50-d65b-13979531b36f"
      },
      "execution_count": 42,
      "outputs": [
        {
          "output_type": "stream",
          "name": "stdout",
          "text": [
            "q es falsa\n"
          ]
        }
      ]
    },
    {
      "cell_type": "markdown",
      "source": [
        "Ejemplo 68"
      ],
      "metadata": {
        "id": "TmxOyS12G4jI"
      }
    },
    {
      "cell_type": "code",
      "source": [
        "cont = 1\n",
        "while cont <= 10:\n",
        "    print(cont)\n",
        "    cont=cont+1  "
      ],
      "metadata": {
        "colab": {
          "base_uri": "https://localhost:8080/"
        },
        "id": "q8F5cI2_G5AN",
        "outputId": "66187cae-4870-454b-c846-01f5137c1723"
      },
      "execution_count": 46,
      "outputs": [
        {
          "output_type": "stream",
          "name": "stdout",
          "text": [
            "1\n",
            "2\n",
            "3\n",
            "4\n",
            "5\n",
            "6\n",
            "7\n",
            "8\n",
            "9\n",
            "10\n"
          ]
        }
      ]
    },
    {
      "cell_type": "markdown",
      "source": [
        "Ejemplo 69"
      ],
      "metadata": {
        "id": "AkpDNKmLG5PH"
      }
    },
    {
      "cell_type": "code",
      "source": [
        "for cont in [1,2,3,4,5]:\n",
        "    print(cont)"
      ],
      "metadata": {
        "colab": {
          "base_uri": "https://localhost:8080/"
        },
        "id": "PbBpQ99YG5cT",
        "outputId": "370d4ded-5eb0-4955-fb24-e8bc9de47cf9"
      },
      "execution_count": 49,
      "outputs": [
        {
          "output_type": "stream",
          "name": "stdout",
          "text": [
            "1\n",
            "2\n",
            "3\n",
            "4\n",
            "5\n"
          ]
        }
      ]
    },
    {
      "cell_type": "markdown",
      "source": [
        "Ejemplo 70"
      ],
      "metadata": {
        "id": "EBR28vGzG5wh"
      }
    },
    {
      "cell_type": "code",
      "source": [
        "juegos = ['fifa','cod','halo','apex','fortnite','minecraft']\n",
        "for cc in juegos:\n",
        "    print(cc)\n",
        "    if cc == 'halo':\n",
        "        break"
      ],
      "metadata": {
        "colab": {
          "base_uri": "https://localhost:8080/"
        },
        "id": "icz2U6D2G6Td",
        "outputId": "502c67d9-f344-493f-a283-d6c88392d978"
      },
      "execution_count": 67,
      "outputs": [
        {
          "output_type": "stream",
          "name": "stdout",
          "text": [
            "fifa\n",
            "cod\n",
            "halo\n"
          ]
        }
      ]
    },
    {
      "cell_type": "markdown",
      "source": [
        "Ejemplo 71"
      ],
      "metadata": {
        "id": "Tdyf42wMG6jI"
      }
    },
    {
      "cell_type": "code",
      "source": [
        "cubo = []\n",
        "for r in [1,2,3,4,5]:\n",
        "    cubo.append(r**3)\n",
        "print(cubo)"
      ],
      "metadata": {
        "colab": {
          "base_uri": "https://localhost:8080/"
        },
        "id": "u1UnOW7tG6xc",
        "outputId": "526240f9-c991-444e-f7cf-aa24c0245b15"
      },
      "execution_count": 68,
      "outputs": [
        {
          "output_type": "stream",
          "name": "stdout",
          "text": [
            "[1, 8, 27, 64, 125]\n"
          ]
        }
      ]
    },
    {
      "cell_type": "markdown",
      "source": [
        "Ejemplo 72"
      ],
      "metadata": {
        "id": "IomW811kG7B0"
      }
    },
    {
      "cell_type": "code",
      "source": [
        "list = [1,2,3,4,5]\n",
        "cubo = [r**3 for r in list]\n",
        "print(cubo)"
      ],
      "metadata": {
        "colab": {
          "base_uri": "https://localhost:8080/"
        },
        "id": "L24eO8jlG7fm",
        "outputId": "0c04f221-0a09-4f50-efef-11788f3a00e2"
      },
      "execution_count": 69,
      "outputs": [
        {
          "output_type": "stream",
          "name": "stdout",
          "text": [
            "[1, 8, 27, 64, 125]\n"
          ]
        }
      ]
    },
    {
      "cell_type": "markdown",
      "source": [
        "Ejemplo 73"
      ],
      "metadata": {
        "id": "4l4eGvM2G71l"
      }
    },
    {
      "cell_type": "code",
      "source": [
        "list = [1,2,3,4,5]\n",
        "mitad = [r/2 for r in list]\n",
        "print(mitad)"
      ],
      "metadata": {
        "colab": {
          "base_uri": "https://localhost:8080/"
        },
        "id": "XBxzowNBG8O_",
        "outputId": "be355134-f8b5-4433-81d6-dd1cff3fbc3a"
      },
      "execution_count": 70,
      "outputs": [
        {
          "output_type": "stream",
          "name": "stdout",
          "text": [
            "[0.5, 1.0, 1.5, 2.0, 2.5]\n"
          ]
        }
      ]
    },
    {
      "cell_type": "markdown",
      "source": [
        "Ejemplo 74"
      ],
      "metadata": {
        "id": "40VK5m8CHKG0"
      }
    },
    {
      "cell_type": "code",
      "source": [
        "juegos = ['fifa','cod','halo','apex','fortnite','minecraft']\n",
        "selected = ['fifa','halo']\n",
        "new_list = [x for x in juegos if x in selected]\n",
        "print(new_list)"
      ],
      "metadata": {
        "colab": {
          "base_uri": "https://localhost:8080/"
        },
        "id": "v_eIphaQN2P6",
        "outputId": "a7fef0a5-ff34-46bb-b809-153e1708fd81"
      },
      "execution_count": 72,
      "outputs": [
        {
          "output_type": "stream",
          "name": "stdout",
          "text": [
            "['fifa', 'halo']\n"
          ]
        }
      ]
    },
    {
      "cell_type": "markdown",
      "source": [
        "Ejemplo 75"
      ],
      "metadata": {
        "id": "SvIq943WHLJp"
      }
    },
    {
      "cell_type": "code",
      "source": [
        "juegos = ['fifa','cod','halo','apex','fortnite','minecraft']\n",
        "selected = ['apex','cod']\n",
        "new_list = [x for x in juegos if x in selected]\n",
        "print(new_list)"
      ],
      "metadata": {
        "colab": {
          "base_uri": "https://localhost:8080/"
        },
        "id": "e5PswOWHOC9x",
        "outputId": "d81bed54-1314-4381-e96e-1f8e88b577bc"
      },
      "execution_count": 73,
      "outputs": [
        {
          "output_type": "stream",
          "name": "stdout",
          "text": [
            "['cod', 'apex']\n"
          ]
        }
      ]
    },
    {
      "cell_type": "markdown",
      "source": [
        "Ejemplo 76"
      ],
      "metadata": {
        "id": "32MG3tp8HMLY"
      }
    },
    {
      "cell_type": "code",
      "source": [
        "n=0\n",
        "conta=0\n",
        "while conta<10:\n",
        "  conta=conta+1\n",
        "  print (n)\n",
        "  n=n+1\n",
        "  if n%2==0:\n",
        "    n=0"
      ],
      "metadata": {
        "colab": {
          "base_uri": "https://localhost:8080/"
        },
        "id": "OYy-_3G1OurQ",
        "outputId": "bf3467fa-8d1c-4121-ba36-3573b2337483"
      },
      "execution_count": 92,
      "outputs": [
        {
          "output_type": "stream",
          "name": "stdout",
          "text": [
            "0\n",
            "1\n",
            "0\n",
            "1\n",
            "0\n",
            "1\n",
            "0\n",
            "1\n",
            "0\n",
            "1\n"
          ]
        }
      ]
    },
    {
      "cell_type": "markdown",
      "source": [
        "Ejemplo 77"
      ],
      "metadata": {
        "id": "C7Yt2X-1HOE_"
      }
    },
    {
      "cell_type": "code",
      "source": [
        "print(math.inf==math.pi)"
      ],
      "metadata": {
        "colab": {
          "base_uri": "https://localhost:8080/"
        },
        "id": "ytYVdjCwQ9ZE",
        "outputId": "711172f9-6469-41b6-b2eb-fe3b81604b08"
      },
      "execution_count": 94,
      "outputs": [
        {
          "output_type": "stream",
          "name": "stdout",
          "text": [
            "False\n"
          ]
        }
      ]
    },
    {
      "cell_type": "markdown",
      "source": [
        "Ejemplo 78"
      ],
      "metadata": {
        "id": "CfuWNe8hHOwM"
      }
    },
    {
      "cell_type": "code",
      "source": [
        "print(math.pi%3==0)"
      ],
      "metadata": {
        "colab": {
          "base_uri": "https://localhost:8080/"
        },
        "id": "aTgKUwvtRVAa",
        "outputId": "48f7273a-6a1b-4b05-c073-a909143fe6aa"
      },
      "execution_count": 95,
      "outputs": [
        {
          "output_type": "stream",
          "name": "stdout",
          "text": [
            "False\n"
          ]
        }
      ]
    },
    {
      "cell_type": "markdown",
      "source": [
        "Ejemplo 79"
      ],
      "metadata": {
        "id": "p1XRH9tTHPkz"
      }
    },
    {
      "cell_type": "code",
      "source": [
        "print(99999999%3==0)"
      ],
      "metadata": {
        "colab": {
          "base_uri": "https://localhost:8080/"
        },
        "id": "9d7mhe8QRfBf",
        "outputId": "fa26731c-f58a-447d-e288-885fc2db9f0c"
      },
      "execution_count": 96,
      "outputs": [
        {
          "output_type": "stream",
          "name": "stdout",
          "text": [
            "True\n"
          ]
        }
      ]
    },
    {
      "cell_type": "markdown",
      "source": [
        "Ejemplo 80"
      ],
      "metadata": {
        "id": "2H5_RZpmHQ8x"
      }
    },
    {
      "cell_type": "code",
      "source": [
        "print(math.pi>math.e and math.inf%2==0)"
      ],
      "metadata": {
        "colab": {
          "base_uri": "https://localhost:8080/"
        },
        "id": "d6M9tDlyRiFS",
        "outputId": "ade1941c-d7f3-442f-884a-f872d6580c6e"
      },
      "execution_count": 98,
      "outputs": [
        {
          "output_type": "stream",
          "name": "stdout",
          "text": [
            "False\n"
          ]
        }
      ]
    },
    {
      "cell_type": "markdown",
      "source": [
        "Ejemplo 81"
      ],
      "metadata": {
        "id": "TF_afZ6aRvmd"
      }
    },
    {
      "cell_type": "code",
      "source": [
        "import numpy as np\n",
        "import matplotlib.pyplot as plt\n",
        "sl = [3.5, 5, 2, 8, 4.2]\n",
        "retorno = np.array(sl)\n",
        "print (retorno, type(retorno))"
      ],
      "metadata": {
        "colab": {
          "base_uri": "https://localhost:8080/"
        },
        "id": "k9E63klfTXaZ",
        "outputId": "091b71dc-8f83-4099-afca-6caf29074916"
      },
      "execution_count": 101,
      "outputs": [
        {
          "output_type": "stream",
          "name": "stdout",
          "text": [
            "[3.5 5.  2.  8.  4.2] <class 'numpy.ndarray'>\n"
          ]
        }
      ]
    },
    {
      "cell_type": "markdown",
      "source": [
        "Ejemplo 82"
      ],
      "metadata": {
        "id": "2fskZAF7Rv6Z"
      }
    },
    {
      "cell_type": "code",
      "source": [
        "A = np.array([[4, 2], [3, 4]])\n",
        "print (A, type(A), A.shape)"
      ],
      "metadata": {
        "colab": {
          "base_uri": "https://localhost:8080/"
        },
        "id": "gv9Ot4-lTrpJ",
        "outputId": "89052e37-289e-4e59-8041-ab2098c61f6a"
      },
      "execution_count": 103,
      "outputs": [
        {
          "output_type": "stream",
          "name": "stdout",
          "text": [
            "[[4 2]\n",
            " [3 4]] <class 'numpy.ndarray'> (2, 2)\n"
          ]
        }
      ]
    },
    {
      "cell_type": "markdown",
      "source": [
        "Ejemplo 83"
      ],
      "metadata": {
        "id": "G-opVVdfRzOL"
      }
    },
    {
      "cell_type": "code",
      "source": [
        "B = np.array([[4, 2], [3, 4], [5, 4]])\n",
        "print (B, type(B), B.shape)"
      ],
      "metadata": {
        "colab": {
          "base_uri": "https://localhost:8080/"
        },
        "id": "Bl0xI8mXTsRD",
        "outputId": "dc999451-6c22-4290-8d47-a1dc86a39b59"
      },
      "execution_count": 106,
      "outputs": [
        {
          "output_type": "stream",
          "name": "stdout",
          "text": [
            "[[4 2]\n",
            " [3 4]\n",
            " [5 4]] <class 'numpy.ndarray'> (3, 2)\n"
          ]
        }
      ]
    },
    {
      "cell_type": "markdown",
      "source": [
        "Ejemplo 84"
      ],
      "metadata": {
        "id": "LWhbVocRRz-1"
      }
    },
    {
      "cell_type": "code",
      "source": [
        "print (retorno[1:3])"
      ],
      "metadata": {
        "colab": {
          "base_uri": "https://localhost:8080/"
        },
        "id": "9xR78hSWTsx6",
        "outputId": "353c9a3e-3b7e-446c-e7bf-8a6050c8ac39"
      },
      "execution_count": 109,
      "outputs": [
        {
          "output_type": "stream",
          "name": "stdout",
          "text": [
            "[5. 2.]\n"
          ]
        }
      ]
    },
    {
      "cell_type": "markdown",
      "source": [
        "Ejemplo 85"
      ],
      "metadata": {
        "id": "0fgW5z3BR1G3"
      }
    },
    {
      "cell_type": "code",
      "source": [
        "print (B[:, 1])\n"
      ],
      "metadata": {
        "colab": {
          "base_uri": "https://localhost:8080/"
        },
        "id": "sMxTKYaMVFyK",
        "outputId": "75d3cc94-906d-4adf-9bcd-ea7978fe1761"
      },
      "execution_count": 114,
      "outputs": [
        {
          "output_type": "stream",
          "name": "stdout",
          "text": [
            "[2 4 4]\n"
          ]
        }
      ]
    },
    {
      "cell_type": "markdown",
      "source": [
        "Ejemplo 86"
      ],
      "metadata": {
        "id": "G2lpxT2wR2IM"
      }
    },
    {
      "cell_type": "code",
      "source": [
        "print (B[2, :])"
      ],
      "metadata": {
        "colab": {
          "base_uri": "https://localhost:8080/"
        },
        "id": "MFJIRwuOVm-1",
        "outputId": "9e2ba81d-5a6d-4411-e8e5-9cef67af8c9c"
      },
      "execution_count": 117,
      "outputs": [
        {
          "output_type": "stream",
          "name": "stdout",
          "text": [
            "[5 4]\n"
          ]
        }
      ]
    },
    {
      "cell_type": "markdown",
      "source": [
        "Ejemplo 87"
      ],
      "metadata": {
        "id": "Opyr5l3dR3hx"
      }
    },
    {
      "cell_type": "code",
      "source": [
        "print (A[0])"
      ],
      "metadata": {
        "colab": {
          "base_uri": "https://localhost:8080/"
        },
        "id": "maVD6SD1Vna9",
        "outputId": "0b7feda7-2862-46ff-d958-cc2371b762df"
      },
      "execution_count": 118,
      "outputs": [
        {
          "output_type": "stream",
          "name": "stdout",
          "text": [
            "[4 2]\n"
          ]
        }
      ]
    },
    {
      "cell_type": "markdown",
      "source": [
        "Ejemplo 88"
      ],
      "metadata": {
        "id": "sBa4GWtLR4RA"
      }
    },
    {
      "cell_type": "code",
      "source": [
        "print (B[1, 1])"
      ],
      "metadata": {
        "colab": {
          "base_uri": "https://localhost:8080/"
        },
        "id": "CT3Er82eVn14",
        "outputId": "e004849b-927a-4140-f076-c003ab267965"
      },
      "execution_count": 119,
      "outputs": [
        {
          "output_type": "stream",
          "name": "stdout",
          "text": [
            "4\n"
          ]
        }
      ]
    },
    {
      "cell_type": "markdown",
      "source": [
        "Ejemplo 89"
      ],
      "metadata": {
        "id": "5F3vN5l9R5Ap"
      }
    },
    {
      "cell_type": "code",
      "source": [
        "print (np.log(retorno))"
      ],
      "metadata": {
        "colab": {
          "base_uri": "https://localhost:8080/"
        },
        "id": "6mdkIGYAW36n",
        "outputId": "7cb639a1-3f3f-489f-85ee-ae2c2477717e"
      },
      "execution_count": 120,
      "outputs": [
        {
          "output_type": "stream",
          "name": "stdout",
          "text": [
            "[1.25276297 1.60943791 0.69314718 2.07944154 1.43508453]\n"
          ]
        }
      ]
    },
    {
      "cell_type": "markdown",
      "source": [
        "Ejemplo 90"
      ],
      "metadata": {
        "id": "jbwXpc0tR5nF"
      }
    },
    {
      "cell_type": "code",
      "source": [
        "print (np.mean(retorno))"
      ],
      "metadata": {
        "colab": {
          "base_uri": "https://localhost:8080/"
        },
        "id": "KB5NzQBlXH-V",
        "outputId": "14dd6dcc-9638-4c44-af2c-57fef53dce5f"
      },
      "execution_count": 121,
      "outputs": [
        {
          "output_type": "stream",
          "name": "stdout",
          "text": [
            "4.54\n"
          ]
        }
      ]
    },
    {
      "cell_type": "markdown",
      "source": [
        "Ejemplo 91"
      ],
      "metadata": {
        "id": "nuMQYIsvR7t3"
      }
    },
    {
      "cell_type": "code",
      "source": [
        "print (np.max(retorno))"
      ],
      "metadata": {
        "colab": {
          "base_uri": "https://localhost:8080/"
        },
        "id": "SwwaxnyvXYVL",
        "outputId": "a018a9eb-99ea-407a-ffcc-ecb605ba7a64"
      },
      "execution_count": 122,
      "outputs": [
        {
          "output_type": "stream",
          "name": "stdout",
          "text": [
            "8.0\n"
          ]
        }
      ]
    },
    {
      "cell_type": "markdown",
      "source": [
        "Ejemplo 92"
      ],
      "metadata": {
        "id": "T1dslefjR8cp"
      }
    },
    {
      "cell_type": "code",
      "source": [
        "B*5"
      ],
      "metadata": {
        "colab": {
          "base_uri": "https://localhost:8080/"
        },
        "id": "7EEniGW1XciO",
        "outputId": "b3b96c28-3231-42e0-9702-83a03ae3ef82"
      },
      "execution_count": 124,
      "outputs": [
        {
          "output_type": "execute_result",
          "data": {
            "text/plain": [
              "array([[20, 10],\n",
              "       [15, 20],\n",
              "       [25, 20]])"
            ]
          },
          "metadata": {},
          "execution_count": 124
        }
      ]
    },
    {
      "cell_type": "markdown",
      "source": [
        "Ejemplo 93"
      ],
      "metadata": {
        "id": "heW-Hb1ZR9Bm"
      }
    },
    {
      "cell_type": "code",
      "source": [
        "print (np.std(retorno))"
      ],
      "metadata": {
        "colab": {
          "base_uri": "https://localhost:8080/"
        },
        "id": "X-dtfej2XnQX",
        "outputId": "387338c9-2fd5-49d6-a2b5-6189970e5530"
      },
      "execution_count": 125,
      "outputs": [
        {
          "output_type": "stream",
          "name": "stdout",
          "text": [
            "1.9915822855207364\n"
          ]
        }
      ]
    },
    {
      "cell_type": "markdown",
      "source": [
        "Ejemplo 94"
      ],
      "metadata": {
        "id": "2iA5Y59IR93y"
      }
    },
    {
      "cell_type": "code",
      "source": [
        "print (np.dot(B,A))"
      ],
      "metadata": {
        "colab": {
          "base_uri": "https://localhost:8080/"
        },
        "id": "1mYZVE51XyQl",
        "outputId": "9c6420ee-9d7b-411a-9b02-453add194552"
      },
      "execution_count": 130,
      "outputs": [
        {
          "output_type": "stream",
          "name": "stdout",
          "text": [
            "[[22 16]\n",
            " [24 22]\n",
            " [32 26]]\n"
          ]
        }
      ]
    },
    {
      "cell_type": "markdown",
      "source": [
        "Ejemplo 95"
      ],
      "metadata": {
        "id": "_Hn8GWYAR_DU"
      }
    },
    {
      "cell_type": "code",
      "source": [
        "C = np.array([\n",
        "        [1, 2, 3, 12, 6],\n",
        "        [4, 5, 6, 15, 20],\n",
        "        [7, 8, 9, 10, 10]        \n",
        "    ])\n",
        "D = np.array([\n",
        "        [4, 4, 2],\n",
        "        [2, 3, 1],\n",
        "        [6, 5, 8],\n",
        "        [9, 9, 9]\n",
        "    ])\n",
        "print (np.dot(D,C))"
      ],
      "metadata": {
        "colab": {
          "base_uri": "https://localhost:8080/"
        },
        "id": "8V9Ov2r1Zdt0",
        "outputId": "bf74e894-6d30-4541-fd0c-88ef6c75ff44"
      },
      "execution_count": 132,
      "outputs": [
        {
          "output_type": "stream",
          "name": "stdout",
          "text": [
            "[[ 34  44  54 128 124]\n",
            " [ 21  27  33  79  82]\n",
            " [ 82 101 120 227 216]\n",
            " [108 135 162 333 324]]\n"
          ]
        }
      ]
    },
    {
      "cell_type": "markdown",
      "source": [
        "Ejemplo 96"
      ],
      "metadata": {
        "id": "nui6Ca9HR_xI"
      }
    },
    {
      "cell_type": "code",
      "source": [
        "print (np.transpose(np.dot(D,C)))"
      ],
      "metadata": {
        "colab": {
          "base_uri": "https://localhost:8080/"
        },
        "id": "ddXvKshGaGyp",
        "outputId": "8b72c233-544e-4e6c-a561-bf724e21de34"
      },
      "execution_count": 134,
      "outputs": [
        {
          "output_type": "stream",
          "name": "stdout",
          "text": [
            "[[ 34  21  82 108]\n",
            " [ 44  27 101 135]\n",
            " [ 54  33 120 162]\n",
            " [128  79 227 333]\n",
            " [124  82 216 324]]\n"
          ]
        }
      ]
    },
    {
      "cell_type": "markdown",
      "source": [
        "Ejemplo 97"
      ],
      "metadata": {
        "id": "mkKA_-kDSAYQ"
      }
    },
    {
      "cell_type": "code",
      "source": [
        "print (np.transpose(np.dot(B,A)))"
      ],
      "metadata": {
        "colab": {
          "base_uri": "https://localhost:8080/"
        },
        "id": "J04d2q_Xalnk",
        "outputId": "3916e05f-d4a8-4e94-a19c-25d757e600a6"
      },
      "execution_count": 135,
      "outputs": [
        {
          "output_type": "stream",
          "name": "stdout",
          "text": [
            "[[22 24 32]\n",
            " [16 22 26]]\n"
          ]
        }
      ]
    },
    {
      "cell_type": "markdown",
      "source": [
        "Ejemplo 98"
      ],
      "metadata": {
        "id": "WL5AVHpzSBDI"
      }
    },
    {
      "cell_type": "code",
      "source": [
        "print (np.transpose(np.dot(B,A))**2)"
      ],
      "metadata": {
        "colab": {
          "base_uri": "https://localhost:8080/"
        },
        "id": "DDSGem52azfC",
        "outputId": "2a86f56b-d625-47a3-ba58-ab423b7e25a8"
      },
      "execution_count": 137,
      "outputs": [
        {
          "output_type": "stream",
          "name": "stdout",
          "text": [
            "[[ 484  576 1024]\n",
            " [ 256  484  676]]\n"
          ]
        }
      ]
    },
    {
      "cell_type": "markdown",
      "source": [
        "Ejemplo 99"
      ],
      "metadata": {
        "id": "JbApFPrrSC7y"
      }
    },
    {
      "cell_type": "code",
      "source": [
        "v1=[1,2,3]\n",
        "v2=[4,5,6]\n",
        "print (np.dot(v1,v2))"
      ],
      "metadata": {
        "colab": {
          "base_uri": "https://localhost:8080/"
        },
        "id": "03De5DU2a_u4",
        "outputId": "a29a3aaf-6e59-43f9-e1bb-3fbc8ef2cfd7"
      },
      "execution_count": 138,
      "outputs": [
        {
          "output_type": "stream",
          "name": "stdout",
          "text": [
            "32\n"
          ]
        }
      ]
    },
    {
      "cell_type": "markdown",
      "source": [
        "Ejemplo 100"
      ],
      "metadata": {
        "id": "i9jU1wJUSDjK"
      }
    },
    {
      "cell_type": "code",
      "source": [
        "v3=[1,0,1]\n",
        "print (np.dot(v3,v2))"
      ],
      "metadata": {
        "colab": {
          "base_uri": "https://localhost:8080/"
        },
        "id": "z2bkr8ltbKQx",
        "outputId": "00b2fb27-c236-484b-cf1b-20b8945842d0"
      },
      "execution_count": 139,
      "outputs": [
        {
          "output_type": "stream",
          "name": "stdout",
          "text": [
            "10\n"
          ]
        }
      ]
    },
    {
      "cell_type": "markdown",
      "source": [
        "Ejemplo 101"
      ],
      "metadata": {
        "id": "7aq0LBnUbjaL"
      }
    },
    {
      "cell_type": "code",
      "source": [
        "import numpy as np\n",
        "import pandas as pd\n",
        "import matplotlib.pyplot as plt\n",
        "ret = pd.DataFrame(np.random.normal(1.0, 0.03, (24, 5)))\n",
        "prices = ret.cumprod()\n",
        "prices.plot()\n",
        "plt.title('kda en partidos')\n",
        "plt.xlabel('rondas')\n",
        "plt.ylabel('kda')\n",
        "plt.legend(loc=0);"
      ],
      "metadata": {
        "colab": {
          "base_uri": "https://localhost:8080/",
          "height": 295
        },
        "id": "4HYN89t5b2ec",
        "outputId": "05633f7a-ae70-4760-888e-4413c06eeb45"
      },
      "execution_count": 145,
      "outputs": [
        {
          "output_type": "display_data",
          "data": {
            "text/plain": [
              "<Figure size 432x288 with 1 Axes>"
            ],
            "image/png": "[encoded data removed]"
          },
          "metadata": {
            "needs_background": "light"
          }
        }
      ]
    },
    {
      "cell_type": "markdown",
      "source": [
        "Ejemplo 102"
      ],
      "metadata": {
        "id": "h_a2Ulcdblv_"
      }
    },
    {
      "cell_type": "code",
      "source": [
        "s = pd.Series([145, 782, np.nan, 234, 500])\n",
        "print (s)"
      ],
      "metadata": {
        "colab": {
          "base_uri": "https://localhost:8080/"
        },
        "id": "5Qfgv9N2dGNY",
        "outputId": "b384e1c3-5d0b-4557-e441-8de80135aaf7"
      },
      "execution_count": 147,
      "outputs": [
        {
          "output_type": "stream",
          "name": "stdout",
          "text": [
            "0    145.0\n",
            "1    782.0\n",
            "2      NaN\n",
            "3    234.0\n",
            "4    500.0\n",
            "dtype: float64\n"
          ]
        }
      ]
    },
    {
      "cell_type": "markdown",
      "source": [
        "Ejemplo 103"
      ],
      "metadata": {
        "id": "tyhFEM18bmgQ"
      }
    },
    {
      "cell_type": "code",
      "source": [
        "s.name = \"busetas\"\n",
        "print (s.name)\n",
        "print (s.index)"
      ],
      "metadata": {
        "colab": {
          "base_uri": "https://localhost:8080/"
        },
        "id": "ORrb3WR0dR2o",
        "outputId": "88278d7e-e1e5-4a22-dbed-7efc8c33709d"
      },
      "execution_count": 171,
      "outputs": [
        {
          "output_type": "stream",
          "name": "stdout",
          "text": [
            "busetas\n",
            "DatetimeIndex(['2017-04-10', '2017-04-11', '2017-04-12', '2017-04-13',\n",
            "               '2017-04-14'],\n",
            "              dtype='datetime64[ns]', freq='D')\n"
          ]
        }
      ]
    },
    {
      "cell_type": "markdown",
      "source": [
        "Ejemplo 104"
      ],
      "metadata": {
        "id": "Mbdn8FvubnQJ"
      }
    },
    {
      "cell_type": "code",
      "source": [
        "infe = pd.date_range(\"2017-04-10\", periods=len(s), freq=\"D\")\n",
        "print (infe)"
      ],
      "metadata": {
        "colab": {
          "base_uri": "https://localhost:8080/"
        },
        "id": "2rlKI_j5lmlv",
        "outputId": "69825872-51c3-4a7c-ba60-6d413dd1b7e7"
      },
      "execution_count": 172,
      "outputs": [
        {
          "output_type": "stream",
          "name": "stdout",
          "text": [
            "DatetimeIndex(['2017-04-10', '2017-04-11', '2017-04-12', '2017-04-13',\n",
            "               '2017-04-14'],\n",
            "              dtype='datetime64[ns]', freq='D')\n"
          ]
        }
      ]
    },
    {
      "cell_type": "markdown",
      "source": [
        "Ejemplo 105"
      ],
      "metadata": {
        "id": "B6BYingKboGU"
      }
    },
    {
      "cell_type": "code",
      "source": [
        "s.index = infe\n",
        "print (infe)"
      ],
      "metadata": {
        "colab": {
          "base_uri": "https://localhost:8080/"
        },
        "id": "0Cd2sM5PnuHC",
        "outputId": "3a03ba9b-538b-4a18-f4d0-e2d07289c585"
      },
      "execution_count": 173,
      "outputs": [
        {
          "output_type": "stream",
          "name": "stdout",
          "text": [
            "DatetimeIndex(['2017-04-10', '2017-04-11', '2017-04-12', '2017-04-13',\n",
            "               '2017-04-14'],\n",
            "              dtype='datetime64[ns]', freq='D')\n"
          ]
        }
      ]
    },
    {
      "cell_type": "markdown",
      "source": [
        "Ejemplo 106"
      ],
      "metadata": {
        "id": "m6KDkZB4bpAV"
      }
    },
    {
      "cell_type": "code",
      "source": [
        "print (\"primer elemento: \", s.iloc[0])\n",
        "print (\"último elemento: \", s.iloc[len(s)-1])"
      ],
      "metadata": {
        "colab": {
          "base_uri": "https://localhost:8080/"
        },
        "id": "_V32rwNVnJy6",
        "outputId": "226abe2d-8662-4481-cd94-c20b69e33152"
      },
      "execution_count": 174,
      "outputs": [
        {
          "output_type": "stream",
          "name": "stdout",
          "text": [
            "primer elemento:  145.0\n",
            "último elemento:  500.0\n"
          ]
        }
      ]
    },
    {
      "cell_type": "markdown",
      "source": [
        "Ejemplo 107"
      ],
      "metadata": {
        "id": "FJJBkYCpbqKG"
      }
    },
    {
      "cell_type": "code",
      "source": [
        "s.iloc[:2]\n",
        "s.iloc[0:]"
      ],
      "metadata": {
        "colab": {
          "base_uri": "https://localhost:8080/"
        },
        "id": "U5xyAYpbpER4",
        "outputId": "6dec5382-e14d-4185-a0e0-17d08495e07a"
      },
      "execution_count": 175,
      "outputs": [
        {
          "output_type": "execute_result",
          "data": {
            "text/plain": [
              "2017-04-10    145.0\n",
              "2017-04-11    782.0\n",
              "2017-04-12      NaN\n",
              "2017-04-13    234.0\n",
              "2017-04-14    500.0\n",
              "Freq: D, Name: busetas, dtype: float64"
            ]
          },
          "metadata": {},
          "execution_count": 175
        }
      ]
    },
    {
      "cell_type": "markdown",
      "source": [
        "Ejemplo 108"
      ],
      "metadata": {
        "id": "6-eCnMFxbrQF"
      }
    },
    {
      "cell_type": "code",
      "source": [
        "ini = 0\n",
        "fin = len(s) - 1\n",
        "pas = 1\n",
        "\n",
        "s.iloc[ini:fin:pas]"
      ],
      "metadata": {
        "colab": {
          "base_uri": "https://localhost:8080/"
        },
        "id": "mNEd4lp_pPrk",
        "outputId": "887c0374-4e19-4e8b-f200-ccb741278d3e"
      },
      "execution_count": 176,
      "outputs": [
        {
          "output_type": "execute_result",
          "data": {
            "text/plain": [
              "2017-04-10    145.0\n",
              "2017-04-11    782.0\n",
              "2017-04-12      NaN\n",
              "2017-04-13    234.0\n",
              "Freq: D, Name: busetas, dtype: float64"
            ]
          },
          "metadata": {},
          "execution_count": 176
        }
      ]
    },
    {
      "cell_type": "markdown",
      "source": [
        "Ejemplo 109"
      ],
      "metadata": {
        "id": "Wr49CMtxbr8H"
      }
    },
    {
      "cell_type": "code",
      "source": [
        "s.iloc[::-1]"
      ],
      "metadata": {
        "colab": {
          "base_uri": "https://localhost:8080/"
        },
        "id": "7x5cpiFMpY-j",
        "outputId": "d9b423c2-5b55-4dd1-d8c8-6b6c91c67477"
      },
      "execution_count": 177,
      "outputs": [
        {
          "output_type": "execute_result",
          "data": {
            "text/plain": [
              "2017-04-14    500.0\n",
              "2017-04-13    234.0\n",
              "2017-04-12      NaN\n",
              "2017-04-11    782.0\n",
              "2017-04-10    145.0\n",
              "Freq: -1D, Name: busetas, dtype: float64"
            ]
          },
          "metadata": {},
          "execution_count": 177
        }
      ]
    },
    {
      "cell_type": "markdown",
      "source": [
        "Ejemplo 110"
      ],
      "metadata": {
        "id": "bsfK5_x1btJ9"
      }
    },
    {
      "cell_type": "code",
      "source": [
        "s.loc['2017-04-10':'2017-04-14']"
      ],
      "metadata": {
        "colab": {
          "base_uri": "https://localhost:8080/"
        },
        "id": "8Xuqs5LypZSC",
        "outputId": "4c553fe2-e111-468a-f954-d088550dbb52"
      },
      "execution_count": 182,
      "outputs": [
        {
          "output_type": "execute_result",
          "data": {
            "text/plain": [
              "2017-04-10    145.0\n",
              "2017-04-11    782.0\n",
              "2017-04-12      NaN\n",
              "2017-04-13    234.0\n",
              "2017-04-14    500.0\n",
              "Freq: D, Name: busetas, dtype: float64"
            ]
          },
          "metadata": {},
          "execution_count": 182
        }
      ]
    },
    {
      "cell_type": "markdown",
      "source": [
        "Ejemplo 111"
      ],
      "metadata": {
        "id": "noknkIx4bugO"
      }
    },
    {
      "cell_type": "code",
      "source": [
        "print (s < 3)"
      ],
      "metadata": {
        "colab": {
          "base_uri": "https://localhost:8080/"
        },
        "id": "vrgYFcV1pZm_",
        "outputId": "26e3acee-fe57-4288-d228-6670617123a0"
      },
      "execution_count": 183,
      "outputs": [
        {
          "output_type": "stream",
          "name": "stdout",
          "text": [
            "2017-04-10    False\n",
            "2017-04-11    False\n",
            "2017-04-12    False\n",
            "2017-04-13    False\n",
            "2017-04-14    False\n",
            "Freq: D, Name: busetas, dtype: bool\n"
          ]
        }
      ]
    },
    {
      "cell_type": "markdown",
      "source": [
        "Ejemplo 112"
      ],
      "metadata": {
        "id": "OvAw8G4SbvOU"
      }
    },
    {
      "cell_type": "code",
      "source": [
        "price_list = [143.73, 145.83, 143.68, 144.02, 143.5, 142.62]\n",
        "price_array = np.array(price_list)\n",
        "print(price_array, type(price_array))"
      ],
      "metadata": {
        "colab": {
          "base_uri": "https://localhost:8080/"
        },
        "id": "buJXrWBmsUPk",
        "outputId": "032fde02-f071-4c34-f5d9-19e553860276"
      },
      "execution_count": 188,
      "outputs": [
        {
          "output_type": "stream",
          "name": "stdout",
          "text": [
            "[143.73 145.83 143.68 144.02 143.5  142.62] <class 'numpy.ndarray'>\n"
          ]
        }
      ]
    },
    {
      "cell_type": "markdown",
      "source": [
        "Ejemplo 113"
      ],
      "metadata": {
        "id": "RoOfrSECbv4W"
      }
    },
    {
      "cell_type": "code",
      "source": [
        "Ar = np.array([[price_list[0],price_list[1],price_list[4]],[price_list[2],price_list[3],price_list[5]]])\n",
        "print(Ar, type(Ar))"
      ],
      "metadata": {
        "colab": {
          "base_uri": "https://localhost:8080/"
        },
        "id": "OVoRt9wQuNWG",
        "outputId": "be369c0a-079a-45b2-afa6-a97318971ded"
      },
      "execution_count": 201,
      "outputs": [
        {
          "output_type": "stream",
          "name": "stdout",
          "text": [
            "[[143.73 145.83 143.5 ]\n",
            " [143.68 144.02 142.62]] <class 'numpy.ndarray'>\n"
          ]
        }
      ]
    },
    {
      "cell_type": "markdown",
      "source": [
        "Ejemplo 114"
      ],
      "metadata": {
        "id": "xVdQkyABbwkf"
      }
    },
    {
      "cell_type": "code",
      "source": [
        "print (Ar.shape)"
      ],
      "metadata": {
        "colab": {
          "base_uri": "https://localhost:8080/"
        },
        "id": "DIuG8M5dwxwy",
        "outputId": "19703932-529b-4c86-f613-0356876cccc6"
      },
      "execution_count": 202,
      "outputs": [
        {
          "output_type": "stream",
          "name": "stdout",
          "text": [
            "(2, 3)\n"
          ]
        }
      ]
    },
    {
      "cell_type": "markdown",
      "source": [
        "Ejemplo 115"
      ],
      "metadata": {
        "id": "gHvJnEn3bxVW"
      }
    },
    {
      "cell_type": "code",
      "source": [
        "print(Ar[0])\n",
        "print(Ar[1])"
      ],
      "metadata": {
        "colab": {
          "base_uri": "https://localhost:8080/"
        },
        "id": "nClV_RVLw1JJ",
        "outputId": "c088f524-94ae-477a-bd7c-29d56eb5926a"
      },
      "execution_count": 203,
      "outputs": [
        {
          "output_type": "stream",
          "name": "stdout",
          "text": [
            "[143.73 145.83 143.5 ]\n",
            "[143.68 144.02 142.62]\n"
          ]
        }
      ]
    },
    {
      "cell_type": "markdown",
      "source": [
        "Ejemplo 116"
      ],
      "metadata": {
        "id": "9SxDOMvDbyDJ"
      }
    },
    {
      "cell_type": "code",
      "source": [
        "print('columna 1: ', Ar[:,0])\n",
        "print('columna 2: ', Ar[:,1])\n",
        "print('columna 3: ', Ar[:,2])"
      ],
      "metadata": {
        "colab": {
          "base_uri": "https://localhost:8080/"
        },
        "id": "xJeSh4p3w668",
        "outputId": "ff2521bd-f058-4167-ea82-d9230e90f19b"
      },
      "execution_count": 204,
      "outputs": [
        {
          "output_type": "stream",
          "name": "stdout",
          "text": [
            "columna 1:  [143.73 143.68]\n",
            "columna 2:  [145.83 144.02]\n",
            "columna 3:  [143.5  142.62]\n"
          ]
        }
      ]
    },
    {
      "cell_type": "markdown",
      "source": [
        "Ejemplo 117"
      ],
      "metadata": {
        "id": "RfWy3eLNbyq2"
      }
    },
    {
      "cell_type": "code",
      "source": [
        "print(np.log(price_array))\n",
        "print(np.mean(price_array))\n",
        "print(np.std(price_array))\n",
        "print(np.sum(price_array))\n",
        "print(np.max(price_array))"
      ],
      "metadata": {
        "colab": {
          "base_uri": "https://localhost:8080/"
        },
        "id": "BHy8ovBSxCGW",
        "outputId": "3ca4fd0c-d879-4533-c02c-336497cd651a"
      },
      "execution_count": 206,
      "outputs": [
        {
          "output_type": "stream",
          "name": "stdout",
          "text": [
            "[4.96793654 4.98244156 4.9675886  4.96995218 4.96633504 4.96018375]\n",
            "143.89666666666668\n",
            "0.9673790478515796\n",
            "863.38\n",
            "145.83\n"
          ]
        }
      ]
    },
    {
      "cell_type": "markdown",
      "source": [
        "Ejemplo 118"
      ],
      "metadata": {
        "id": "cSabs08obzrk"
      }
    },
    {
      "cell_type": "code",
      "source": [
        "price = [143.73, 145.83, 143.68, 144.02, 143.5, 142.62]\n",
        "s = pd.Series(price,index = ['a','b','c','d','e','f'])\n",
        "s"
      ],
      "metadata": {
        "colab": {
          "base_uri": "https://localhost:8080/"
        },
        "id": "P5oDW-4Kxfmr",
        "outputId": "b500deb6-10dd-4e30-ca0f-902f7e0c6f84"
      },
      "execution_count": 212,
      "outputs": [
        {
          "output_type": "execute_result",
          "data": {
            "text/plain": [
              "a    143.73\n",
              "b    145.83\n",
              "c    143.68\n",
              "d    144.02\n",
              "e    143.50\n",
              "f    142.62\n",
              "dtype: float64"
            ]
          },
          "metadata": {},
          "execution_count": 212
        }
      ]
    },
    {
      "cell_type": "markdown",
      "source": [
        "Ejemplo 119"
      ],
      "metadata": {
        "id": "g5g-01Xxb0iv"
      }
    },
    {
      "cell_type": "code",
      "source": [
        "s.index = [6,5,4,3,2,1]\n",
        "s"
      ],
      "metadata": {
        "colab": {
          "base_uri": "https://localhost:8080/"
        },
        "id": "tfdw2HXcxx3T",
        "outputId": "26e9034d-1026-4197-a933-abfe2bf82912"
      },
      "execution_count": 213,
      "outputs": [
        {
          "output_type": "execute_result",
          "data": {
            "text/plain": [
              "6    143.73\n",
              "5    145.83\n",
              "4    143.68\n",
              "3    144.02\n",
              "2    143.50\n",
              "1    142.62\n",
              "dtype: float64"
            ]
          },
          "metadata": {},
          "execution_count": 213
        }
      ]
    },
    {
      "cell_type": "markdown",
      "source": [
        "Ejemplo 120"
      ],
      "metadata": {
        "id": "jm4NKNjYb1Nr"
      }
    },
    {
      "cell_type": "code",
      "source": [
        "print(s[1:])"
      ],
      "metadata": {
        "colab": {
          "base_uri": "https://localhost:8080/"
        },
        "id": "nSzgUW-vx2AS",
        "outputId": "0edd1676-f793-477c-e64c-1dfcb0956dd8"
      },
      "execution_count": 214,
      "outputs": [
        {
          "output_type": "stream",
          "name": "stdout",
          "text": [
            "5    145.83\n",
            "4    143.68\n",
            "3    144.02\n",
            "2    143.50\n",
            "1    142.62\n",
            "dtype: float64\n"
          ]
        }
      ]
    },
    {
      "cell_type": "markdown",
      "source": [
        "Ejemplo 121"
      ],
      "metadata": {
        "id": "DUHYabRRzAjC"
      }
    },
    {
      "cell_type": "code",
      "source": [
        "print(s[4])\n",
        "print(s[1])\n",
        "print(s[5])"
      ],
      "metadata": {
        "colab": {
          "base_uri": "https://localhost:8080/"
        },
        "id": "pThJg2jozyJK",
        "outputId": "349c8aaf-c11f-4d9c-9488-3bd644896dd6"
      },
      "execution_count": 216,
      "outputs": [
        {
          "output_type": "stream",
          "name": "stdout",
          "text": [
            "143.68\n",
            "142.62\n",
            "145.83\n"
          ]
        }
      ]
    },
    {
      "cell_type": "markdown",
      "source": [
        "Ejemplo 122"
      ],
      "metadata": {
        "id": "2dePAncuzAwU"
      }
    },
    {
      "cell_type": "code",
      "source": [
        "s = pd.Series(price, name = 'ADR')\n",
        "print(s)\n",
        "print(s.name)"
      ],
      "metadata": {
        "colab": {
          "base_uri": "https://localhost:8080/"
        },
        "id": "GVQdoqwrzykK",
        "outputId": "94d96db2-b042-4a58-a4a9-c179393b6883"
      },
      "execution_count": 217,
      "outputs": [
        {
          "output_type": "stream",
          "name": "stdout",
          "text": [
            "0    143.73\n",
            "1    145.83\n",
            "2    143.68\n",
            "3    144.02\n",
            "4    143.50\n",
            "5    142.62\n",
            "Name: ADR, dtype: float64\n",
            "ADR\n"
          ]
        }
      ]
    },
    {
      "cell_type": "markdown",
      "source": [
        "Ejemplo 123"
      ],
      "metadata": {
        "id": "S1-FocTnzERH"
      }
    },
    {
      "cell_type": "code",
      "source": [
        "print(s.describe())"
      ],
      "metadata": {
        "colab": {
          "base_uri": "https://localhost:8080/"
        },
        "id": "Lnvh2A_90DRF",
        "outputId": "6c438601-8dd0-422d-8be3-1703afaed57a"
      },
      "execution_count": 218,
      "outputs": [
        {
          "output_type": "stream",
          "name": "stdout",
          "text": [
            "count      6.000000\n",
            "mean     143.896667\n",
            "std        1.059711\n",
            "min      142.620000\n",
            "25%      143.545000\n",
            "50%      143.705000\n",
            "75%      143.947500\n",
            "max      145.830000\n",
            "Name: ADR, dtype: float64\n"
          ]
        }
      ]
    },
    {
      "cell_type": "markdown",
      "source": [
        "Ejemplo 124"
      ],
      "metadata": {
        "id": "50mL83S_zFHY"
      }
    },
    {
      "cell_type": "code",
      "source": [
        "indtiem = pd.date_range('2017-01-01',periods = len(s),freq = 'D')\n",
        "print(indtiem)\n",
        "s.index = indtiem\n",
        "print(s)"
      ],
      "metadata": {
        "colab": {
          "base_uri": "https://localhost:8080/"
        },
        "id": "nJRRlYoMA1Ui",
        "outputId": "1b918095-5586-40bc-863b-3e584d792078"
      },
      "execution_count": 219,
      "outputs": [
        {
          "output_type": "stream",
          "name": "stdout",
          "text": [
            "DatetimeIndex(['2017-01-01', '2017-01-02', '2017-01-03', '2017-01-04',\n",
            "               '2017-01-05', '2017-01-06'],\n",
            "              dtype='datetime64[ns]', freq='D')\n",
            "2017-01-01    143.73\n",
            "2017-01-02    145.83\n",
            "2017-01-03    143.68\n",
            "2017-01-04    144.02\n",
            "2017-01-05    143.50\n",
            "2017-01-06    142.62\n",
            "Freq: D, Name: ADR, dtype: float64\n"
          ]
        }
      ]
    },
    {
      "cell_type": "markdown",
      "source": [
        "Ejemplo 125"
      ],
      "metadata": {
        "id": "TBQ7yLPtzFu0"
      }
    },
    {
      "cell_type": "markdown",
      "source": [
        "Ejemplo 126"
      ],
      "metadata": {
        "id": "wzF7x8ySzGdb"
      }
    },
    {
      "cell_type": "markdown",
      "source": [
        "Ejemplo 127"
      ],
      "metadata": {
        "id": "Rm8GRBg7zH1d"
      }
    },
    {
      "cell_type": "markdown",
      "source": [
        "Ejemplo 128"
      ],
      "metadata": {
        "id": "3iNY76fpzL6E"
      }
    },
    {
      "cell_type": "markdown",
      "source": [
        "Ejemplo 129"
      ],
      "metadata": {
        "id": "NlNMZ-aXzMxX"
      }
    },
    {
      "cell_type": "markdown",
      "source": [
        "Ejemplo 130"
      ],
      "metadata": {
        "id": "WpFDAgdgzNw9"
      }
    },
    {
      "cell_type": "markdown",
      "source": [
        "Ejemplo 131"
      ],
      "metadata": {
        "id": "KV5CznrezPNn"
      }
    },
    {
      "cell_type": "markdown",
      "source": [
        "Ejemplo 132"
      ],
      "metadata": {
        "id": "taZhWz6FzQA6"
      }
    },
    {
      "cell_type": "markdown",
      "source": [
        "Ejemplo 133"
      ],
      "metadata": {
        "id": "hz_BJ9iIzQzf"
      }
    },
    {
      "cell_type": "markdown",
      "source": [
        "Ejemplo 134"
      ],
      "metadata": {
        "id": "bszW3omtzRfV"
      }
    },
    {
      "cell_type": "markdown",
      "source": [
        "Ejemplo 135"
      ],
      "metadata": {
        "id": "4JSLi0sPzSOn"
      }
    },
    {
      "cell_type": "markdown",
      "source": [
        "Ejemplo 136"
      ],
      "metadata": {
        "id": "h_RU9BNMzS-t"
      }
    },
    {
      "cell_type": "markdown",
      "source": [
        "Ejemplo 137"
      ],
      "metadata": {
        "id": "d4ROCGyczTl7"
      }
    },
    {
      "cell_type": "markdown",
      "source": [
        "Ejemplo 138"
      ],
      "metadata": {
        "id": "u0YgikLzzUWF"
      }
    },
    {
      "cell_type": "markdown",
      "source": [
        "Ejemplo 139"
      ],
      "metadata": {
        "id": "MkoOL7E-zVLs"
      }
    },
    {
      "cell_type": "markdown",
      "source": [
        "Ejemplo 140"
      ],
      "metadata": {
        "id": "2Wp2CadxzV5a"
      }
    },
    {
      "cell_type": "markdown",
      "source": [
        "Ejemplo 141"
      ],
      "metadata": {
        "id": "R8MxiS9azZgl"
      }
    },
    {
      "cell_type": "markdown",
      "source": [
        "Ejemplo 142"
      ],
      "metadata": {
        "id": "inQ2MDhYzabi"
      }
    },
    {
      "cell_type": "markdown",
      "source": [
        "Ejemplo 143"
      ],
      "metadata": {
        "id": "7qrl0Fd4zbI9"
      }
    },
    {
      "cell_type": "markdown",
      "source": [
        "Ejemplo 144"
      ],
      "metadata": {
        "id": "bpHucQDVzccE"
      }
    },
    {
      "cell_type": "markdown",
      "source": [
        "Ejemplo 145"
      ],
      "metadata": {
        "id": "vhDpApGYzdAl"
      }
    },
    {
      "cell_type": "markdown",
      "source": [
        "Ejemplo 146"
      ],
      "metadata": {
        "id": "HEVsOOogzdnr"
      }
    },
    {
      "cell_type": "markdown",
      "source": [
        "Ejemplo 147"
      ],
      "metadata": {
        "id": "VnSeFHLpzedP"
      }
    },
    {
      "cell_type": "markdown",
      "source": [
        "Ejemplo 148"
      ],
      "metadata": {
        "id": "lcdjVzBfzfmI"
      }
    },
    {
      "cell_type": "markdown",
      "source": [
        "Ejemplo 149"
      ],
      "metadata": {
        "id": "SPkERl1YzgWY"
      }
    },
    {
      "cell_type": "markdown",
      "source": [
        "Ejemplo 150"
      ],
      "metadata": {
        "id": "W8e5d3IUzhEJ"
      }
    },
    {
      "cell_type": "markdown",
      "source": [
        "Ejemplo 151"
      ],
      "metadata": {
        "id": "NLmB9PPrzol8"
      }
    },
    {
      "cell_type": "markdown",
      "source": [
        "Ejemplo 152"
      ],
      "metadata": {
        "id": "whOIiOWfzpMR"
      }
    },
    {
      "cell_type": "markdown",
      "source": [
        "Ejemplo 153"
      ],
      "metadata": {
        "id": "ERzW-fhBzqFz"
      }
    },
    {
      "cell_type": "markdown",
      "source": [
        "Ejemplo 154"
      ],
      "metadata": {
        "id": "PNHDAcpbzqnb"
      }
    },
    {
      "cell_type": "markdown",
      "source": [
        "Ejemplo 155"
      ],
      "metadata": {
        "id": "7GMxjurhzriB"
      }
    },
    {
      "cell_type": "markdown",
      "source": [
        "Ejemplo 156"
      ],
      "metadata": {
        "id": "gwISMQNDzsLr"
      }
    },
    {
      "cell_type": "markdown",
      "source": [
        "Ejemplo 157"
      ],
      "metadata": {
        "id": "ZX8czzPTzs-9"
      }
    },
    {
      "cell_type": "markdown",
      "source": [
        "Ejemplo 158"
      ],
      "metadata": {
        "id": "Sj-le9Wczt0c"
      }
    },
    {
      "cell_type": "markdown",
      "source": [
        "Ejemplo 159"
      ],
      "metadata": {
        "id": "8kgQuhDwzudV"
      }
    },
    {
      "cell_type": "markdown",
      "source": [
        "Ejemplo 160"
      ],
      "metadata": {
        "id": "KX4BzUcezvPQ"
      }
    }
  ]
}