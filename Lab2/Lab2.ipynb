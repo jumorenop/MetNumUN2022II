{
  "cells": [
    {
      "cell_type": "code",
      "execution_count": null,
      "metadata": {
        "colab": {
          "base_uri": "https://localhost:8080/"
        },
        "id": "aUhuwChkxWKW",
        "outputId": "2ba597cb-e45a-40ca-ccde-cec1d0b7a19c"
      },
      "outputs": [
        {
          "output_type": "stream",
          "name": "stdout",
          "text": [
            "Looking in indexes: https://pypi.org/simple, https://us-python.pkg.dev/colab-wheels/public/simple/\n",
            "Requirement already satisfied: fortran-magic in /usr/local/lib/python3.7/dist-packages (0.7)\n",
            "Requirement already satisfied: ipython in /usr/local/lib/python3.7/dist-packages (from fortran-magic) (7.9.0)\n",
            "Requirement already satisfied: numpy in /usr/local/lib/python3.7/dist-packages (from fortran-magic) (1.21.6)\n",
            "Requirement already satisfied: prompt-toolkit<2.1.0,>=2.0.0 in /usr/local/lib/python3.7/dist-packages (from ipython->fortran-magic) (2.0.10)\n",
            "Requirement already satisfied: decorator in /usr/local/lib/python3.7/dist-packages (from ipython->fortran-magic) (4.4.2)\n",
            "Requirement already satisfied: pickleshare in /usr/local/lib/python3.7/dist-packages (from ipython->fortran-magic) (0.7.5)\n",
            "Requirement already satisfied: pygments in /usr/local/lib/python3.7/dist-packages (from ipython->fortran-magic) (2.6.1)\n",
            "Requirement already satisfied: pexpect in /usr/local/lib/python3.7/dist-packages (from ipython->fortran-magic) (4.8.0)\n",
            "Requirement already satisfied: setuptools>=18.5 in /usr/local/lib/python3.7/dist-packages (from ipython->fortran-magic) (57.4.0)\n",
            "Requirement already satisfied: backcall in /usr/local/lib/python3.7/dist-packages (from ipython->fortran-magic) (0.2.0)\n",
            "Requirement already satisfied: jedi>=0.10 in /usr/local/lib/python3.7/dist-packages (from ipython->fortran-magic) (0.18.1)\n",
            "Requirement already satisfied: traitlets>=4.2 in /usr/local/lib/python3.7/dist-packages (from ipython->fortran-magic) (5.1.1)\n",
            "Requirement already satisfied: parso<0.9.0,>=0.8.0 in /usr/local/lib/python3.7/dist-packages (from jedi>=0.10->ipython->fortran-magic) (0.8.3)\n",
            "Requirement already satisfied: wcwidth in /usr/local/lib/python3.7/dist-packages (from prompt-toolkit<2.1.0,>=2.0.0->ipython->fortran-magic) (0.2.5)\n",
            "Requirement already satisfied: six>=1.9.0 in /usr/local/lib/python3.7/dist-packages (from prompt-toolkit<2.1.0,>=2.0.0->ipython->fortran-magic) (1.15.0)\n",
            "Requirement already satisfied: ptyprocess>=0.5 in /usr/local/lib/python3.7/dist-packages (from pexpect->ipython->fortran-magic) (0.7.0)\n"
          ]
        }
      ],
      "source": [
        "pip install -U fortran-magic"
      ]
    },
    {
      "cell_type": "code",
      "execution_count": null,
      "metadata": {
        "colab": {
          "base_uri": "https://localhost:8080/",
          "height": 52
        },
        "id": "k3Y8F-4Nxhap",
        "outputId": "686d3486-534f-4cbd-f13f-54ad8b8c0677"
      },
      "outputs": [
        {
          "output_type": "stream",
          "name": "stderr",
          "text": [
            "/usr/local/lib/python3.7/dist-packages/fortranmagic.py:147: UserWarning: get_ipython_cache_dir has moved to the IPython.paths module since IPython 4.0.\n",
            "  self._lib_dir = os.path.join(get_ipython_cache_dir(), 'fortran')\n"
          ]
        },
        {
          "output_type": "display_data",
          "data": {
            "application/javascript": [
              "new Promise(function(resolve, reject) {\n",
              "\tvar script = document.createElement(\"script\");\n",
              "\tscript.onload = resolve;\n",
              "\tscript.onerror = reject;\n",
              "\tscript.src = \"https://raw.github.com/marijnh/CodeMirror/master/mode/fortran/fortran.js\";\n",
              "\tdocument.head.appendChild(script);\n",
              "}).then(() => {\n",
              "IPython.config.cell_magic_highlight['magic_fortran'] = {'reg':[/^%%fortran/]};\n",
              "});"
            ]
          },
          "metadata": {}
        }
      ],
      "source": [
        "%reload_ext fortranmagic"
      ]
    },
    {
      "cell_type": "code",
      "execution_count": null,
      "metadata": {
        "autoscroll": false,
        "colab": {
          "base_uri": "https://localhost:8080/"
        },
        "ein.tags": "worksheet-0",
        "id": "pA_7DFl2w0UW",
        "outputId": "6467ba0e-57d1-4292-e445-47a759e06cd3"
      },
      "outputs": [
        {
          "output_type": "stream",
          "name": "stdout",
          "text": [
            "The fortranmagic extension is already loaded. To reload it, use:\n",
            "  %reload_ext fortranmagic\n"
          ]
        }
      ],
      "source": [
        "%matplotlib inline\n",
        "%load_ext fortranmagic\n",
        "\n",
        "import sys; sys.path.append('..')\n",
        "\n",
        "import pandas as pd\n",
        "import numpy as np\n",
        "import matplotlib as mpl\n",
        "import matplotlib.pyplot as plt\n",
        "import seaborn as sns\n",
        "\n",
        "mpl.rc('figure', figsize=(12, 7))\n",
        "\n",
        "ran_the_first_cell = True\n",
        "\n",
        "jan2017 = pd.to_datetime(['2017-01-03 00:00:00+00:00',\n",
        " '2017-01-04 00:00:00+00:00',\n",
        " '2017-01-05 00:00:00+00:00',\n",
        " '2017-01-06 00:00:00+00:00',\n",
        " '2017-01-09 00:00:00+00:00',\n",
        " '2017-01-10 00:00:00+00:00',\n",
        " '2017-01-11 00:00:00+00:00',\n",
        " '2017-01-12 00:00:00+00:00',\n",
        " '2017-01-13 00:00:00+00:00',\n",
        " '2017-01-17 00:00:00+00:00',\n",
        " '2017-01-18 00:00:00+00:00',\n",
        " '2017-01-19 00:00:00+00:00',\n",
        " '2017-01-20 00:00:00+00:00',\n",
        " '2017-01-23 00:00:00+00:00',\n",
        " '2017-01-24 00:00:00+00:00',\n",
        " '2017-01-25 00:00:00+00:00',\n",
        " '2017-01-26 00:00:00+00:00',\n",
        " '2017-01-27 00:00:00+00:00',\n",
        " '2017-01-30 00:00:00+00:00',\n",
        " '2017-01-31 00:00:00+00:00',\n",
        " '2017-02-01 00:00:00+00:00'])\n",
        "calendar = jan2017.values.astype('datetime64[D]')\n",
        "\n",
        "event_dates = pd.to_datetime(['2017-01-06 00:00:00+00:00', \n",
        "                             '2017-01-07 00:00:00+00:00', \n",
        "                             '2017-01-08 00:00:00+00:00']).values.astype('datetime64[D]')\n",
        "event_values = np.array([10, 15, 20])"
      ]
    },
    {
      "cell_type": "markdown",
      "metadata": {
        "ein.tags": "worksheet-0",
        "id": "4PBmBQh4w0Uf"
      },
      "source": [
        "<center>\n",
        "  <h1>The PyData Toolbox</h1>\n",
        "  <h3>Scott Sanderson (Twitter: @scottbsanderson, GitHub: ssanderson)</h3>\n",
        "  <h3><a href=\"https://github.com/ssanderson/pydata-toolbox\">https://github.com/ssanderson/pydata-toolbox</a></h3>\n",
        "</center>"
      ]
    },
    {
      "cell_type": "markdown",
      "metadata": {
        "collapsed": true,
        "ein.tags": "worksheet-0",
        "id": "1BhhSfL1w0Uh"
      },
      "source": [
        "# About Me:\n",
        "\n",
        "<img src=\"images/me.jpg\" alt=\"Drawing\" style=\"width: 300px;\"/>\n",
        "\n",
        "- Senior Engineer at [Quantopian](www.quantopian.com)\n",
        "- Background in Mathematics and Philosophy\n",
        "- **Twitter:** [@scottbsanderson](https://twitter.com/scottbsanderson)\n",
        "- **GitHub:** [ssanderson](github.com/ssanderson)"
      ]
    },
    {
      "cell_type": "markdown",
      "metadata": {
        "id": "jajQz9-gw0Uj"
      },
      "source": [
        "## Outline\n",
        "\n",
        "- Built-in Data Structures\n",
        "- Numpy `array`\n",
        "- Pandas `Series`/`DataFrame`\n",
        "- Plotting and \"Real-World\" Analyses"
      ]
    },
    {
      "cell_type": "markdown",
      "metadata": {
        "id": "uNqSwk7lw0Uk"
      },
      "source": [
        "# Data Structures"
      ]
    },
    {
      "cell_type": "markdown",
      "metadata": {
        "id": "Q0AD38L4w0Uk"
      },
      "source": [
        "> Rule 5. Data dominates. If you've chosen the right data structures and organized things well, the algorithms\n",
        "will almost always be self-evident. Data structures, not algorithms, are central to programming.\n",
        "\n",
        "- *Notes on Programming in C*, by Rob Pike."
      ]
    },
    {
      "cell_type": "markdown",
      "metadata": {
        "id": "nNSO8QVhw0Ul"
      },
      "source": [
        "# Lists"
      ]
    },
    {
      "cell_type": "code",
      "execution_count": null,
      "metadata": {
        "collapsed": true,
        "id": "2Emkt4AOw0Un"
      },
      "outputs": [],
      "source": [
        "assert ran_the_first_cell, \"Oh noes!\""
      ]
    },
    {
      "cell_type": "code",
      "execution_count": null,
      "metadata": {
        "colab": {
          "base_uri": "https://localhost:8080/"
        },
        "id": "5MFlN277w0Uo",
        "outputId": "254e033b-7e1e-4301-8f6c-b0639bd03698"
      },
      "outputs": [
        {
          "output_type": "execute_result",
          "data": {
            "text/plain": [
              "[1, 'two', 3.0, 4, 5.0, 'six']"
            ]
          },
          "metadata": {},
          "execution_count": 607
        }
      ],
      "source": [
        "l = [1, 'two', 3.0, 4, 5.0, \"six\"]\n",
        "l"
      ]
    },
    {
      "cell_type": "markdown",
      "metadata": {
        "id": "ccjtANSCzGla"
      },
      "source": [
        "**My own example 1**"
      ]
    },
    {
      "cell_type": "code",
      "execution_count": null,
      "metadata": {
        "colab": {
          "base_uri": "https://localhost:8080/"
        },
        "id": "-R3v1XujzGZe",
        "outputId": "2e3d1ee8-90ed-4a39-a5ca-d74f2e89999d"
      },
      "outputs": [
        {
          "output_type": "execute_result",
          "data": {
            "text/plain": [
              "['True', False, 45, 6]"
            ]
          },
          "metadata": {},
          "execution_count": 608
        }
      ],
      "source": [
        "listado = ['True', False, 45, 6]\n",
        "listado"
      ]
    },
    {
      "cell_type": "code",
      "execution_count": null,
      "metadata": {
        "colab": {
          "base_uri": "https://localhost:8080/"
        },
        "id": "YJ2Prvzaw0Up",
        "outputId": "c9a6ffbd-8205-49df-afef-c9ce65f5cc5a"
      },
      "outputs": [
        {
          "output_type": "stream",
          "name": "stdout",
          "text": [
            "first: 1\n",
            "second: two\n"
          ]
        }
      ],
      "source": [
        "# Lists can be indexed like C-style arrays.\n",
        "first = l[0]\n",
        "second = l[1]\n",
        "print(\"first:\", first)\n",
        "print(\"second:\", second)"
      ]
    },
    {
      "cell_type": "markdown",
      "metadata": {
        "id": "NMnkCMszzcye"
      },
      "source": [
        "**My own example 2**"
      ]
    },
    {
      "cell_type": "code",
      "execution_count": null,
      "metadata": {
        "colab": {
          "base_uri": "https://localhost:8080/"
        },
        "id": "kOpT7M01zclu",
        "outputId": "467f66ea-158e-482f-86ce-84e33cf14861"
      },
      "outputs": [
        {
          "output_type": "stream",
          "name": "stdout",
          "text": [
            "two: False\n",
            "Third: 45\n"
          ]
        }
      ],
      "source": [
        "Third = listado[2]\n",
        "two = listado[1]\n",
        "print(\"two:\", two)\n",
        "print(\"Third:\", Third)"
      ]
    },
    {
      "cell_type": "code",
      "execution_count": null,
      "metadata": {
        "colab": {
          "base_uri": "https://localhost:8080/"
        },
        "id": "TusQI-7Hw0Uq",
        "outputId": "cabc6451-c7d5-4ffa-e0d5-08d16f87b0df"
      },
      "outputs": [
        {
          "output_type": "stream",
          "name": "stdout",
          "text": [
            "last: six\n",
            "second to last: 5.0\n"
          ]
        }
      ],
      "source": [
        "# Negative indexing gives elements relative to the end of the list.\n",
        "last = l[-1]\n",
        "penultimate = l[-2]\n",
        "print(\"last:\", last)\n",
        "print(\"second to last:\", penultimate)"
      ]
    },
    {
      "cell_type": "markdown",
      "metadata": {
        "id": "7aOAce-2z94J"
      },
      "source": [
        "**My own example 3**"
      ]
    },
    {
      "cell_type": "code",
      "execution_count": null,
      "metadata": {
        "colab": {
          "base_uri": "https://localhost:8080/"
        },
        "id": "DN0FnzQHz9sl",
        "outputId": "5b7b35e0-94ba-41f0-8be4-d7a33909df0b"
      },
      "outputs": [
        {
          "output_type": "stream",
          "name": "stdout",
          "text": [
            "6 45\n"
          ]
        }
      ],
      "source": [
        "ultimo = listado[-1]\n",
        "penultimo= listado[-2]\n",
        "print(ultimo, penultimo)"
      ]
    },
    {
      "cell_type": "code",
      "execution_count": null,
      "metadata": {
        "colab": {
          "base_uri": "https://localhost:8080/"
        },
        "id": "AvMvhd3mw0Ur",
        "outputId": "a5be885c-8a23-4b7b-f723-be559019b175"
      },
      "outputs": [
        {
          "output_type": "execute_result",
          "data": {
            "text/plain": [
              "['two', 3.0]"
            ]
          },
          "metadata": {},
          "execution_count": 613
        }
      ],
      "source": [
        "# Lists can also be sliced, which makes a copy of elements between \n",
        "# start (inclusive) and stop (exclusive)\n",
        "sublist = l[1:3]\n",
        "sublist"
      ]
    },
    {
      "cell_type": "markdown",
      "metadata": {
        "id": "ZqZRQ9g20ImN"
      },
      "source": [
        "**My own example 4**"
      ]
    },
    {
      "cell_type": "code",
      "execution_count": null,
      "metadata": {
        "colab": {
          "base_uri": "https://localhost:8080/"
        },
        "id": "0MGlVLD40IcA",
        "outputId": "bc296090-91e4-4005-8963-6b84b8945487"
      },
      "outputs": [
        {
          "output_type": "execute_result",
          "data": {
            "text/plain": [
              "[False, 45]"
            ]
          },
          "metadata": {},
          "execution_count": 614
        }
      ],
      "source": [
        "mini = listado[1:3]\n",
        "mini"
      ]
    },
    {
      "cell_type": "code",
      "execution_count": null,
      "metadata": {
        "colab": {
          "base_uri": "https://localhost:8080/"
        },
        "id": "Pgf0eEGPw0Us",
        "outputId": "e7a40609-e76c-4e51-f31e-da9e9d6c5b83"
      },
      "outputs": [
        {
          "output_type": "execute_result",
          "data": {
            "text/plain": [
              "[1, 'two', 3.0]"
            ]
          },
          "metadata": {},
          "execution_count": 615
        }
      ],
      "source": [
        "# l[:N] is equivalent to l[0:N].\n",
        "first_three = l[:3]\n",
        "first_three"
      ]
    },
    {
      "cell_type": "markdown",
      "metadata": {
        "id": "tF8d3hfa0Sr3"
      },
      "source": [
        "**My own example 5**"
      ]
    },
    {
      "cell_type": "code",
      "execution_count": null,
      "metadata": {
        "colab": {
          "base_uri": "https://localhost:8080/"
        },
        "id": "jFw5l5PU0SjD",
        "outputId": "b35d03d7-c6e3-4fd8-c97c-9c42c7de87b9"
      },
      "outputs": [
        {
          "output_type": "execute_result",
          "data": {
            "text/plain": [
              "['True', False, 45]"
            ]
          },
          "metadata": {},
          "execution_count": 616
        }
      ],
      "source": [
        "tres = listado[:3]\n",
        "tres"
      ]
    },
    {
      "cell_type": "code",
      "execution_count": null,
      "metadata": {
        "colab": {
          "base_uri": "https://localhost:8080/"
        },
        "id": "exKvKMVPw0Ut",
        "outputId": "fdfefd9e-4df5-4b78-c0a7-d844fb2cba82"
      },
      "outputs": [
        {
          "output_type": "execute_result",
          "data": {
            "text/plain": [
              "[4, 5.0, 'six']"
            ]
          },
          "metadata": {},
          "execution_count": 617
        }
      ],
      "source": [
        "# l[3:] is equivalent to l[3:len(l)].\n",
        "after_three = l[3:]\n",
        "after_three"
      ]
    },
    {
      "cell_type": "markdown",
      "metadata": {
        "id": "ntRC0bVt0bjZ"
      },
      "source": [
        "**My own example 6**"
      ]
    },
    {
      "cell_type": "code",
      "execution_count": null,
      "metadata": {
        "colab": {
          "base_uri": "https://localhost:8080/"
        },
        "id": "hjS5mBvV0bYj",
        "outputId": "4e85e1e5-d855-4488-a7dc-26bd1dac8a7b"
      },
      "outputs": [
        {
          "output_type": "execute_result",
          "data": {
            "text/plain": [
              "[6]"
            ]
          },
          "metadata": {},
          "execution_count": 618
        }
      ],
      "source": [
        "ultimos = listado[3:]\n",
        "ultimos"
      ]
    },
    {
      "cell_type": "code",
      "execution_count": null,
      "metadata": {
        "colab": {
          "base_uri": "https://localhost:8080/"
        },
        "id": "n1r2QjqUw0Uu",
        "outputId": "e00dce0e-d2d4-4e45-f092-f3104714b549"
      },
      "outputs": [
        {
          "output_type": "execute_result",
          "data": {
            "text/plain": [
              "['b', 'd', 'f']"
            ]
          },
          "metadata": {},
          "execution_count": 619
        }
      ],
      "source": [
        "# There's also a third parameter, \"step\", which gets every Nth element.\n",
        "l = ['a', 'b', 'c', 'd', 'e', 'f', 'g','h']\n",
        "l[1:7:2]"
      ]
    },
    {
      "cell_type": "markdown",
      "metadata": {
        "id": "4FaNAq0B0klu"
      },
      "source": [
        "**My own example 7**"
      ]
    },
    {
      "cell_type": "code",
      "execution_count": null,
      "metadata": {
        "colab": {
          "base_uri": "https://localhost:8080/"
        },
        "id": "glfxcP680kZ6",
        "outputId": "788ff79c-82fa-4662-d6e4-1eafd34774dd"
      },
      "outputs": [
        {
          "output_type": "execute_result",
          "data": {
            "text/plain": [
              "['5ydrr', True]"
            ]
          },
          "metadata": {},
          "execution_count": 620
        }
      ],
      "source": [
        "listado = [46334643,'restsees','hrhrhttt','5ydrr',54,'6',True,'8']\n",
        "listado[3:9:3]"
      ]
    },
    {
      "cell_type": "code",
      "execution_count": null,
      "metadata": {
        "colab": {
          "base_uri": "https://localhost:8080/"
        },
        "id": "YjEgU41Ww0Uu",
        "outputId": "a9713692-b59a-4210-ad77-0af2931b2e38"
      },
      "outputs": [
        {
          "output_type": "execute_result",
          "data": {
            "text/plain": [
              "['h', 'g', 'f', 'e', 'd', 'c', 'b', 'a']"
            ]
          },
          "metadata": {},
          "execution_count": 621
        }
      ],
      "source": [
        "# This is a cute way to reverse a list.\n",
        "l[::-1]"
      ]
    },
    {
      "cell_type": "markdown",
      "metadata": {
        "id": "XKEJb_Tw0zni"
      },
      "source": [
        "**My own example 8**"
      ]
    },
    {
      "cell_type": "code",
      "execution_count": null,
      "metadata": {
        "colab": {
          "base_uri": "https://localhost:8080/"
        },
        "id": "4RuTFI6k0zd_",
        "outputId": "4cc248dc-8233-443b-dc0e-f69c0775c580"
      },
      "outputs": [
        {
          "output_type": "execute_result",
          "data": {
            "text/plain": [
              "['8', True, '6', 54, '5ydrr', 'hrhrhttt', 'restsees', 46334643]"
            ]
          },
          "metadata": {},
          "execution_count": 622
        }
      ],
      "source": [
        "listado[::-1]"
      ]
    },
    {
      "cell_type": "code",
      "execution_count": null,
      "metadata": {
        "colab": {
          "base_uri": "https://localhost:8080/"
        },
        "id": "ApB6N96Tw0Uv",
        "outputId": "f7995c64-00c6-4e82-95fd-d9ddfaf11919"
      },
      "outputs": [
        {
          "output_type": "stream",
          "name": "stdout",
          "text": [
            "Before: [1, 2, 3, 4, 5]\n",
            "After: [1, 2, 3, 4, 5, 'six']\n"
          ]
        }
      ],
      "source": [
        "# Lists can be grown efficiently (in O(1) amortized time).\n",
        "l = [1, 2, 3, 4, 5]\n",
        "print(\"Before:\", l)\n",
        "l.append('six')\n",
        "print(\"After:\", l)"
      ]
    },
    {
      "cell_type": "markdown",
      "metadata": {
        "id": "LMnYeqj708va"
      },
      "source": [
        "**My own example 9**"
      ]
    },
    {
      "cell_type": "code",
      "execution_count": null,
      "metadata": {
        "colab": {
          "base_uri": "https://localhost:8080/"
        },
        "id": "d1TuUMFF08lk",
        "outputId": "bf8a62d8-7f15-4777-a63a-b7768be71752"
      },
      "outputs": [
        {
          "output_type": "stream",
          "name": "stdout",
          "text": [
            "antes [77777777777, 'jijijijijijaja', '23', 'd']\n",
            "despues [77777777777, 'jijijijijijaja', '23', 'd', 'e']\n"
          ]
        }
      ],
      "source": [
        "listado = [77777777777,'jijijijijijaja','23','d']\n",
        "print(\"antes\", listado)\n",
        "listado.append(\"e\")\n",
        "print(\"despues\", listado)"
      ]
    },
    {
      "cell_type": "code",
      "execution_count": null,
      "metadata": {
        "colab": {
          "base_uri": "https://localhost:8080/"
        },
        "id": "Uep0eBvhw0Uv",
        "outputId": "564f0e8f-7f5c-4fc8-a94e-580bd32504e9"
      },
      "outputs": [
        {
          "output_type": "execute_result",
          "data": {
            "text/plain": [
              "[2, 4, 6, 8, 10]"
            ]
          },
          "metadata": {},
          "execution_count": 625
        }
      ],
      "source": [
        "# Comprehensions let us perform elementwise computations.\n",
        "l = [1, 2, 3, 4, 5]\n",
        "[x * 2 for x in l]"
      ]
    },
    {
      "cell_type": "markdown",
      "metadata": {
        "id": "EC2SoRq61TLh"
      },
      "source": [
        "**My own example 10**"
      ]
    },
    {
      "cell_type": "code",
      "execution_count": null,
      "metadata": {
        "colab": {
          "base_uri": "https://localhost:8080/"
        },
        "id": "YrRz6Dzt1TBI",
        "outputId": "0839700c-5d5b-4c98-d4b9-141dd9028b06"
      },
      "outputs": [
        {
          "output_type": "execute_result",
          "data": {
            "text/plain": [
              "['1AE', 'ffBAE', 'CfAE', 'ffffdAE']"
            ]
          },
          "metadata": {},
          "execution_count": 626
        }
      ],
      "source": [
        "listado = ['1','ffB','Cf','ffffd']\n",
        "[h + 'AE' for h in listado]"
      ]
    },
    {
      "cell_type": "markdown",
      "metadata": {
        "ein.tags": "worksheet-0",
        "id": "RxP_mALuw0Uv"
      },
      "source": [
        "## Review: Python Lists\n",
        "\n",
        "- Zero-indexed sequence of arbitrary Python values.\n",
        "- Slicing syntax: `l[start:stop:step]` copies elements at regular intervals from `start` to `stop`.\n",
        "- Efficient (`O(1)`) appends and removes from end.\n",
        "- Comprehension syntax: `[f(x) for x in l if cond(x)]`."
      ]
    },
    {
      "cell_type": "markdown",
      "metadata": {
        "id": "J9hBM6Ucw0Uw"
      },
      "source": [
        "# Dictionaries"
      ]
    },
    {
      "cell_type": "code",
      "execution_count": null,
      "metadata": {
        "colab": {
          "base_uri": "https://localhost:8080/"
        },
        "id": "STnKH8xlw0Uw",
        "outputId": "5912c845-31b9-4160-f3ff-09610393b972"
      },
      "outputs": [
        {
          "output_type": "execute_result",
          "data": {
            "text/plain": [
              "{'David': 'Hume', 'Immanuel': 'Kant', 'Bertrand': 'Russell'}"
            ]
          },
          "metadata": {},
          "execution_count": 627
        }
      ],
      "source": [
        "# Dictionaries are key-value mappings.\n",
        "philosophers = {'David': 'Hume', 'Immanuel': 'Kant', 'Bertrand': 'Russell'}\n",
        "philosophers"
      ]
    },
    {
      "cell_type": "markdown",
      "metadata": {
        "id": "H9jfcPYg2ROd"
      },
      "source": [
        "**My own example 11**"
      ]
    },
    {
      "cell_type": "code",
      "execution_count": null,
      "metadata": {
        "colab": {
          "base_uri": "https://localhost:8080/"
        },
        "id": "LCdB7urI2RA5",
        "outputId": "324d5d25-5973-40f2-e269-ecaa843f9fec"
      },
      "outputs": [
        {
          "output_type": "execute_result",
          "data": {
            "text/plain": [
              "{'GG': 'Gucci', '7up': 'seven-up', 'PR': 'Prada'}"
            ]
          },
          "metadata": {},
          "execution_count": 628
        }
      ],
      "source": [
        "Marca = {\"GG\": \"Gucci\", \"7up\": \"seven-up\", \"PR\" : \"Prada\"}\n",
        "Marca"
      ]
    },
    {
      "cell_type": "code",
      "execution_count": null,
      "metadata": {
        "colab": {
          "base_uri": "https://localhost:8080/"
        },
        "id": "cK4X9hlow0Uw",
        "outputId": "5a20a687-022d-4f19-a00c-a7486dfe394e"
      },
      "outputs": [
        {
          "output_type": "execute_result",
          "data": {
            "text/plain": [
              "{'David': 'Hume',\n",
              " 'Immanuel': 'Kant',\n",
              " 'Bertrand': 'Russell',\n",
              " 'Ludwig': 'Wittgenstein'}"
            ]
          },
          "metadata": {},
          "execution_count": 629
        }
      ],
      "source": [
        "# Like lists, dictionaries are size-mutable.\n",
        "philosophers['Ludwig'] = 'Wittgenstein'\n",
        "philosophers"
      ]
    },
    {
      "cell_type": "markdown",
      "metadata": {
        "id": "_kfWKWaH2kGq"
      },
      "source": [
        "**My own example 12**"
      ]
    },
    {
      "cell_type": "code",
      "execution_count": null,
      "metadata": {
        "colab": {
          "base_uri": "https://localhost:8080/"
        },
        "id": "FK5UKHV-2j9d",
        "outputId": "c5a84433-82a7-443b-f2bc-c1df55f7e2e2"
      },
      "outputs": [
        {
          "output_type": "execute_result",
          "data": {
            "text/plain": [
              "{'GG': 'GoodGame', '7up': 'seven-up', 'PR': 'Prada'}"
            ]
          },
          "metadata": {},
          "execution_count": 630
        }
      ],
      "source": [
        "Marca[\"GG\"] = \"GoodGame\"\n",
        "Marca"
      ]
    },
    {
      "cell_type": "code",
      "execution_count": null,
      "metadata": {
        "colab": {
          "base_uri": "https://localhost:8080/"
        },
        "id": "7p2fLujdw0Ux",
        "outputId": "f6d70571-2f67-4cae-9af6-e5912159c879"
      },
      "outputs": [
        {
          "output_type": "execute_result",
          "data": {
            "text/plain": [
              "{'Immanuel': 'Kant', 'Bertrand': 'Russell', 'Ludwig': 'Wittgenstein'}"
            ]
          },
          "metadata": {},
          "execution_count": 631
        }
      ],
      "source": [
        "del philosophers['David']\n",
        "philosophers"
      ]
    },
    {
      "cell_type": "markdown",
      "metadata": {
        "id": "BqtEriGZ3nwM"
      },
      "source": [
        "**My own example 13**"
      ]
    },
    {
      "cell_type": "code",
      "execution_count": null,
      "metadata": {
        "colab": {
          "base_uri": "https://localhost:8080/"
        },
        "id": "P6OteyQL3nng",
        "outputId": "62d1de7c-7325-409d-930c-a4c2436316bb"
      },
      "outputs": [
        {
          "output_type": "execute_result",
          "data": {
            "text/plain": [
              "{'GG': 'GoodGame', '7up': 'seven-up'}"
            ]
          },
          "metadata": {},
          "execution_count": 632
        }
      ],
      "source": [
        "del Marca[\"PR\"]\n",
        "Marca"
      ]
    },
    {
      "cell_type": "code",
      "execution_count": null,
      "metadata": {
        "id": "8lVgI3HSw0Ux"
      },
      "outputs": [],
      "source": [
        "# No slicing.\n",
        "\n",
        "philosophers['Bertrand':'Immanuel']"
      ]
    },
    {
      "cell_type": "markdown",
      "metadata": {
        "id": "2kOya9aX32yP"
      },
      "source": [
        "**My own example 14**"
      ]
    },
    {
      "cell_type": "code",
      "execution_count": null,
      "metadata": {
        "id": "BVV00mo132jO"
      },
      "outputs": [],
      "source": [
        "Marca[\"7up\":\"GG\"]"
      ]
    },
    {
      "cell_type": "markdown",
      "metadata": {
        "ein.tags": "worksheet-0",
        "id": "MRLnzOvew0Uy"
      },
      "source": [
        "## Review: Python Dictionaries\n",
        "\n",
        "- Unordered key-value mapping from (almost) arbitrary keys to arbitrary values.\n",
        "- Efficient (`O(1)`) lookup, insertion, and deletion.\n",
        "- No slicing (would require a notion of order)."
      ]
    },
    {
      "cell_type": "markdown",
      "metadata": {
        "id": "iPRktU4Kw0Uy"
      },
      "source": [
        "<center><img src=\"images/pacino.gif\" alt=\"Drawing\" style=\"width: 100%;\"/></center>\n"
      ]
    },
    {
      "cell_type": "code",
      "execution_count": null,
      "metadata": {
        "collapsed": true,
        "id": "SOa-t_7hw0Uy"
      },
      "outputs": [],
      "source": [
        "# Suppose we have some matrices...\n",
        "a = [[1, 2, 3],\n",
        "     [2, 3, 4],\n",
        "     [5, 6, 7],\n",
        "     [1, 1, 1]]\n",
        "\n",
        "b = [[1, 2, 3, 4],\n",
        "     [2, 3, 4, 5]]"
      ]
    },
    {
      "cell_type": "markdown",
      "metadata": {
        "id": "L4MoeVxy4mr_"
      },
      "source": [
        "**My own example 15**"
      ]
    },
    {
      "cell_type": "code",
      "execution_count": null,
      "metadata": {
        "id": "vp0YY6ct4meY"
      },
      "outputs": [],
      "source": [
        "x = [[13,14,15],\n",
        "     [16,17,18],\n",
        "     [16,17,18],\n",
        "     [16,17,18]]\n",
        "\n",
        "y = [[9,8,7,23,23],\n",
        "     [10,11,12,23,23],]"
      ]
    },
    {
      "cell_type": "code",
      "execution_count": null,
      "metadata": {
        "collapsed": true,
        "id": "PmJ5DexWw0Uz"
      },
      "outputs": [],
      "source": [
        "def matmul(A, B):\n",
        "    \"\"\"Multiply matrix A by matrix B.\"\"\"\n",
        "    rows_out = len(A)\n",
        "    cols_out = len(B[0])\n",
        "    out = [[0 for col in range(cols_out)] for row in range(rows_out)]\n",
        "    \n",
        "    for i in range(rows_out):\n",
        "        for j in range(cols_out):\n",
        "            for k in range(len(B)):\n",
        "                out[i][j] += A[i][k] * B[k][j]\n",
        "    return out"
      ]
    },
    {
      "cell_type": "markdown",
      "metadata": {
        "id": "lYIPKwb2w0Uz"
      },
      "source": [
        "<center><img src=\"images/gross.gif\" alt=\"Drawing\" style=\"width: 50%;\"/></center>\n"
      ]
    },
    {
      "cell_type": "code",
      "execution_count": null,
      "metadata": {
        "colab": {
          "base_uri": "https://localhost:8080/"
        },
        "id": "3xx24tauw0Uz",
        "outputId": "51febe1d-67e2-4df2-9008-d9ae153bb799"
      },
      "outputs": [
        {
          "output_type": "stream",
          "name": "stdout",
          "text": [
            "CPU times: user 48 µs, sys: 0 ns, total: 48 µs\n",
            "Wall time: 52.9 µs\n"
          ]
        },
        {
          "output_type": "execute_result",
          "data": {
            "text/plain": [
              "[[5, 8, 11, 14], [8, 13, 18, 23], [17, 28, 39, 50], [3, 5, 7, 9]]"
            ]
          },
          "metadata": {},
          "execution_count": 638
        }
      ],
      "source": [
        "%%time\n",
        "\n",
        "matmul(a, b)"
      ]
    },
    {
      "cell_type": "markdown",
      "metadata": {
        "id": "-o_WLJ-gUo5I"
      },
      "source": [
        "**My own example 16**"
      ]
    },
    {
      "cell_type": "code",
      "execution_count": null,
      "metadata": {
        "colab": {
          "base_uri": "https://localhost:8080/"
        },
        "id": "g2jgJemjUovx",
        "outputId": "dc55d53d-c390-45b1-dd32-68713215c68d"
      },
      "outputs": [
        {
          "output_type": "stream",
          "name": "stdout",
          "text": [
            "CPU times: user 42 µs, sys: 1 µs, total: 43 µs\n",
            "Wall time: 47.9 µs\n"
          ]
        },
        {
          "output_type": "execute_result",
          "data": {
            "text/plain": [
              "[[257, 258, 259, 621, 621],\n",
              " [314, 315, 316, 759, 759],\n",
              " [314, 315, 316, 759, 759],\n",
              " [314, 315, 316, 759, 759]]"
            ]
          },
          "metadata": {},
          "execution_count": 639
        }
      ],
      "source": [
        "%%time\n",
        "matmul(x, y)"
      ]
    },
    {
      "cell_type": "code",
      "execution_count": null,
      "metadata": {
        "colab": {
          "base_uri": "https://localhost:8080/"
        },
        "id": "73cuStxow0U0",
        "outputId": "ee1ff082-c65b-44b9-e265-34919cb79a9f"
      },
      "outputs": [
        {
          "output_type": "execute_result",
          "data": {
            "text/plain": [
              "[[0.11327966427074465, 0.4307269679845356, 0.8993675720560358],\n",
              " [0.715333685492867, 0.1321880363702097, 0.6371525924552385]]"
            ]
          },
          "metadata": {},
          "execution_count": 640
        }
      ],
      "source": [
        "import random\n",
        "def random_matrix(m, n):\n",
        "    out = []\n",
        "    for row in range(m):\n",
        "        out.append([random.random() for _ in range(n)])\n",
        "    return out\n",
        "\n",
        "randm = random_matrix(2, 3)\n",
        "randm"
      ]
    },
    {
      "cell_type": "code",
      "execution_count": null,
      "metadata": {
        "colab": {
          "base_uri": "https://localhost:8080/"
        },
        "id": "qfCPBlctw0U0",
        "outputId": "6bf9a9c6-20f5-4dfa-d6e2-ad1cf7976108",
        "scrolled": true
      },
      "outputs": [
        {
          "output_type": "stream",
          "name": "stdout",
          "text": [
            "CPU times: user 8.81 s, sys: 31.4 ms, total: 8.85 s\n",
            "Wall time: 9.13 s\n"
          ]
        }
      ],
      "source": [
        "%%time\n",
        "randa = random_matrix(600, 100)\n",
        "randb = random_matrix(100, 600)\n",
        "x = matmul(randa, randb)"
      ]
    },
    {
      "cell_type": "markdown",
      "metadata": {
        "id": "CnisINN9Tr_s"
      },
      "source": [
        "**My own example 17**"
      ]
    },
    {
      "cell_type": "code",
      "execution_count": null,
      "metadata": {
        "colab": {
          "base_uri": "https://localhost:8080/"
        },
        "id": "Cn9aI0DrTr14",
        "outputId": "574cdc86-e398-4b4a-c94c-5b6d38895a6a"
      },
      "outputs": [
        {
          "output_type": "stream",
          "name": "stdout",
          "text": [
            "CPU times: user 3.35 s, sys: 13.3 ms, total: 3.36 s\n",
            "Wall time: 3.36 s\n"
          ]
        }
      ],
      "source": [
        "%%time\n",
        "RandM1 = random_matrix(400,100)\n",
        "RandM2 = random_matrix(100,400)\n",
        "f = matmul(RandM1, RandM2)"
      ]
    },
    {
      "cell_type": "code",
      "execution_count": null,
      "metadata": {
        "collapsed": true,
        "id": "RxyBwqSLw0U0"
      },
      "outputs": [],
      "source": [
        "# Maybe that's not that bad?  Let's try a simpler case.\n",
        "def python_dot_product(xs, ys):\n",
        "    return sum(x * y for x, y in zip(xs, ys))"
      ]
    },
    {
      "cell_type": "code",
      "execution_count": null,
      "metadata": {
        "collapsed": true,
        "id": "LNkTC9PWw0U1"
      },
      "outputs": [],
      "source": [
        "%%fortran\n",
        "subroutine fortran_dot_product(xs, ys, result)\n",
        "    double precision, intent(in) :: xs(:)\n",
        "    double precision, intent(in) :: ys(:)\n",
        "    double precision, intent(out) :: result\n",
        "    \n",
        "    result = sum(xs * ys)\n",
        "end"
      ]
    },
    {
      "cell_type": "code",
      "execution_count": null,
      "metadata": {
        "collapsed": true,
        "id": "rN3u_aLsw0U1"
      },
      "outputs": [],
      "source": [
        "list_data = [float(i) for i in range(100000)]\n",
        "array_data = np.array(list_data)"
      ]
    },
    {
      "cell_type": "markdown",
      "metadata": {
        "id": "eQNOE-CQ2Ev4"
      },
      "source": [
        "**My own example 18**"
      ]
    },
    {
      "cell_type": "code",
      "execution_count": null,
      "metadata": {
        "id": "ZNfNiOgh2Em3"
      },
      "outputs": [],
      "source": [
        "things = [float(i) for i in range(100,1000)]\n",
        "Arrthings = np.array(things)"
      ]
    },
    {
      "cell_type": "code",
      "execution_count": null,
      "metadata": {
        "colab": {
          "base_uri": "https://localhost:8080/"
        },
        "id": "s9HlB76tw0U1",
        "outputId": "e48f9b12-eba7-4a2d-961b-4c508ee14eec"
      },
      "outputs": [
        {
          "output_type": "stream",
          "name": "stdout",
          "text": [
            "CPU times: user 12.9 ms, sys: 32 µs, total: 13 ms\n",
            "Wall time: 14.6 ms\n"
          ]
        },
        {
          "output_type": "execute_result",
          "data": {
            "text/plain": [
              "333328333350000.0"
            ]
          },
          "metadata": {},
          "execution_count": 647
        }
      ],
      "source": [
        "%%time\n",
        "python_dot_product(list_data, list_data)"
      ]
    },
    {
      "cell_type": "markdown",
      "metadata": {
        "id": "Duw2VBEG2RA2"
      },
      "source": [
        "**My own example 19**"
      ]
    },
    {
      "cell_type": "code",
      "execution_count": null,
      "metadata": {
        "colab": {
          "base_uri": "https://localhost:8080/"
        },
        "id": "BYuBZqar2Q43",
        "outputId": "deae4a05-e95d-413c-f659-faeb3e9daf53"
      },
      "outputs": [
        {
          "output_type": "stream",
          "name": "stdout",
          "text": [
            "CPU times: user 154 µs, sys: 0 ns, total: 154 µs\n",
            "Wall time: 162 µs\n"
          ]
        },
        {
          "output_type": "execute_result",
          "data": {
            "text/plain": [
              "332505150.0"
            ]
          },
          "metadata": {},
          "execution_count": 648
        }
      ],
      "source": [
        "%%time\n",
        "python_dot_product(things, things)"
      ]
    },
    {
      "cell_type": "code",
      "execution_count": null,
      "metadata": {
        "colab": {
          "base_uri": "https://localhost:8080/"
        },
        "id": "mf7vXUI1w0U1",
        "outputId": "1cb121f3-13b5-4cad-fa70-37066dff9f44"
      },
      "outputs": [
        {
          "output_type": "stream",
          "name": "stdout",
          "text": [
            "CPU times: user 199 µs, sys: 6 µs, total: 205 µs\n",
            "Wall time: 247 µs\n"
          ]
        },
        {
          "output_type": "execute_result",
          "data": {
            "text/plain": [
              "333328333350000.0"
            ]
          },
          "metadata": {},
          "execution_count": 649
        }
      ],
      "source": [
        "%%time\n",
        "fortran_dot_product(array_data, array_data)"
      ]
    },
    {
      "cell_type": "markdown",
      "metadata": {
        "id": "QNDgHHl_2XIl"
      },
      "source": [
        "**My own example 20**"
      ]
    },
    {
      "cell_type": "code",
      "execution_count": null,
      "metadata": {
        "colab": {
          "base_uri": "https://localhost:8080/"
        },
        "id": "oL3hzz4l2W_I",
        "outputId": "6532d5a8-1158-4d91-ae35-764861fdd961"
      },
      "outputs": [
        {
          "output_type": "stream",
          "name": "stdout",
          "text": [
            "CPU times: user 11 µs, sys: 1 µs, total: 12 µs\n",
            "Wall time: 15.5 µs\n"
          ]
        },
        {
          "output_type": "execute_result",
          "data": {
            "text/plain": [
              "332505150.0"
            ]
          },
          "metadata": {},
          "execution_count": 650
        }
      ],
      "source": [
        "%%time\n",
        "fortran_dot_product(Arrthings, Arrthings)"
      ]
    },
    {
      "cell_type": "markdown",
      "metadata": {
        "id": "yYRHU-JXw0U2"
      },
      "source": [
        "<center><img src=\"images/sloth.gif\" alt=\"Drawing\" style=\"width: 1080px;\"/></center>\n"
      ]
    },
    {
      "cell_type": "markdown",
      "metadata": {
        "id": "RHj-B-J3w0U2"
      },
      "source": [
        "## Why is the Python Version so Much Slower?"
      ]
    },
    {
      "cell_type": "code",
      "execution_count": null,
      "metadata": {
        "colab": {
          "base_uri": "https://localhost:8080/"
        },
        "id": "xaeEFhOcw0U2",
        "outputId": "67a52b17-7e76-490b-9fb5-68c78050ccc9"
      },
      "outputs": [
        {
          "output_type": "execute_result",
          "data": {
            "text/plain": [
              "[1, (4+0j), 9.0, 'fourfourfourfour']"
            ]
          },
          "metadata": {},
          "execution_count": 651
        }
      ],
      "source": [
        "# Dynamic typing.\n",
        "def mul_elemwise(xs, ys):\n",
        "    return [x * y for x, y in zip(xs, ys)]\n",
        "\n",
        "mul_elemwise([1, 2, 3, 4], [1, 2 + 0j, 3.0, 'four'])\n",
        "#[type(x) for x in _]"
      ]
    },
    {
      "cell_type": "markdown",
      "metadata": {
        "id": "sxKF-bJ2XK8i"
      },
      "source": [
        "**My own example 21**"
      ]
    },
    {
      "cell_type": "code",
      "execution_count": null,
      "metadata": {
        "colab": {
          "base_uri": "https://localhost:8080/"
        },
        "id": "SQ8r7P06XKxb",
        "outputId": "f807a11b-8ae7-4617-aeca-2228606038a4"
      },
      "outputs": [
        {
          "output_type": "execute_result",
          "data": {
            "text/plain": [
              "['HolaHolaHolaHolaHolaHolaHolaHolaHolaHolaHolaHola', 33333, 4922]"
            ]
          },
          "metadata": {},
          "execution_count": 652
        }
      ],
      "source": [
        "mul_elemwise([12,1,23], [\"Hola\", 33333, 214])"
      ]
    },
    {
      "cell_type": "code",
      "execution_count": null,
      "metadata": {
        "colab": {
          "base_uri": "https://localhost:8080/"
        },
        "id": "ad30o-zaw0U3",
        "outputId": "d87737ac-f5bc-42f6-adc4-612c7be9e51e"
      },
      "outputs": [
        {
          "output_type": "stream",
          "name": "stdout",
          "text": [
            "  1           0 LOAD_NAME                0 (a)\n",
            "              2 LOAD_NAME                1 (b)\n",
            "              4 LOAD_NAME                2 (c)\n",
            "              6 BINARY_MULTIPLY\n",
            "              8 BINARY_ADD\n",
            "             10 RETURN_VALUE\n"
          ]
        }
      ],
      "source": [
        "# Interpretation overhead.\n",
        "source_code = 'a + b * c'\n",
        "bytecode = compile(source_code, '', 'eval')\n",
        "import dis; dis.dis(bytecode)"
      ]
    },
    {
      "cell_type": "markdown",
      "metadata": {
        "id": "01a9Fiimw0U3"
      },
      "source": [
        "## Why is the Python Version so Slow?\n",
        "- Dynamic typing means that every single operation requires dispatching on the input type.\n",
        "- Having an interpreter means that every instruction is fetched and dispatched at runtime.\n",
        "- Other overheads:\n",
        "  - Arbitrary-size integers.\n",
        "  - Reference-counted garbage collection."
      ]
    },
    {
      "cell_type": "markdown",
      "metadata": {
        "id": "a5Kc0BMow0U3"
      },
      "source": [
        "> This is the paradox that we have to work with when we're doing scientific or numerically-intensive Python. What makes Python fast for development -- this high-level, interpreted, and dynamically-typed aspect of the language -- is exactly what makes it slow for code execution.\n",
        "\n",
        "- Jake VanderPlas, [*Losing Your Loops: Fast Numerical Computing with NumPy*](https://www.youtube.com/watch?v=EEUXKG97YRw)"
      ]
    },
    {
      "cell_type": "markdown",
      "metadata": {
        "id": "ExeLJkSJw0U3"
      },
      "source": [
        "# What Do We Do?"
      ]
    },
    {
      "cell_type": "markdown",
      "metadata": {
        "id": "IboTO95kw0U4"
      },
      "source": [
        "<center><img src=\"images/runaway.gif\" alt=\"Drawing\" style=\"width: 50%;\"/></center>"
      ]
    },
    {
      "cell_type": "markdown",
      "metadata": {
        "id": "NB2HcyyTw0U4"
      },
      "source": [
        "<center><img src=\"images/thisisfine.gif\" alt=\"Drawing\" style=\"width: 1080px;\"/></center>"
      ]
    },
    {
      "cell_type": "markdown",
      "metadata": {
        "id": "XzSTgKMIw0U4"
      },
      "source": [
        "- Python is slow for numerical computation because it performs dynamic dispatch on every operation we perform..."
      ]
    },
    {
      "cell_type": "markdown",
      "metadata": {
        "collapsed": true,
        "id": "9HsUKW3Lw0U4"
      },
      "source": [
        "- ...but often, we just want to do the same thing over and over in a loop!"
      ]
    },
    {
      "cell_type": "markdown",
      "metadata": {
        "id": "DEwRFCSIw0U4"
      },
      "source": [
        "- If we don't need Python's dynamicism, we don't want to pay (much) for it."
      ]
    },
    {
      "cell_type": "markdown",
      "metadata": {
        "id": "tuhW7LLAw0U5"
      },
      "source": [
        "- **Idea:** Dispatch **once per operation** instead of **once per element**."
      ]
    },
    {
      "cell_type": "code",
      "execution_count": null,
      "metadata": {
        "colab": {
          "base_uri": "https://localhost:8080/"
        },
        "id": "ioChKmPrw0U5",
        "outputId": "726b1fb9-65fb-44c6-dd94-f1d102d6271a"
      },
      "outputs": [
        {
          "output_type": "execute_result",
          "data": {
            "text/plain": [
              "array([1, 2, 3, 4])"
            ]
          },
          "metadata": {},
          "execution_count": 654
        }
      ],
      "source": [
        "import numpy as np\n",
        "\n",
        "data = np.array([1, 2, 3, 4])\n",
        "data"
      ]
    },
    {
      "cell_type": "markdown",
      "metadata": {
        "id": "L8WEH9fsz2Jp"
      },
      "source": [
        "**My own example 22**"
      ]
    },
    {
      "cell_type": "code",
      "execution_count": null,
      "metadata": {
        "colab": {
          "base_uri": "https://localhost:8080/"
        },
        "id": "L2lToYjnz2BN",
        "outputId": "4cda9b2c-70d0-4386-eb70-08403a7a24c5"
      },
      "outputs": [
        {
          "output_type": "execute_result",
          "data": {
            "text/plain": [
              "array([   12,   123,  1234,  4567, 44444])"
            ]
          },
          "metadata": {},
          "execution_count": 655
        }
      ],
      "source": [
        "things = np.array([12,123,1234,4567,44444])\n",
        "things"
      ]
    },
    {
      "cell_type": "code",
      "execution_count": null,
      "metadata": {
        "colab": {
          "base_uri": "https://localhost:8080/"
        },
        "id": "LXTRz14Bw0U5",
        "outputId": "40e6fa25-67f9-4d8a-81eb-8ac87dc445cc"
      },
      "outputs": [
        {
          "output_type": "execute_result",
          "data": {
            "text/plain": [
              "array([2, 4, 6, 8])"
            ]
          },
          "metadata": {},
          "execution_count": 656
        }
      ],
      "source": [
        "data + data"
      ]
    },
    {
      "cell_type": "markdown",
      "metadata": {
        "id": "S4fsBSO-0BIs"
      },
      "source": [
        "**My own example 23**"
      ]
    },
    {
      "cell_type": "code",
      "execution_count": null,
      "metadata": {
        "colab": {
          "base_uri": "https://localhost:8080/"
        },
        "id": "dyS37Ax60A-H",
        "outputId": "26c3765d-68f1-454e-fda3-00adb5963bc8"
      },
      "outputs": [
        {
          "output_type": "execute_result",
          "data": {
            "text/plain": [
              "array([   24,   246,  2468,  9134, 88888])"
            ]
          },
          "metadata": {},
          "execution_count": 657
        }
      ],
      "source": [
        "things + things"
      ]
    },
    {
      "cell_type": "code",
      "execution_count": null,
      "metadata": {
        "colab": {
          "base_uri": "https://localhost:8080/"
        },
        "id": "UWFiePPhw0U5",
        "outputId": "72fef87f-e97a-449b-dc59-16b7bdea67f6"
      },
      "outputs": [
        {
          "output_type": "stream",
          "name": "stdout",
          "text": [
            "CPU times: user 0 ns, sys: 524 µs, total: 524 µs\n",
            "Wall time: 534 µs\n"
          ]
        },
        {
          "output_type": "execute_result",
          "data": {
            "text/plain": [
              "333328333350000.0"
            ]
          },
          "metadata": {},
          "execution_count": 658
        }
      ],
      "source": [
        "%%time\n",
        "# Naive dot product\n",
        "(array_data * array_data).sum()"
      ]
    },
    {
      "cell_type": "markdown",
      "metadata": {
        "id": "L9P9yUhG0GFx"
      },
      "source": [
        "**My own example 24**"
      ]
    },
    {
      "cell_type": "code",
      "execution_count": null,
      "metadata": {
        "colab": {
          "base_uri": "https://localhost:8080/"
        },
        "id": "fa43wuBN0F9F",
        "outputId": "1826f23c-aac9-4214-83c7-708ed2396b9c"
      },
      "outputs": [
        {
          "output_type": "stream",
          "name": "stdout",
          "text": [
            "CPU times: user 31 µs, sys: 1 µs, total: 32 µs\n",
            "Wall time: 36.2 µs\n"
          ]
        },
        {
          "output_type": "execute_result",
          "data": {
            "text/plain": [
              "1997664654"
            ]
          },
          "metadata": {},
          "execution_count": 659
        }
      ],
      "source": [
        "%%time\n",
        "(things * things).sum()"
      ]
    },
    {
      "cell_type": "code",
      "execution_count": null,
      "metadata": {
        "colab": {
          "base_uri": "https://localhost:8080/"
        },
        "id": "urcq9tlXw0U5",
        "outputId": "6c79223e-b7ec-481d-8af5-0600b4dcb32e"
      },
      "outputs": [
        {
          "output_type": "stream",
          "name": "stdout",
          "text": [
            "CPU times: user 1.92 ms, sys: 30 µs, total: 1.95 ms\n",
            "Wall time: 1.36 ms\n"
          ]
        },
        {
          "output_type": "execute_result",
          "data": {
            "text/plain": [
              "333328333350000.0"
            ]
          },
          "metadata": {},
          "execution_count": 660
        }
      ],
      "source": [
        "%%time\n",
        "# Built-in dot product.\n",
        "array_data.dot(array_data)"
      ]
    },
    {
      "cell_type": "markdown",
      "metadata": {
        "id": "oeHB1kR50UJL"
      },
      "source": [
        "**My own example 25**"
      ]
    },
    {
      "cell_type": "code",
      "execution_count": null,
      "metadata": {
        "colab": {
          "base_uri": "https://localhost:8080/"
        },
        "id": "dpF7BDz50UAb",
        "outputId": "832766cb-72cb-4537-a538-a6b1bf501d0e"
      },
      "outputs": [
        {
          "output_type": "stream",
          "name": "stdout",
          "text": [
            "CPU times: user 21 µs, sys: 0 ns, total: 21 µs\n",
            "Wall time: 25.7 µs\n"
          ]
        },
        {
          "output_type": "execute_result",
          "data": {
            "text/plain": [
              "1997664654"
            ]
          },
          "metadata": {},
          "execution_count": 661
        }
      ],
      "source": [
        "%%time\n",
        "things.dot(things)"
      ]
    },
    {
      "cell_type": "code",
      "execution_count": null,
      "metadata": {
        "colab": {
          "base_uri": "https://localhost:8080/"
        },
        "id": "Aq48eKymw0U6",
        "outputId": "1c6f5ca0-f218-4028-e4e5-00bee8da275d"
      },
      "outputs": [
        {
          "output_type": "stream",
          "name": "stdout",
          "text": [
            "CPU times: user 222 µs, sys: 0 ns, total: 222 µs\n",
            "Wall time: 247 µs\n"
          ]
        },
        {
          "output_type": "execute_result",
          "data": {
            "text/plain": [
              "333328333350000.0"
            ]
          },
          "metadata": {},
          "execution_count": 662
        }
      ],
      "source": [
        "%%time\n",
        "fortran_dot_product(array_data, array_data)"
      ]
    },
    {
      "cell_type": "markdown",
      "metadata": {
        "id": "v_hqH-b223k9"
      },
      "source": [
        "**My own example 26**"
      ]
    },
    {
      "cell_type": "code",
      "execution_count": null,
      "metadata": {
        "colab": {
          "base_uri": "https://localhost:8080/"
        },
        "id": "7Uog8i_y23U7",
        "outputId": "15485f2c-683e-412e-f2d4-465b8eb691d8"
      },
      "outputs": [
        {
          "output_type": "stream",
          "name": "stdout",
          "text": [
            "CPU times: user 22 µs, sys: 1 µs, total: 23 µs\n",
            "Wall time: 26.5 µs\n"
          ]
        },
        {
          "output_type": "execute_result",
          "data": {
            "text/plain": [
              "1997664654.0"
            ]
          },
          "metadata": {},
          "execution_count": 663
        }
      ],
      "source": [
        "%%time\n",
        "fortran_dot_product(things, things)"
      ]
    },
    {
      "cell_type": "code",
      "execution_count": null,
      "metadata": {
        "id": "uT-Dg4W8w0U6"
      },
      "outputs": [],
      "source": [
        "# Numpy won't allow us to write a string into an int array.\n",
        "data[0] = \"foo\""
      ]
    },
    {
      "cell_type": "markdown",
      "metadata": {
        "id": "LNQuE7sb3Ecv"
      },
      "source": [
        "**My own example 27**"
      ]
    },
    {
      "cell_type": "code",
      "execution_count": null,
      "metadata": {
        "id": "cN35nDMU3ERX"
      },
      "outputs": [],
      "source": [
        "things[1] = \"Hola\""
      ]
    },
    {
      "cell_type": "code",
      "execution_count": null,
      "metadata": {
        "collapsed": true,
        "id": "KNDjC6PZw0U6"
      },
      "outputs": [],
      "source": [
        "# We also can't grow an array once it's created.\n",
        "data.append(3)"
      ]
    },
    {
      "cell_type": "markdown",
      "metadata": {
        "id": "HLFNqDZH3Kdx"
      },
      "source": [
        "**My own example 28**"
      ]
    },
    {
      "cell_type": "code",
      "execution_count": null,
      "metadata": {
        "id": "zePpEbiG3KUj"
      },
      "outputs": [],
      "source": [
        "#things.append(7)"
      ]
    },
    {
      "cell_type": "code",
      "execution_count": null,
      "metadata": {
        "colab": {
          "base_uri": "https://localhost:8080/"
        },
        "collapsed": true,
        "id": "xqzr4ta_w0U7",
        "outputId": "9fac2a83-0f76-4cdb-ad45-6e564712195d"
      },
      "outputs": [
        {
          "output_type": "execute_result",
          "data": {
            "text/plain": [
              "array([[1, 2],\n",
              "       [3, 4]])"
            ]
          },
          "metadata": {},
          "execution_count": 668
        }
      ],
      "source": [
        "# We **can** reshape an array though.\n",
        "two_by_two = data.reshape(2, 2)\n",
        "two_by_two"
      ]
    },
    {
      "cell_type": "markdown",
      "metadata": {
        "id": "ICXkQo1d3jhe"
      },
      "source": [
        "**My own example 29**"
      ]
    },
    {
      "cell_type": "code",
      "execution_count": null,
      "metadata": {
        "colab": {
          "base_uri": "https://localhost:8080/"
        },
        "id": "Y1eu3Wsu3jPn",
        "outputId": "69967f9a-bfe5-4f82-9504-2b27efcc8042"
      },
      "outputs": [
        {
          "output_type": "execute_result",
          "data": {
            "text/plain": [
              "array([[   12],\n",
              "       [  123],\n",
              "       [ 1234],\n",
              "       [ 4567],\n",
              "       [44444]])"
            ]
          },
          "metadata": {},
          "execution_count": 669
        }
      ],
      "source": [
        "things2 = things.reshape(5,1)\n",
        "things2"
      ]
    },
    {
      "cell_type": "markdown",
      "metadata": {
        "id": "EUwlDkb4w0U7"
      },
      "source": [
        "Numpy arrays are:\n",
        "\n",
        "- Fixed-type"
      ]
    },
    {
      "cell_type": "markdown",
      "metadata": {
        "id": "vGk8Iqvjw0U7"
      },
      "source": [
        "- Size-immutable"
      ]
    },
    {
      "cell_type": "markdown",
      "metadata": {
        "id": "F8aCMfZYw0U7"
      },
      "source": [
        "- Multi-dimensional"
      ]
    },
    {
      "cell_type": "markdown",
      "metadata": {
        "id": "eYoF2qVAw0U7"
      },
      "source": [
        "- Fast\\*"
      ]
    },
    {
      "cell_type": "markdown",
      "metadata": {
        "id": "-AcFGhN7w0U7"
      },
      "source": [
        "\\* If you use them correctly."
      ]
    },
    {
      "cell_type": "markdown",
      "metadata": {
        "id": "kuqSu4Guw0U7"
      },
      "source": [
        "# What's in an Array?"
      ]
    },
    {
      "cell_type": "code",
      "execution_count": null,
      "metadata": {
        "colab": {
          "base_uri": "https://localhost:8080/"
        },
        "id": "KtJmXHvIw0U8",
        "outputId": "3b9d7685-5653-403a-d47c-a4c4a1bc0223"
      },
      "outputs": [
        {
          "output_type": "stream",
          "name": "stdout",
          "text": [
            "Array:\n",
            "[[1 2 3]\n",
            " [4 5 6]]\n",
            "===========\n",
            "DType: int16\n",
            "Shape: (2, 3)\n",
            "Strides: (6, 2)\n",
            "Data: b'\\x01\\x00\\x02\\x00\\x03\\x00\\x04\\x00\\x05\\x00\\x06\\x00'\n"
          ]
        }
      ],
      "source": [
        "arr = np.array([1, 2, 3, 4, 5, 6], dtype='int16').reshape(2, 3)\n",
        "print(\"Array:\\n\", arr, sep='')\n",
        "print(\"===========\")\n",
        "print(\"DType:\", arr.dtype)\n",
        "print(\"Shape:\", arr.shape)\n",
        "print(\"Strides:\", arr.strides)\n",
        "print(\"Data:\", arr.data.tobytes())"
      ]
    },
    {
      "cell_type": "markdown",
      "metadata": {
        "id": "sQAVz5zg3xht"
      },
      "source": [
        "**My own example 30**"
      ]
    },
    {
      "cell_type": "code",
      "execution_count": null,
      "metadata": {
        "colab": {
          "base_uri": "https://localhost:8080/"
        },
        "id": "uWNHAr-M3xXR",
        "outputId": "f4d59c09-a451-4800-8ff5-78e9c29fb5cf"
      },
      "outputs": [
        {
          "output_type": "stream",
          "name": "stdout",
          "text": [
            "Array:\n",
            "[[9 8 7]\n",
            " [6 5 4]\n",
            " [3 2 1]]\n",
            "===========\n",
            "DType: int64\n",
            "Shape: (3, 3)\n",
            "Strides: (24, 8)\n",
            "Data: b'\\t\\x00\\x00\\x00\\x00\\x00\\x00\\x00\\x08\\x00\\x00\\x00\\x00\\x00\\x00\\x00\\x07\\x00\\x00\\x00\\x00\\x00\\x00\\x00\\x06\\x00\\x00\\x00\\x00\\x00\\x00\\x00\\x05\\x00\\x00\\x00\\x00\\x00\\x00\\x00\\x04\\x00\\x00\\x00\\x00\\x00\\x00\\x00\\x03\\x00\\x00\\x00\\x00\\x00\\x00\\x00\\x02\\x00\\x00\\x00\\x00\\x00\\x00\\x00\\x01\\x00\\x00\\x00\\x00\\x00\\x00\\x00'\n"
          ]
        }
      ],
      "source": [
        "Arr = np.array([9,8,7,6,5,4,3,2,1], dtype='int64').reshape(3, 3)\n",
        "print(\"Array:\\n\", Arr, sep='')\n",
        "print(\"===========\")\n",
        "print(\"DType:\", Arr.dtype)\n",
        "print(\"Shape:\", Arr.shape)\n",
        "print(\"Strides:\", Arr.strides)\n",
        "print(\"Data:\", Arr.data.tobytes())"
      ]
    },
    {
      "cell_type": "markdown",
      "metadata": {
        "id": "eWWvZ_kxw0U8"
      },
      "source": [
        "# Core Operations\n",
        "\n",
        "- Vectorized **ufuncs** for elementwise operations.\n",
        "- Fancy indexing and masking for selection and filtering.\n",
        "- Aggregations across axes.\n",
        "- Broadcasting"
      ]
    },
    {
      "cell_type": "markdown",
      "metadata": {
        "id": "cukgBI6nw0U8"
      },
      "source": [
        "# UFuncs\n",
        "\n",
        "UFuncs (universal functions) are functions that operate elementwise on one or more arrays."
      ]
    },
    {
      "cell_type": "code",
      "execution_count": null,
      "metadata": {
        "colab": {
          "base_uri": "https://localhost:8080/"
        },
        "id": "nkQOrEftw0U8",
        "outputId": "8453ff4b-a086-46f0-8392-61239ad20436"
      },
      "outputs": [
        {
          "output_type": "execute_result",
          "data": {
            "text/plain": [
              "array([[ 0,  1,  2,  3,  4],\n",
              "       [ 5,  6,  7,  8,  9],\n",
              "       [10, 11, 12, 13, 14]])"
            ]
          },
          "metadata": {},
          "execution_count": 672
        }
      ],
      "source": [
        "data = np.arange(15).reshape(3, 5)\n",
        "data"
      ]
    },
    {
      "cell_type": "markdown",
      "metadata": {
        "id": "uUGGT-w14E_f"
      },
      "source": [
        "**My own example 31**"
      ]
    },
    {
      "cell_type": "code",
      "execution_count": null,
      "metadata": {
        "colab": {
          "base_uri": "https://localhost:8080/"
        },
        "id": "76omAyHb4E3x",
        "outputId": "d4baaae6-dd86-4aa7-d14c-a07e27b83734"
      },
      "outputs": [
        {
          "output_type": "execute_result",
          "data": {
            "text/plain": [
              "array([[ 0,  1,  2,  3,  4,  5,  6,  7,  8,  9],\n",
              "       [10, 11, 12, 13, 14, 15, 16, 17, 18, 19],\n",
              "       [20, 21, 22, 23, 24, 25, 26, 27, 28, 29],\n",
              "       [30, 31, 32, 33, 34, 35, 36, 37, 38, 39],\n",
              "       [40, 41, 42, 43, 44, 45, 46, 47, 48, 49],\n",
              "       [50, 51, 52, 53, 54, 55, 56, 57, 58, 59],\n",
              "       [60, 61, 62, 63, 64, 65, 66, 67, 68, 69],\n",
              "       [70, 71, 72, 73, 74, 75, 76, 77, 78, 79],\n",
              "       [80, 81, 82, 83, 84, 85, 86, 87, 88, 89],\n",
              "       [90, 91, 92, 93, 94, 95, 96, 97, 98, 99]])"
            ]
          },
          "metadata": {},
          "execution_count": 673
        }
      ],
      "source": [
        "things = np.arange(10*10).reshape(10,10)\n",
        "things"
      ]
    },
    {
      "cell_type": "code",
      "execution_count": null,
      "metadata": {
        "colab": {
          "base_uri": "https://localhost:8080/"
        },
        "id": "0vKxW6t0w0U8",
        "outputId": "b4eb3a6e-00c8-4890-c557-2f48d9e094a5"
      },
      "outputs": [
        {
          "output_type": "execute_result",
          "data": {
            "text/plain": [
              "array([[  0,   1,   4,   9,  16],\n",
              "       [ 25,  36,  49,  64,  81],\n",
              "       [100, 121, 144, 169, 196]])"
            ]
          },
          "metadata": {},
          "execution_count": 674
        }
      ],
      "source": [
        "# Binary operators.\n",
        "data * data"
      ]
    },
    {
      "cell_type": "markdown",
      "metadata": {
        "id": "R8C1bNTh4ZL6"
      },
      "source": [
        "**My own example 32**"
      ]
    },
    {
      "cell_type": "code",
      "execution_count": null,
      "metadata": {
        "colab": {
          "base_uri": "https://localhost:8080/"
        },
        "id": "hEztQVsX4Y66",
        "outputId": "5bf9dd00-343e-43e3-ed55-d8e95cc5bfd3"
      },
      "outputs": [
        {
          "output_type": "execute_result",
          "data": {
            "text/plain": [
              "array([[   0,    1,    4,    9,   16,   25,   36,   49,   64,   81],\n",
              "       [ 100,  121,  144,  169,  196,  225,  256,  289,  324,  361],\n",
              "       [ 400,  441,  484,  529,  576,  625,  676,  729,  784,  841],\n",
              "       [ 900,  961, 1024, 1089, 1156, 1225, 1296, 1369, 1444, 1521],\n",
              "       [1600, 1681, 1764, 1849, 1936, 2025, 2116, 2209, 2304, 2401],\n",
              "       [2500, 2601, 2704, 2809, 2916, 3025, 3136, 3249, 3364, 3481],\n",
              "       [3600, 3721, 3844, 3969, 4096, 4225, 4356, 4489, 4624, 4761],\n",
              "       [4900, 5041, 5184, 5329, 5476, 5625, 5776, 5929, 6084, 6241],\n",
              "       [6400, 6561, 6724, 6889, 7056, 7225, 7396, 7569, 7744, 7921],\n",
              "       [8100, 8281, 8464, 8649, 8836, 9025, 9216, 9409, 9604, 9801]])"
            ]
          },
          "metadata": {},
          "execution_count": 675
        }
      ],
      "source": [
        "things * things"
      ]
    },
    {
      "cell_type": "code",
      "execution_count": null,
      "metadata": {
        "colab": {
          "base_uri": "https://localhost:8080/"
        },
        "id": "oqLbW2Zmw0U8",
        "outputId": "2e5be24b-5632-4dbd-e02c-a536691f56f5"
      },
      "outputs": [
        {
          "output_type": "execute_result",
          "data": {
            "text/plain": [
              "array([[0.        , 1.        , 1.41421356, 1.73205081, 2.        ],\n",
              "       [2.23606798, 2.44948974, 2.64575131, 2.82842712, 3.        ],\n",
              "       [3.16227766, 3.31662479, 3.46410162, 3.60555128, 3.74165739]])"
            ]
          },
          "metadata": {},
          "execution_count": 676
        }
      ],
      "source": [
        "# Unary functions.\n",
        "np.sqrt(data)"
      ]
    },
    {
      "cell_type": "markdown",
      "metadata": {
        "id": "3m2xMLRN4fAF"
      },
      "source": [
        "**My own example 33**"
      ]
    },
    {
      "cell_type": "code",
      "execution_count": null,
      "metadata": {
        "colab": {
          "base_uri": "https://localhost:8080/"
        },
        "id": "qMgjtG8e4e0m",
        "outputId": "14c59032-6036-4c7c-c811-08661656b95e"
      },
      "outputs": [
        {
          "output_type": "execute_result",
          "data": {
            "text/plain": [
              "array([[0.        , 1.        , 1.41421356, 1.73205081, 2.        ,\n",
              "        2.23606798, 2.44948974, 2.64575131, 2.82842712, 3.        ],\n",
              "       [3.16227766, 3.31662479, 3.46410162, 3.60555128, 3.74165739,\n",
              "        3.87298335, 4.        , 4.12310563, 4.24264069, 4.35889894],\n",
              "       [4.47213595, 4.58257569, 4.69041576, 4.79583152, 4.89897949,\n",
              "        5.        , 5.09901951, 5.19615242, 5.29150262, 5.38516481],\n",
              "       [5.47722558, 5.56776436, 5.65685425, 5.74456265, 5.83095189,\n",
              "        5.91607978, 6.        , 6.08276253, 6.164414  , 6.244998  ],\n",
              "       [6.32455532, 6.40312424, 6.4807407 , 6.55743852, 6.63324958,\n",
              "        6.70820393, 6.78232998, 6.8556546 , 6.92820323, 7.        ],\n",
              "       [7.07106781, 7.14142843, 7.21110255, 7.28010989, 7.34846923,\n",
              "        7.41619849, 7.48331477, 7.54983444, 7.61577311, 7.68114575],\n",
              "       [7.74596669, 7.81024968, 7.87400787, 7.93725393, 8.        ,\n",
              "        8.06225775, 8.1240384 , 8.18535277, 8.24621125, 8.30662386],\n",
              "       [8.36660027, 8.42614977, 8.48528137, 8.54400375, 8.60232527,\n",
              "        8.66025404, 8.71779789, 8.77496439, 8.83176087, 8.88819442],\n",
              "       [8.94427191, 9.        , 9.05538514, 9.11043358, 9.16515139,\n",
              "        9.21954446, 9.2736185 , 9.32737905, 9.38083152, 9.43398113],\n",
              "       [9.48683298, 9.53939201, 9.59166305, 9.64365076, 9.69535971,\n",
              "        9.74679434, 9.79795897, 9.8488578 , 9.89949494, 9.94987437]])"
            ]
          },
          "metadata": {},
          "execution_count": 677
        }
      ],
      "source": [
        "np.sqrt(things)"
      ]
    },
    {
      "cell_type": "code",
      "execution_count": null,
      "metadata": {
        "colab": {
          "base_uri": "https://localhost:8080/"
        },
        "id": "22XmWh0vw0U9",
        "outputId": "64e862ab-4203-4fa9-cc9a-115819fea847"
      },
      "outputs": [
        {
          "output_type": "execute_result",
          "data": {
            "text/plain": [
              "array([[ True, False, False,  True, False],\n",
              "       [False,  True, False, False,  True],\n",
              "       [False, False,  True, False, False]])"
            ]
          },
          "metadata": {},
          "execution_count": 678
        }
      ],
      "source": [
        "# Comparison operations\n",
        "(data % 3) == 0"
      ]
    },
    {
      "cell_type": "markdown",
      "metadata": {
        "id": "6RBbAU4t4n--"
      },
      "source": [
        "**My own example 34**"
      ]
    },
    {
      "cell_type": "code",
      "execution_count": null,
      "metadata": {
        "colab": {
          "base_uri": "https://localhost:8080/"
        },
        "id": "wjnOM3l34n3z",
        "outputId": "56e426a8-1389-48b6-de57-2e4985435756"
      },
      "outputs": [
        {
          "output_type": "execute_result",
          "data": {
            "text/plain": [
              "array([[ True, False, False, False, False, False, False, False, False,\n",
              "        False],\n",
              "       [False, False, False, False, False, False, False, False, False,\n",
              "        False],\n",
              "       [False, False, False,  True, False, False, False, False, False,\n",
              "        False],\n",
              "       [False, False, False, False, False, False, False, False, False,\n",
              "        False],\n",
              "       [False, False, False, False, False, False,  True, False, False,\n",
              "        False],\n",
              "       [False, False, False, False, False, False, False, False, False,\n",
              "        False],\n",
              "       [False, False, False, False, False, False, False, False, False,\n",
              "         True],\n",
              "       [False, False, False, False, False, False, False, False, False,\n",
              "        False],\n",
              "       [False, False, False, False, False, False, False, False, False,\n",
              "        False],\n",
              "       [False, False,  True, False, False, False, False, False, False,\n",
              "        False]])"
            ]
          },
          "metadata": {},
          "execution_count": 679
        }
      ],
      "source": [
        "(things % 23) == 0"
      ]
    },
    {
      "cell_type": "code",
      "execution_count": null,
      "metadata": {
        "colab": {
          "base_uri": "https://localhost:8080/"
        },
        "id": "3_vQ4L8gw0U9",
        "outputId": "36e33903-04a2-47dd-e679-ae14cb44f611"
      },
      "outputs": [
        {
          "output_type": "execute_result",
          "data": {
            "text/plain": [
              "array([[ True, False, False, False, False],\n",
              "       [False,  True, False, False, False],\n",
              "       [False, False,  True, False, False]])"
            ]
          },
          "metadata": {},
          "execution_count": 680
        }
      ],
      "source": [
        "# Boolean combinators.\n",
        "((data % 2) == 0) & ((data % 3) == 0)"
      ]
    },
    {
      "cell_type": "markdown",
      "metadata": {
        "id": "uoCED4V14yVI"
      },
      "source": [
        "**My own example 35**"
      ]
    },
    {
      "cell_type": "code",
      "execution_count": null,
      "metadata": {
        "colab": {
          "base_uri": "https://localhost:8080/"
        },
        "id": "HSpw0Okz4yOn",
        "outputId": "064fed49-c53a-443a-818c-bb125d6b9f9a"
      },
      "outputs": [
        {
          "output_type": "execute_result",
          "data": {
            "text/plain": [
              "array([[ True,  True, False, False,  True, False, False,  True, False,\n",
              "        False],\n",
              "       [ True, False,  True,  True, False, False,  True, False, False,\n",
              "         True],\n",
              "       [False, False,  True, False,  True,  True, False, False,  True,\n",
              "        False],\n",
              "       [False,  True, False, False,  True, False,  True,  True, False,\n",
              "        False],\n",
              "       [ True, False, False,  True, False, False,  True, False,  True,\n",
              "         True],\n",
              "       [False, False,  True, False, False,  True, False, False,  True,\n",
              "        False],\n",
              "       [ True,  True, False, False,  True, False, False,  True, False,\n",
              "        False],\n",
              "       [ True, False,  True,  True, False, False,  True, False, False,\n",
              "         True],\n",
              "       [False, False,  True, False,  True,  True, False, False,  True,\n",
              "        False],\n",
              "       [False,  True, False, False,  True, False,  True,  True, False,\n",
              "        False]])"
            ]
          },
          "metadata": {},
          "execution_count": 681
        }
      ],
      "source": [
        "((things % 3) == 1) | ((things % 12) == 0)"
      ]
    },
    {
      "cell_type": "code",
      "execution_count": null,
      "metadata": {
        "colab": {
          "base_uri": "https://localhost:8080/"
        },
        "id": "sWx0xSyXw0U9",
        "outputId": "07d50601-e9fc-4aec-c356-3ff68f137865"
      },
      "outputs": [
        {
          "output_type": "execute_result",
          "data": {
            "text/plain": [
              "array([[ 30,  80, 130],\n",
              "       [ 80, 255, 430],\n",
              "       [130, 430, 730]])"
            ]
          },
          "metadata": {},
          "execution_count": 682
        }
      ],
      "source": [
        "# as of python 3.5, @ is matrix-multiply\n",
        "data @ data.T"
      ]
    },
    {
      "cell_type": "markdown",
      "metadata": {
        "id": "j2pGxhMT5DmM"
      },
      "source": [
        "**My own example 36**"
      ]
    },
    {
      "cell_type": "code",
      "execution_count": null,
      "metadata": {
        "colab": {
          "base_uri": "https://localhost:8080/"
        },
        "id": "P1N5BCkq5DbS",
        "outputId": "3abc593f-1d01-4e2c-c187-cc80edea8bce"
      },
      "outputs": [
        {
          "output_type": "execute_result",
          "data": {
            "text/plain": [
              "array([[  285,   735,  1185,  1635,  2085,  2535,  2985,  3435,  3885,\n",
              "         4335],\n",
              "       [  735,  2185,  3635,  5085,  6535,  7985,  9435, 10885, 12335,\n",
              "        13785],\n",
              "       [ 1185,  3635,  6085,  8535, 10985, 13435, 15885, 18335, 20785,\n",
              "        23235],\n",
              "       [ 1635,  5085,  8535, 11985, 15435, 18885, 22335, 25785, 29235,\n",
              "        32685],\n",
              "       [ 2085,  6535, 10985, 15435, 19885, 24335, 28785, 33235, 37685,\n",
              "        42135],\n",
              "       [ 2535,  7985, 13435, 18885, 24335, 29785, 35235, 40685, 46135,\n",
              "        51585],\n",
              "       [ 2985,  9435, 15885, 22335, 28785, 35235, 41685, 48135, 54585,\n",
              "        61035],\n",
              "       [ 3435, 10885, 18335, 25785, 33235, 40685, 48135, 55585, 63035,\n",
              "        70485],\n",
              "       [ 3885, 12335, 20785, 29235, 37685, 46135, 54585, 63035, 71485,\n",
              "        79935],\n",
              "       [ 4335, 13785, 23235, 32685, 42135, 51585, 61035, 70485, 79935,\n",
              "        89385]])"
            ]
          },
          "metadata": {},
          "execution_count": 683
        }
      ],
      "source": [
        "things @ things.T"
      ]
    },
    {
      "cell_type": "markdown",
      "metadata": {
        "id": "ekq11cehw0U9"
      },
      "source": [
        "# UFuncs Review\n",
        "\n",
        "- UFuncs provide efficient elementwise operations applied across one or more arrays.\n",
        "- Arithmetic Operators (`+`, `*`, `/`)\n",
        "- Comparisons (`==`, `>`, `!=`)\n",
        "- Boolean Operators (`&`, `|`, `^`)\n",
        "- Trigonometric Functions (`sin`, `cos`)\n",
        "- Transcendental Functions (`exp`, `log`)"
      ]
    },
    {
      "cell_type": "markdown",
      "metadata": {
        "id": "WX1cWNeOw0U9"
      },
      "source": [
        "# Selections"
      ]
    },
    {
      "cell_type": "markdown",
      "metadata": {
        "id": "QXPbAk-Kw0U9"
      },
      "source": [
        "We often want to perform an operation on just a subset of our data."
      ]
    },
    {
      "cell_type": "code",
      "execution_count": null,
      "metadata": {
        "colab": {
          "base_uri": "https://localhost:8080/"
        },
        "id": "rfYrGlSWw0U9",
        "outputId": "9abee450-2f39-464b-e6dd-c2252ad814e9"
      },
      "outputs": [
        {
          "output_type": "execute_result",
          "data": {
            "text/plain": [
              "array([0.        , 0.34185385, 0.64251645, 0.86575984, 0.98468459,\n",
              "       0.98496101, 0.8665558 , 0.64373604, 0.34335012, 0.00159265])"
            ]
          },
          "metadata": {},
          "execution_count": 684
        }
      ],
      "source": [
        "sines = np.sin(np.linspace(0, 3.14, 10))\n",
        "cosines = np.cos(np.linspace(0, 3.14, 10))\n",
        "sines"
      ]
    },
    {
      "cell_type": "markdown",
      "metadata": {
        "id": "deyHStix5p3b"
      },
      "source": [
        "**My own example 37**"
      ]
    },
    {
      "cell_type": "code",
      "execution_count": null,
      "metadata": {
        "id": "_u3TMI1o5psI"
      },
      "outputs": [],
      "source": [
        " cosenooo = np.cos(np.linspace(1, 3.14, 123))"
      ]
    },
    {
      "cell_type": "code",
      "execution_count": null,
      "metadata": {
        "colab": {
          "base_uri": "https://localhost:8080/"
        },
        "id": "IRQl5HiXw0U-",
        "outputId": "23840d18-2bca-4524-86ac-f332a27dd6cd"
      },
      "outputs": [
        {
          "output_type": "execute_result",
          "data": {
            "text/plain": [
              "0.0"
            ]
          },
          "metadata": {},
          "execution_count": 686
        }
      ],
      "source": [
        "# Slicing works with the same semantics as Python lists.\n",
        "sines[0]"
      ]
    },
    {
      "cell_type": "markdown",
      "metadata": {
        "id": "_nVoE9oM56Dj"
      },
      "source": [
        "**My own example 38**"
      ]
    },
    {
      "cell_type": "code",
      "execution_count": null,
      "metadata": {
        "colab": {
          "base_uri": "https://localhost:8080/"
        },
        "id": "ogi1cUHU554U",
        "outputId": "e5d6e152-11f3-4207-ad5c-b610448342a0"
      },
      "outputs": [
        {
          "output_type": "execute_result",
          "data": {
            "text/plain": [
              "0.5403023058681398"
            ]
          },
          "metadata": {},
          "execution_count": 687
        }
      ],
      "source": [
        "cosenooo[0]"
      ]
    },
    {
      "cell_type": "code",
      "execution_count": null,
      "metadata": {
        "colab": {
          "base_uri": "https://localhost:8080/"
        },
        "id": "er038GqIw0U-",
        "outputId": "1ac07e7e-58b6-4a75-eb6b-32f854e5972e"
      },
      "outputs": [
        {
          "output_type": "execute_result",
          "data": {
            "text/plain": [
              "array([0.        , 0.34185385, 0.64251645])"
            ]
          },
          "metadata": {},
          "execution_count": 688
        }
      ],
      "source": [
        "sines[:3]  # First three elements  "
      ]
    },
    {
      "cell_type": "markdown",
      "metadata": {
        "id": "uQVE2uUM6LJM"
      },
      "source": [
        "**My own example 39**"
      ]
    },
    {
      "cell_type": "code",
      "execution_count": null,
      "metadata": {
        "colab": {
          "base_uri": "https://localhost:8080/"
        },
        "id": "SxA7aJ0Y6LAW",
        "outputId": "22811d86-b1f2-4fe9-8ffa-769b959e69cc"
      },
      "outputs": [
        {
          "output_type": "execute_result",
          "data": {
            "text/plain": [
              "array([0.54030231, 0.52545971, 0.51045545, 0.49529413, 0.47998042,\n",
              "       0.46451903, 0.44891472, 0.43317228, 0.41729657, 0.40129246,\n",
              "       0.38516489, 0.36891881, 0.35255922, 0.33609116, 0.31951968,\n",
              "       0.3028499 , 0.28608694, 0.26923596, 0.25230213, 0.23529068,\n",
              "       0.21820684, 0.20105586, 0.18384302, 0.16657361, 0.14925295,\n",
              "       0.13188637, 0.11447922, 0.09703683, 0.0795646 , 0.06206788,\n",
              "       0.04455207, 0.02702255])"
            ]
          },
          "metadata": {},
          "execution_count": 689
        }
      ],
      "source": [
        "cosenooo[:32]"
      ]
    },
    {
      "cell_type": "code",
      "execution_count": null,
      "metadata": {
        "colab": {
          "base_uri": "https://localhost:8080/"
        },
        "id": "EgthRb5ew0U-",
        "outputId": "ac6e36c6-eedd-4eb8-ac7e-f3685052192b"
      },
      "outputs": [
        {
          "output_type": "execute_result",
          "data": {
            "text/plain": [
              "array([0.98496101, 0.8665558 , 0.64373604, 0.34335012, 0.00159265])"
            ]
          },
          "metadata": {},
          "execution_count": 690
        }
      ],
      "source": [
        "sines[5:]  # Elements from 5 on."
      ]
    },
    {
      "cell_type": "markdown",
      "metadata": {
        "id": "qwjwAivr6Rwm"
      },
      "source": [
        "**My own example 40**"
      ]
    },
    {
      "cell_type": "code",
      "execution_count": null,
      "metadata": {
        "colab": {
          "base_uri": "https://localhost:8080/"
        },
        "id": "8-smuGvW6RlT",
        "outputId": "3b53e61f-45e8-4655-af3a-da906ebf038c"
      },
      "outputs": [
        {
          "output_type": "execute_result",
          "data": {
            "text/plain": [
              "array([-0.44763759, -0.46325333, -0.47872654, -0.49405246, -0.50922637,\n",
              "       -0.5242436 , -0.53909953, -0.55378959, -0.56830926, -0.58265408,\n",
              "       -0.59681963, -0.61080155, -0.62459553, -0.63819735, -0.6516028 ,\n",
              "       -0.66480777, -0.6778082 , -0.69060007, -0.70317947, -0.71554251,\n",
              "       -0.72768539, -0.73960438, -0.75129581, -0.76275609, -0.77398168,\n",
              "       -0.78496913, -0.79571506, -0.80621617, -0.81646923, -0.82647108,\n",
              "       -0.83621863, -0.84570891, -0.85493897, -0.86390599, -0.87260721,\n",
              "       -0.88103994, -0.8892016 , -0.89708967, -0.90470172, -0.91203541,\n",
              "       -0.9190885 , -0.9258588 , -0.93234423, -0.9385428 , -0.9444526 ,\n",
              "       -0.95007181, -0.95539871, -0.96043165, -0.96516909, -0.96960957,\n",
              "       -0.97375172, -0.97759426, -0.98113603, -0.98437592, -0.98731293,\n",
              "       -0.98994617, -0.99227483, -0.99429819, -0.99601562, -0.9974266 ,\n",
              "       -0.99853069, -0.99932756, -0.99981696, -0.99999873])"
            ]
          },
          "metadata": {},
          "execution_count": 691
        }
      ],
      "source": [
        "cosenooo[59:]"
      ]
    },
    {
      "cell_type": "code",
      "execution_count": null,
      "metadata": {
        "colab": {
          "base_uri": "https://localhost:8080/"
        },
        "id": "VIIiMncLw0U-",
        "outputId": "df9bc4d6-19ee-48b9-b26e-6de5eac485ed"
      },
      "outputs": [
        {
          "output_type": "execute_result",
          "data": {
            "text/plain": [
              "array([0.        , 0.64251645, 0.98468459, 0.8665558 , 0.34335012])"
            ]
          },
          "metadata": {},
          "execution_count": 692
        }
      ],
      "source": [
        "sines[::2]  # Every other element."
      ]
    },
    {
      "cell_type": "markdown",
      "metadata": {
        "id": "fLVUtgVT6W02"
      },
      "source": [
        "**My own example 41**"
      ]
    },
    {
      "cell_type": "code",
      "execution_count": null,
      "metadata": {
        "colab": {
          "base_uri": "https://localhost:8080/"
        },
        "id": "RFv8W70d6Wsm",
        "outputId": "ec79eaad-e5bc-4288-895b-23654bdcab75"
      },
      "outputs": [
        {
          "output_type": "execute_result",
          "data": {
            "text/plain": [
              "array([ 0.54030231, -0.16516468, -0.78496913])"
            ]
          },
          "metadata": {},
          "execution_count": 693
        }
      ],
      "source": [
        "cosenooo[::42]"
      ]
    },
    {
      "cell_type": "code",
      "execution_count": null,
      "metadata": {
        "colab": {
          "base_uri": "https://localhost:8080/"
        },
        "id": "kGdRVPv3w0U-",
        "outputId": "1dcba157-377d-457c-e92e-f7403baf8053"
      },
      "outputs": [
        {
          "output_type": "stream",
          "name": "stdout",
          "text": [
            "sines:\n",
            " [0.         0.34185385 0.64251645 0.86575984 0.98468459 0.98496101\n",
            " 0.8665558  0.64373604 0.34335012 0.00159265]\n",
            "sines > 0.5:\n",
            " [False False  True  True  True  True  True  True False False]\n",
            "sines[sines > 0.5]:\n",
            " [0.64251645 0.86575984 0.98468459 0.98496101 0.8665558  0.64373604]\n"
          ]
        }
      ],
      "source": [
        "# More interesting: we can index with boolean arrays to filter by a predicate.\n",
        "print(\"sines:\\n\", sines)\n",
        "print(\"sines > 0.5:\\n\", sines > 0.5)\n",
        "print(\"sines[sines > 0.5]:\\n\", sines[sines > 0.5])"
      ]
    },
    {
      "cell_type": "markdown",
      "metadata": {
        "id": "K5tAVPg86hHL"
      },
      "source": [
        "**My own example 42**"
      ]
    },
    {
      "cell_type": "code",
      "execution_count": null,
      "metadata": {
        "colab": {
          "base_uri": "https://localhost:8080/"
        },
        "id": "Po8y7WYt6g63",
        "outputId": "11ef153f-669c-45e5-aa2b-8892e06ac023"
      },
      "outputs": [
        {
          "output_type": "stream",
          "name": "stdout",
          "text": [
            "[ 0.54030231  0.52545971  0.51045545  0.49529413  0.47998042  0.46451903\n",
            "  0.44891472  0.43317228  0.41729657  0.40129246  0.38516489  0.36891881\n",
            "  0.35255922  0.33609116  0.31951968  0.3028499   0.28608694  0.26923596\n",
            "  0.25230213  0.23529068  0.21820684  0.20105586  0.18384302  0.16657361\n",
            "  0.14925295  0.13188637  0.11447922  0.09703683  0.0795646   0.06206788\n",
            "  0.04455207  0.02702255  0.00948471 -0.00805605 -0.02559432 -0.04312472\n",
            " -0.06064185 -0.07814033 -0.09561476 -0.11305977 -0.13047    -0.14784009\n",
            " -0.16516468 -0.18243846 -0.19965611 -0.21681233 -0.23390184 -0.25091938\n",
            " -0.26785972 -0.28471765 -0.30148797 -0.31816553 -0.3347452  -0.35122188\n",
            " -0.36759049 -0.38384601 -0.39998342 -0.41599777 -0.43188412 -0.44763759\n",
            " -0.46325333 -0.47872654 -0.49405246 -0.50922637 -0.5242436  -0.53909953\n",
            " -0.55378959 -0.56830926 -0.58265408 -0.59681963 -0.61080155 -0.62459553\n",
            " -0.63819735 -0.6516028  -0.66480777 -0.6778082  -0.69060007 -0.70317947\n",
            " -0.71554251 -0.72768539 -0.73960438 -0.75129581 -0.76275609 -0.77398168\n",
            " -0.78496913 -0.79571506 -0.80621617 -0.81646923 -0.82647108 -0.83621863\n",
            " -0.84570891 -0.85493897 -0.86390599 -0.87260721 -0.88103994 -0.8892016\n",
            " -0.89708967 -0.90470172 -0.91203541 -0.9190885  -0.9258588  -0.93234423\n",
            " -0.9385428  -0.9444526  -0.95007181 -0.95539871 -0.96043165 -0.96516909\n",
            " -0.96960957 -0.97375172 -0.97759426 -0.98113603 -0.98437592 -0.98731293\n",
            " -0.98994617 -0.99227483 -0.99429819 -0.99601562 -0.9974266  -0.99853069\n",
            " -0.99932756 -0.99981696 -0.99999873]\n"
          ]
        }
      ],
      "source": [
        "print(cosenooo[cosenooo != 0.5])"
      ]
    },
    {
      "cell_type": "code",
      "execution_count": null,
      "metadata": {
        "colab": {
          "base_uri": "https://localhost:8080/"
        },
        "id": "qtwCmtMSw0U_",
        "outputId": "4b79f7dd-f8de-4bc2-956d-ea2b79d805b3"
      },
      "outputs": [
        {
          "output_type": "stream",
          "name": "stdout",
          "text": [
            "[0.         0.34185385 0.64251645 0.86575984 0.98468459 0.98496101\n",
            " 0.8665558  0.64373604 0.34335012 0.00159265]\n"
          ]
        },
        {
          "output_type": "execute_result",
          "data": {
            "text/plain": [
              "array([0.        , 0.98468459, 0.64373604])"
            ]
          },
          "metadata": {},
          "execution_count": 696
        }
      ],
      "source": [
        "# We index with lists/arrays of integers to select values at those indices.\n",
        "print(sines)\n",
        "sines[[0, 4, 7]]"
      ]
    },
    {
      "cell_type": "markdown",
      "metadata": {
        "id": "Aq4ni2fa6p3n"
      },
      "source": [
        "**My own example 43**"
      ]
    },
    {
      "cell_type": "code",
      "execution_count": null,
      "metadata": {
        "colab": {
          "base_uri": "https://localhost:8080/"
        },
        "id": "SePvAdWe6ps7",
        "outputId": "2f4bf5da-83a8-4248-f1ca-51617f3b4b0e"
      },
      "outputs": [
        {
          "output_type": "execute_result",
          "data": {
            "text/plain": [
              "array([0.35255922, 0.49529413, 0.47998042])"
            ]
          },
          "metadata": {},
          "execution_count": 697
        }
      ],
      "source": [
        "cosenooo[[12,3,4]]"
      ]
    },
    {
      "cell_type": "code",
      "execution_count": null,
      "metadata": {
        "collapsed": true,
        "id": "63DugNBCw0U_"
      },
      "outputs": [],
      "source": [
        "# Index arrays are often used for sorting one or more arrays.\n",
        "unsorted_data = np.array([1, 3, 2, 12, -1, 5, 2])"
      ]
    },
    {
      "cell_type": "markdown",
      "metadata": {
        "id": "2fGhz9x47BNW"
      },
      "source": [
        "**My own example 44**"
      ]
    },
    {
      "cell_type": "code",
      "execution_count": null,
      "metadata": {
        "id": "CJJQ48VV7BCv"
      },
      "outputs": [],
      "source": [
        "unsort = np.array([4,5,8,5,6,2,4,4,75,5,5,5,566,7])"
      ]
    },
    {
      "cell_type": "code",
      "execution_count": null,
      "metadata": {
        "colab": {
          "base_uri": "https://localhost:8080/"
        },
        "id": "KdIN7WL2w0U_",
        "outputId": "271fb3a5-d7e1-46f9-9d1e-39c471ca37c2"
      },
      "outputs": [
        {
          "output_type": "execute_result",
          "data": {
            "text/plain": [
              "array([4, 0, 2, 6, 1, 5, 3])"
            ]
          },
          "metadata": {},
          "execution_count": 700
        }
      ],
      "source": [
        "sort_indices = np.argsort(unsorted_data)\n",
        "sort_indices"
      ]
    },
    {
      "cell_type": "markdown",
      "metadata": {
        "id": "UwMrH8bk7_l2"
      },
      "source": [
        "**My own example 45**"
      ]
    },
    {
      "cell_type": "code",
      "execution_count": null,
      "metadata": {
        "colab": {
          "base_uri": "https://localhost:8080/"
        },
        "id": "37E7woaU7_c3",
        "outputId": "15ed3fe6-aebc-4940-9f75-e2e5723f32f5"
      },
      "outputs": [
        {
          "output_type": "execute_result",
          "data": {
            "text/plain": [
              "array([ 5,  0,  6,  7,  1,  3,  9, 10, 11,  4, 13,  2,  8, 12])"
            ]
          },
          "metadata": {},
          "execution_count": 701
        }
      ],
      "source": [
        "sort = np.argsort(unsort)\n",
        "sort"
      ]
    },
    {
      "cell_type": "code",
      "execution_count": null,
      "metadata": {
        "colab": {
          "base_uri": "https://localhost:8080/"
        },
        "id": "BPN-29slw0U_",
        "outputId": "53060bdf-cf66-46ac-c439-09346e085788"
      },
      "outputs": [
        {
          "output_type": "execute_result",
          "data": {
            "text/plain": [
              "array([-1,  1,  2,  2,  3,  5, 12])"
            ]
          },
          "metadata": {},
          "execution_count": 702
        }
      ],
      "source": [
        "unsorted_data[sort_indices]"
      ]
    },
    {
      "cell_type": "markdown",
      "metadata": {
        "id": "pbz8DW0m8qpH"
      },
      "source": [
        "**My own example 46**"
      ]
    },
    {
      "cell_type": "code",
      "execution_count": null,
      "metadata": {
        "colab": {
          "base_uri": "https://localhost:8080/"
        },
        "id": "z1a6X69J8qch",
        "outputId": "02e44e93-e57f-4c00-cd7f-478ad0630da2"
      },
      "outputs": [
        {
          "output_type": "execute_result",
          "data": {
            "text/plain": [
              "array([  2,   4,   4,   4,   5,   5,   5,   5,   5,   6,   7,   8,  75,\n",
              "       566])"
            ]
          },
          "metadata": {},
          "execution_count": 703
        }
      ],
      "source": [
        "unsort[sort]"
      ]
    },
    {
      "cell_type": "code",
      "execution_count": null,
      "metadata": {
        "collapsed": true,
        "id": "_HVsGA_Xw0U_"
      },
      "outputs": [],
      "source": [
        "market_caps = np.array([12, 6, 10, 5, 6])  # Presumably in dollars?\n",
        "assets = np.array(['A', 'B', 'C', 'D', 'E'])"
      ]
    },
    {
      "cell_type": "markdown",
      "metadata": {
        "id": "E8TyCirE8dyc"
      },
      "source": [
        "**My own example 47**"
      ]
    },
    {
      "cell_type": "code",
      "execution_count": null,
      "metadata": {
        "id": "j5LZHOsW8don"
      },
      "outputs": [],
      "source": [
        "Cositas = np.array([2331,2231,33333,4221])\n",
        "objeticos = np.array(['Manzana','Maleta','Carro','Trubina'])"
      ]
    },
    {
      "cell_type": "code",
      "execution_count": null,
      "metadata": {
        "colab": {
          "base_uri": "https://localhost:8080/"
        },
        "id": "KvTn_mbJw0U_",
        "outputId": "6ee63758-a85e-4bea-daf5-323c18e54a52"
      },
      "outputs": [
        {
          "output_type": "execute_result",
          "data": {
            "text/plain": [
              "array(['D', 'B', 'E', 'C', 'A'], dtype='<U1')"
            ]
          },
          "metadata": {},
          "execution_count": 706
        }
      ],
      "source": [
        "# Sort assets by market cap by using the permutation that would sort market caps on ``assets``.\n",
        "sort_by_mcap = np.argsort(market_caps)\n",
        "assets[sort_by_mcap]"
      ]
    },
    {
      "cell_type": "markdown",
      "metadata": {
        "id": "zpd5rfFQ9SqA"
      },
      "source": [
        "**My own example 48**"
      ]
    },
    {
      "cell_type": "code",
      "execution_count": null,
      "metadata": {
        "colab": {
          "base_uri": "https://localhost:8080/"
        },
        "id": "Nlg1F_sk9Sg6",
        "outputId": "694848fd-e588-406d-8152-9d6eb043ccd5"
      },
      "outputs": [
        {
          "output_type": "execute_result",
          "data": {
            "text/plain": [
              "array(['Maleta', 'Manzana', 'Trubina', 'Carro'], dtype='<U7')"
            ]
          },
          "metadata": {},
          "execution_count": 707
        }
      ],
      "source": [
        "orden = np.argsort(Cositas)\n",
        "objeticos[orden]"
      ]
    },
    {
      "cell_type": "code",
      "execution_count": null,
      "metadata": {
        "colab": {
          "base_uri": "https://localhost:8080/"
        },
        "id": "OhB0hE-Tw0VA",
        "outputId": "0cb50389-9863-4899-ac78-d13c0e7727c4",
        "scrolled": true
      },
      "outputs": [
        {
          "output_type": "stream",
          "name": "stdout",
          "text": [
            "Dates:\n",
            " array(['2017-01-06', '2017-01-07', '2017-01-08'], dtype='datetime64[D]')\n",
            "Values:\n",
            " array([10, 15, 20])\n",
            "Calendar:\n",
            " array(['2017-01-03', '2017-01-04', '2017-01-05', '2017-01-06',\n",
            "       '2017-01-09', '2017-01-10', '2017-01-11', '2017-01-12',\n",
            "       '2017-01-13', '2017-01-17', '2017-01-18', '2017-01-19',\n",
            "       '2017-01-20', '2017-01-23', '2017-01-24', '2017-01-25',\n",
            "       '2017-01-26', '2017-01-27', '2017-01-30', '2017-01-31',\n",
            "       '2017-02-01'], dtype='datetime64[D]')\n"
          ]
        }
      ],
      "source": [
        "# Indexers are also useful for aligning data.\n",
        "print(\"Dates:\\n\", repr(event_dates))\n",
        "print(\"Values:\\n\", repr(event_values))\n",
        "print(\"Calendar:\\n\", repr(calendar))"
      ]
    },
    {
      "cell_type": "code",
      "execution_count": null,
      "metadata": {
        "colab": {
          "base_uri": "https://localhost:8080/"
        },
        "id": "yOUk7b-nw0VA",
        "outputId": "74481ac7-5f00-4538-e9fa-bb58a3815f47"
      },
      "outputs": [
        {
          "output_type": "stream",
          "name": "stdout",
          "text": [
            "Raw Dates: ['2017-01-06' '2017-01-07' '2017-01-08']\n",
            "Indices: [3 4 4]\n",
            "Forward-Filled Dates: ['2017-01-06' '2017-01-09' '2017-01-09']\n"
          ]
        }
      ],
      "source": [
        "print(\"Raw Dates:\", event_dates)\n",
        "print(\"Indices:\", calendar.searchsorted(event_dates))\n",
        "print(\"Forward-Filled Dates:\", calendar[calendar.searchsorted(event_dates)])"
      ]
    },
    {
      "cell_type": "markdown",
      "metadata": {
        "id": "ZJmnFugLw0VA"
      },
      "source": [
        "On multi-dimensional arrays, we can slice along each axis independently."
      ]
    },
    {
      "cell_type": "code",
      "execution_count": null,
      "metadata": {
        "colab": {
          "base_uri": "https://localhost:8080/"
        },
        "id": "cBPL4-dgw0VA",
        "outputId": "ef7d88d6-190c-48ca-b5b7-82e5703b6576"
      },
      "outputs": [
        {
          "output_type": "execute_result",
          "data": {
            "text/plain": [
              "array([[ 0,  1,  2,  3,  4],\n",
              "       [ 5,  6,  7,  8,  9],\n",
              "       [10, 11, 12, 13, 14],\n",
              "       [15, 16, 17, 18, 19],\n",
              "       [20, 21, 22, 23, 24]])"
            ]
          },
          "metadata": {},
          "execution_count": 710
        }
      ],
      "source": [
        "data = np.arange(25).reshape(5, 5)\n",
        "data"
      ]
    },
    {
      "cell_type": "markdown",
      "metadata": {
        "id": "XlofP01A-Zfz"
      },
      "source": [
        "**My own example 49**"
      ]
    },
    {
      "cell_type": "code",
      "execution_count": null,
      "metadata": {
        "colab": {
          "base_uri": "https://localhost:8080/"
        },
        "id": "4mxog6ZdxWlA",
        "outputId": "d30a3d3f-4944-4ba0-9220-778249592f5c"
      },
      "outputs": [
        {
          "output_type": "execute_result",
          "data": {
            "text/plain": [
              "array([[  0,   1,   2,   3,   4],\n",
              "       [  5,   6,   7,   8,   9],\n",
              "       [ 10,  11,  12,  13,  14],\n",
              "       [ 15,  16,  17,  18,  19],\n",
              "       [ 20,  21,  22,  23,  24],\n",
              "       [ 25,  26,  27,  28,  29],\n",
              "       [ 30,  31,  32,  33,  34],\n",
              "       [ 35,  36,  37,  38,  39],\n",
              "       [ 40,  41,  42,  43,  44],\n",
              "       [ 45,  46,  47,  48,  49],\n",
              "       [ 50,  51,  52,  53,  54],\n",
              "       [ 55,  56,  57,  58,  59],\n",
              "       [ 60,  61,  62,  63,  64],\n",
              "       [ 65,  66,  67,  68,  69],\n",
              "       [ 70,  71,  72,  73,  74],\n",
              "       [ 75,  76,  77,  78,  79],\n",
              "       [ 80,  81,  82,  83,  84],\n",
              "       [ 85,  86,  87,  88,  89],\n",
              "       [ 90,  91,  92,  93,  94],\n",
              "       [ 95,  96,  97,  98,  99],\n",
              "       [100, 101, 102, 103, 104],\n",
              "       [105, 106, 107, 108, 109],\n",
              "       [110, 111, 112, 113, 114],\n",
              "       [115, 116, 117, 118, 119],\n",
              "       [120, 121, 122, 123, 124]])"
            ]
          },
          "metadata": {},
          "execution_count": 711
        }
      ],
      "source": [
        "datos = np.arange(125).reshape(25, 5)\n",
        "datos"
      ]
    },
    {
      "cell_type": "code",
      "execution_count": null,
      "metadata": {
        "colab": {
          "base_uri": "https://localhost:8080/"
        },
        "id": "URXdlXSlw0VA",
        "outputId": "16b7d69b-4e86-479a-da7a-c09854097d8d"
      },
      "outputs": [
        {
          "output_type": "execute_result",
          "data": {
            "text/plain": [
              "array([[0, 1],\n",
              "       [5, 6]])"
            ]
          },
          "metadata": {},
          "execution_count": 712
        }
      ],
      "source": [
        "data[:2, :2]  # First two rows and first two columns."
      ]
    },
    {
      "cell_type": "markdown",
      "metadata": {
        "id": "psR8xlRP-qyY"
      },
      "source": [
        "**My own example 50**"
      ]
    },
    {
      "cell_type": "code",
      "execution_count": null,
      "metadata": {
        "colab": {
          "base_uri": "https://localhost:8080/"
        },
        "id": "Xcl-Bo88-qph",
        "outputId": "da7ee96e-b2b3-4e40-99fc-22cbba97fc95"
      },
      "outputs": [
        {
          "output_type": "execute_result",
          "data": {
            "text/plain": [
              "array([[ 0,  1],\n",
              "       [ 5,  6],\n",
              "       [10, 11],\n",
              "       [15, 16],\n",
              "       [20, 21],\n",
              "       [25, 26]])"
            ]
          },
          "metadata": {},
          "execution_count": 713
        }
      ],
      "source": [
        "datos[:6, :2]"
      ]
    },
    {
      "cell_type": "code",
      "execution_count": null,
      "metadata": {
        "colab": {
          "base_uri": "https://localhost:8080/"
        },
        "id": "suMeipaqw0VA",
        "outputId": "08022c15-7d1f-44fd-904b-46f64dc5b93b"
      },
      "outputs": [
        {
          "output_type": "execute_result",
          "data": {
            "text/plain": [
              "array([[0, 4],\n",
              "       [5, 9]])"
            ]
          },
          "metadata": {},
          "execution_count": 714
        }
      ],
      "source": [
        "data[:2, [0, -1]]  # First two rows, first and last columns."
      ]
    },
    {
      "cell_type": "markdown",
      "metadata": {
        "id": "Z2xc9fXk-0NB"
      },
      "source": [
        "**My own example 51**"
      ]
    },
    {
      "cell_type": "code",
      "execution_count": null,
      "metadata": {
        "colab": {
          "base_uri": "https://localhost:8080/"
        },
        "id": "NMuTmZQ7-0Cq",
        "outputId": "ff5bed18-c798-4f0f-be8a-2050d9bf6462"
      },
      "outputs": [
        {
          "output_type": "execute_result",
          "data": {
            "text/plain": [
              "array([[ 1,  0],\n",
              "       [ 6,  5],\n",
              "       [11, 10],\n",
              "       [16, 15],\n",
              "       [21, 20],\n",
              "       [26, 25],\n",
              "       [31, 30],\n",
              "       [36, 35],\n",
              "       [41, 40]])"
            ]
          },
          "metadata": {},
          "execution_count": 715
        }
      ],
      "source": [
        "datos[:9, [1, -5]]"
      ]
    },
    {
      "cell_type": "code",
      "execution_count": null,
      "metadata": {
        "colab": {
          "base_uri": "https://localhost:8080/"
        },
        "id": "LFUotF3Nw0VB",
        "outputId": "3b3cd155-0147-4238-828a-ed50db671681"
      },
      "outputs": [
        {
          "output_type": "execute_result",
          "data": {
            "text/plain": [
              "array([[ 0,  1,  2,  3,  4],\n",
              "       [10, 11, 12, 13, 14],\n",
              "       [20, 21, 22, 23, 24]])"
            ]
          },
          "metadata": {},
          "execution_count": 716
        }
      ],
      "source": [
        "data[(data[:, 0] % 2) == 0]  # Rows where the first column is divisible by two."
      ]
    },
    {
      "cell_type": "markdown",
      "metadata": {
        "id": "nLLrBZBW_BYV"
      },
      "source": [
        "**My own example 52**"
      ]
    },
    {
      "cell_type": "code",
      "execution_count": null,
      "metadata": {
        "colab": {
          "base_uri": "https://localhost:8080/"
        },
        "id": "nHPQFyjD_ABc",
        "outputId": "db1eb12b-a7a4-47ab-d2d3-13d7ffcd6462"
      },
      "outputs": [
        {
          "output_type": "execute_result",
          "data": {
            "text/plain": [
              "array([[  0,   1,   2,   3,   4],\n",
              "       [ 15,  16,  17,  18,  19],\n",
              "       [ 30,  31,  32,  33,  34],\n",
              "       [ 45,  46,  47,  48,  49],\n",
              "       [ 60,  61,  62,  63,  64],\n",
              "       [ 75,  76,  77,  78,  79],\n",
              "       [ 90,  91,  92,  93,  94],\n",
              "       [105, 106, 107, 108, 109],\n",
              "       [120, 121, 122, 123, 124]])"
            ]
          },
          "metadata": {},
          "execution_count": 717
        }
      ],
      "source": [
        "datos[(datos[:, 3] % 3) == 0]"
      ]
    },
    {
      "cell_type": "markdown",
      "metadata": {
        "id": "954pPNIkw0VB"
      },
      "source": [
        "# Selections Review\n",
        "\n",
        "- Indexing with an integer removes a dimension.\n",
        "- Slicing operations work on Numpy arrays the same way they do on lists.\n",
        "- Indexing with a boolean array filters to True locations.\n",
        "- Indexing with an integer array selects indices along an axis.\n",
        "- Multidimensional arrays can apply selections independently along different axes."
      ]
    },
    {
      "cell_type": "markdown",
      "metadata": {
        "id": "_S1i-H_bw0VB"
      },
      "source": [
        "## Reductions\n",
        "\n",
        "Functions that reduce an array to a scalar."
      ]
    },
    {
      "cell_type": "markdown",
      "metadata": {
        "id": "aEoXeuxqw0VB"
      },
      "source": [
        "$Var(X) = \\frac{1}{N}\\sqrt{\\sum_{i=1}^N (x_i - \\bar{x})^2}$"
      ]
    },
    {
      "cell_type": "code",
      "execution_count": null,
      "metadata": {
        "collapsed": true,
        "id": "oNw4Lvg7w0VB"
      },
      "outputs": [],
      "source": [
        "def variance(x):\n",
        "    return ((x - x.mean()) ** 2).sum() / len(x)"
      ]
    },
    {
      "cell_type": "code",
      "execution_count": null,
      "metadata": {
        "colab": {
          "base_uri": "https://localhost:8080/"
        },
        "id": "lP04I1exw0VB",
        "outputId": "62e9b0e3-a7d7-4b4d-b721-4a8b81d7a671"
      },
      "outputs": [
        {
          "output_type": "execute_result",
          "data": {
            "text/plain": [
              "0.9717836190079435"
            ]
          },
          "metadata": {},
          "execution_count": 719
        }
      ],
      "source": [
        "variance(np.random.standard_normal(1000))"
      ]
    },
    {
      "cell_type": "markdown",
      "metadata": {
        "id": "LoEAHFau_g3N"
      },
      "source": [
        "**My own example 53**"
      ]
    },
    {
      "cell_type": "code",
      "execution_count": null,
      "metadata": {
        "colab": {
          "base_uri": "https://localhost:8080/"
        },
        "id": "Fsdqzciy_gpO",
        "outputId": "a487939a-ff1c-462d-b6ae-fc6bdbb39391"
      },
      "outputs": [
        {
          "output_type": "execute_result",
          "data": {
            "text/plain": [
              "1.0134781939755244"
            ]
          },
          "metadata": {},
          "execution_count": 720
        }
      ],
      "source": [
        "variance(np.random.standard_normal(7578))"
      ]
    },
    {
      "cell_type": "markdown",
      "metadata": {
        "id": "0XDGC9xxw0VC"
      },
      "source": [
        "- `sum()` and `mean()` are both **reductions**."
      ]
    },
    {
      "cell_type": "markdown",
      "metadata": {
        "id": "Dcgcs7m_w0VC"
      },
      "source": [
        "- In the simplest case, we use these to reduce an entire array into a single value..."
      ]
    },
    {
      "cell_type": "code",
      "execution_count": null,
      "metadata": {
        "colab": {
          "base_uri": "https://localhost:8080/"
        },
        "id": "Ie02N9o5w0VC",
        "outputId": "c8446349-3e62-45f4-b6ef-d8bb7abaaf0a"
      },
      "outputs": [
        {
          "output_type": "execute_result",
          "data": {
            "text/plain": [
              "14.5"
            ]
          },
          "metadata": {},
          "execution_count": 721
        }
      ],
      "source": [
        "data = np.arange(30)\n",
        "data.mean()"
      ]
    },
    {
      "cell_type": "markdown",
      "metadata": {
        "id": "Q6Og5s8s_yOw"
      },
      "source": [
        "**My own example 54**"
      ]
    },
    {
      "cell_type": "code",
      "execution_count": null,
      "metadata": {
        "colab": {
          "base_uri": "https://localhost:8080/"
        },
        "id": "ImOuRTUo_x-R",
        "outputId": "91517d7e-2eb0-4574-d91c-1734d7bbd138"
      },
      "outputs": [
        {
          "output_type": "execute_result",
          "data": {
            "text/plain": [
              "38843.0"
            ]
          },
          "metadata": {},
          "execution_count": 722
        }
      ],
      "source": [
        "datos = np.arange(77687)\n",
        "datos.mean()"
      ]
    },
    {
      "cell_type": "markdown",
      "metadata": {
        "id": "qvD14HH7w0VC"
      },
      "source": [
        "- ...but we can do more interesting things with multi-dimensional arrays."
      ]
    },
    {
      "cell_type": "code",
      "execution_count": null,
      "metadata": {
        "colab": {
          "base_uri": "https://localhost:8080/"
        },
        "id": "jf1zr69Aw0VC",
        "outputId": "2a07ff6d-9d50-43a0-b556-d2b5b7bcaf02"
      },
      "outputs": [
        {
          "output_type": "execute_result",
          "data": {
            "text/plain": [
              "array([[ 0,  1,  2,  3,  4,  5,  6,  7,  8,  9],\n",
              "       [10, 11, 12, 13, 14, 15, 16, 17, 18, 19],\n",
              "       [20, 21, 22, 23, 24, 25, 26, 27, 28, 29]])"
            ]
          },
          "metadata": {},
          "execution_count": 723
        }
      ],
      "source": [
        "data = np.arange(30).reshape(3, 10)\n",
        "data"
      ]
    },
    {
      "cell_type": "markdown",
      "metadata": {
        "id": "YoXTRVka_6SA"
      },
      "source": [
        "**My own example 55**"
      ]
    },
    {
      "cell_type": "code",
      "execution_count": null,
      "metadata": {
        "colab": {
          "base_uri": "https://localhost:8080/"
        },
        "id": "Ny0qRZi1_51q",
        "outputId": "fe919837-98e0-4cfc-ae30-6254455d526f"
      },
      "outputs": [
        {
          "output_type": "execute_result",
          "data": {
            "text/plain": [
              "array([[  0,   1,   2,   3,   4,   5,   6,   7,   8,   9],\n",
              "       [ 10,  11,  12,  13,  14,  15,  16,  17,  18,  19],\n",
              "       [ 20,  21,  22,  23,  24,  25,  26,  27,  28,  29],\n",
              "       [ 30,  31,  32,  33,  34,  35,  36,  37,  38,  39],\n",
              "       [ 40,  41,  42,  43,  44,  45,  46,  47,  48,  49],\n",
              "       [ 50,  51,  52,  53,  54,  55,  56,  57,  58,  59],\n",
              "       [ 60,  61,  62,  63,  64,  65,  66,  67,  68,  69],\n",
              "       [ 70,  71,  72,  73,  74,  75,  76,  77,  78,  79],\n",
              "       [ 80,  81,  82,  83,  84,  85,  86,  87,  88,  89],\n",
              "       [ 90,  91,  92,  93,  94,  95,  96,  97,  98,  99],\n",
              "       [100, 101, 102, 103, 104, 105, 106, 107, 108, 109],\n",
              "       [110, 111, 112, 113, 114, 115, 116, 117, 118, 119],\n",
              "       [120, 121, 122, 123, 124, 125, 126, 127, 128, 129],\n",
              "       [130, 131, 132, 133, 134, 135, 136, 137, 138, 139],\n",
              "       [140, 141, 142, 143, 144, 145, 146, 147, 148, 149],\n",
              "       [150, 151, 152, 153, 154, 155, 156, 157, 158, 159],\n",
              "       [160, 161, 162, 163, 164, 165, 166, 167, 168, 169],\n",
              "       [170, 171, 172, 173, 174, 175, 176, 177, 178, 179],\n",
              "       [180, 181, 182, 183, 184, 185, 186, 187, 188, 189],\n",
              "       [190, 191, 192, 193, 194, 195, 196, 197, 198, 199],\n",
              "       [200, 201, 202, 203, 204, 205, 206, 207, 208, 209],\n",
              "       [210, 211, 212, 213, 214, 215, 216, 217, 218, 219],\n",
              "       [220, 221, 222, 223, 224, 225, 226, 227, 228, 229],\n",
              "       [230, 231, 232, 233, 234, 235, 236, 237, 238, 239],\n",
              "       [240, 241, 242, 243, 244, 245, 246, 247, 248, 249],\n",
              "       [250, 251, 252, 253, 254, 255, 256, 257, 258, 259],\n",
              "       [260, 261, 262, 263, 264, 265, 266, 267, 268, 269],\n",
              "       [270, 271, 272, 273, 274, 275, 276, 277, 278, 279],\n",
              "       [280, 281, 282, 283, 284, 285, 286, 287, 288, 289],\n",
              "       [290, 291, 292, 293, 294, 295, 296, 297, 298, 299]])"
            ]
          },
          "metadata": {},
          "execution_count": 724
        }
      ],
      "source": [
        "datos = np.arange(300).reshape(30,10)\n",
        "datos"
      ]
    },
    {
      "cell_type": "code",
      "execution_count": null,
      "metadata": {
        "colab": {
          "base_uri": "https://localhost:8080/"
        },
        "id": "2X67c7-dw0VD",
        "outputId": "74be6bfb-7d28-4810-8791-06b3714b3fe2"
      },
      "outputs": [
        {
          "output_type": "execute_result",
          "data": {
            "text/plain": [
              "14.5"
            ]
          },
          "metadata": {},
          "execution_count": 725
        }
      ],
      "source": [
        "data.mean()"
      ]
    },
    {
      "cell_type": "markdown",
      "metadata": {
        "id": "-Nf7Y2yaAECB"
      },
      "source": [
        "**My own example 56**"
      ]
    },
    {
      "cell_type": "code",
      "execution_count": null,
      "metadata": {
        "colab": {
          "base_uri": "https://localhost:8080/"
        },
        "id": "D9OGD0z1AD6y",
        "outputId": "48485e91-b452-41e2-f278-036c7ad25284"
      },
      "outputs": [
        {
          "output_type": "execute_result",
          "data": {
            "text/plain": [
              "149.5"
            ]
          },
          "metadata": {},
          "execution_count": 726
        }
      ],
      "source": [
        "datos.mean()"
      ]
    },
    {
      "cell_type": "code",
      "execution_count": null,
      "metadata": {
        "colab": {
          "base_uri": "https://localhost:8080/"
        },
        "id": "46e02QALw0VD",
        "outputId": "752a839e-a681-4d6c-aadc-78183cefa8a2"
      },
      "outputs": [
        {
          "output_type": "execute_result",
          "data": {
            "text/plain": [
              "array([10., 11., 12., 13., 14., 15., 16., 17., 18., 19.])"
            ]
          },
          "metadata": {},
          "execution_count": 727
        }
      ],
      "source": [
        "data.mean(axis=0)"
      ]
    },
    {
      "cell_type": "markdown",
      "metadata": {
        "id": "mmxxQsvzALcR"
      },
      "source": [
        "**My own example 57**"
      ]
    },
    {
      "cell_type": "code",
      "execution_count": null,
      "metadata": {
        "colab": {
          "base_uri": "https://localhost:8080/"
        },
        "id": "h8jms9bDALIi",
        "outputId": "56487317-d894-4d30-e837-547e7822ef50"
      },
      "outputs": [
        {
          "output_type": "execute_result",
          "data": {
            "text/plain": [
              "array([145., 146., 147., 148., 149., 150., 151., 152., 153., 154.])"
            ]
          },
          "metadata": {},
          "execution_count": 728
        }
      ],
      "source": [
        "datos.mean(axis = 0)"
      ]
    },
    {
      "cell_type": "code",
      "execution_count": null,
      "metadata": {
        "colab": {
          "base_uri": "https://localhost:8080/"
        },
        "id": "bWTKLSmQw0VD",
        "outputId": "57f192a6-7cfd-488b-9d14-b26a1be0df77"
      },
      "outputs": [
        {
          "output_type": "execute_result",
          "data": {
            "text/plain": [
              "array([ 4.5, 14.5, 24.5])"
            ]
          },
          "metadata": {},
          "execution_count": 729
        }
      ],
      "source": [
        "data.mean(axis=1)"
      ]
    },
    {
      "cell_type": "markdown",
      "metadata": {
        "id": "yyEmHsSLAR5L"
      },
      "source": [
        "**My own example 58**"
      ]
    },
    {
      "cell_type": "code",
      "execution_count": null,
      "metadata": {
        "colab": {
          "base_uri": "https://localhost:8080/"
        },
        "id": "GponRsL4ARxW",
        "outputId": "1cc46103-0c17-4a16-801b-4aff99ec3147"
      },
      "outputs": [
        {
          "output_type": "execute_result",
          "data": {
            "text/plain": [
              "array([  4.5,  14.5,  24.5,  34.5,  44.5,  54.5,  64.5,  74.5,  84.5,\n",
              "        94.5, 104.5, 114.5, 124.5, 134.5, 144.5, 154.5, 164.5, 174.5,\n",
              "       184.5, 194.5, 204.5, 214.5, 224.5, 234.5, 244.5, 254.5, 264.5,\n",
              "       274.5, 284.5, 294.5])"
            ]
          },
          "metadata": {},
          "execution_count": 730
        }
      ],
      "source": [
        "datos.mean(axis = 1)"
      ]
    },
    {
      "cell_type": "markdown",
      "metadata": {
        "id": "HhAchLC8w0VE"
      },
      "source": [
        "## Reductions Review\n",
        "\n",
        "- Reductions allow us to perform efficient aggregations over arrays.\n",
        "- We can do aggregations over a single axis to collapse a single dimension.\n",
        "- Many built-in reductions (`mean`, `sum`, `min`, `max`, `median`, ...)."
      ]
    },
    {
      "cell_type": "markdown",
      "metadata": {
        "id": "gXXERJ0Yw0VE"
      },
      "source": [
        "# Broadcasting"
      ]
    },
    {
      "cell_type": "code",
      "execution_count": null,
      "metadata": {
        "colab": {
          "base_uri": "https://localhost:8080/"
        },
        "id": "wIV1D8M9w0VE",
        "outputId": "04486bff-8db4-4fe8-ebc0-736a385bdde5"
      },
      "outputs": [
        {
          "output_type": "stream",
          "name": "stdout",
          "text": [
            "Row:\n",
            "[1 2 3 4]\n",
            "Column:\n",
            "[[1]\n",
            " [2]\n",
            " [3]]\n"
          ]
        }
      ],
      "source": [
        "row = np.array([1, 2, 3, 4])\n",
        "column = np.array([[1], [2], [3]])\n",
        "print(\"Row:\\n\", row, sep='')\n",
        "print(\"Column:\\n\", column, sep='')"
      ]
    },
    {
      "cell_type": "markdown",
      "metadata": {
        "id": "dTiFgt9bAuJo"
      },
      "source": [
        "**My own example 59**"
      ]
    },
    {
      "cell_type": "code",
      "execution_count": null,
      "metadata": {
        "id": "iLEIegDPAt-K"
      },
      "outputs": [],
      "source": [
        "rows = np.array([3,1,5,4])\n",
        "columns = np.array([[12], [12], [22]])"
      ]
    },
    {
      "cell_type": "code",
      "execution_count": null,
      "metadata": {
        "colab": {
          "base_uri": "https://localhost:8080/"
        },
        "id": "ZQhHZKUBw0VF",
        "outputId": "3e25c242-6cd2-4d2c-ded4-c373dd57ec70"
      },
      "outputs": [
        {
          "output_type": "execute_result",
          "data": {
            "text/plain": [
              "array([[2, 3, 4, 5],\n",
              "       [3, 4, 5, 6],\n",
              "       [4, 5, 6, 7]])"
            ]
          },
          "metadata": {},
          "execution_count": 733
        }
      ],
      "source": [
        "row + column"
      ]
    },
    {
      "cell_type": "markdown",
      "metadata": {
        "id": "AABEiDFkA7x2"
      },
      "source": [
        "**My own example 60**"
      ]
    },
    {
      "cell_type": "code",
      "execution_count": null,
      "metadata": {
        "colab": {
          "base_uri": "https://localhost:8080/"
        },
        "id": "Lvo52grVA7nr",
        "outputId": "dac142c4-2ed7-4178-87d7-3585d5d14217"
      },
      "outputs": [
        {
          "output_type": "execute_result",
          "data": {
            "text/plain": [
              "array([[15, 13, 17, 16],\n",
              "       [15, 13, 17, 16],\n",
              "       [25, 23, 27, 26]])"
            ]
          },
          "metadata": {},
          "execution_count": 734
        }
      ],
      "source": [
        "rows + columns"
      ]
    },
    {
      "cell_type": "markdown",
      "metadata": {
        "id": "nV7FNW82w0VF"
      },
      "source": [
        "<center><img src=\"images/broadcasting.png\" alt=\"Drawing\" style=\"width: 60%;\"/></center>\n",
        "\n",
        "<h5>Source: http://www.scipy-lectures.org/_images/numpy_broadcasting.png</h5>"
      ]
    },
    {
      "cell_type": "code",
      "execution_count": null,
      "metadata": {
        "colab": {
          "base_uri": "https://localhost:8080/"
        },
        "id": "dG8tAwNww0VF",
        "outputId": "b86f02bd-b40e-4b06-d201-b2b2a033e6f4"
      },
      "outputs": [
        {
          "output_type": "stream",
          "name": "stdout",
          "text": [
            "Data:\n",
            "[[ 0  1  2  3  4  5  6  7  8  9]\n",
            " [10 11 12 13 14 15 16 17 18 19]\n",
            " [20 21 22 23 24 25 26 27 28 29]]\n",
            "Mean:\n",
            "[10. 11. 12. 13. 14. 15. 16. 17. 18. 19.]\n",
            "Data - Mean:\n",
            "[[-10. -10. -10. -10. -10. -10. -10. -10. -10. -10.]\n",
            " [  0.   0.   0.   0.   0.   0.   0.   0.   0.   0.]\n",
            " [ 10.  10.  10.  10.  10.  10.  10.  10.  10.  10.]]\n"
          ]
        }
      ],
      "source": [
        "# Broadcasting is particularly useful in conjunction with reductions.\n",
        "print(\"Data:\\n\", data, sep='')\n",
        "print(\"Mean:\\n\", data.mean(axis=0), sep='')\n",
        "print(\"Data - Mean:\\n\", data - data.mean(axis=0), sep='')"
      ]
    },
    {
      "cell_type": "markdown",
      "metadata": {
        "id": "OnGoFThuBE7o"
      },
      "source": [
        "**My own example 61**"
      ]
    },
    {
      "cell_type": "code",
      "execution_count": null,
      "metadata": {
        "colab": {
          "base_uri": "https://localhost:8080/"
        },
        "id": "Vz6DLBG9BEzI",
        "outputId": "e3321911-7e13-4123-e870-d93a747ddde3"
      },
      "outputs": [
        {
          "output_type": "stream",
          "name": "stdout",
          "text": [
            "[[-145. -145. -145. -145. -145. -145. -145. -145. -145. -145.]\n",
            " [-135. -135. -135. -135. -135. -135. -135. -135. -135. -135.]\n",
            " [-125. -125. -125. -125. -125. -125. -125. -125. -125. -125.]\n",
            " [-115. -115. -115. -115. -115. -115. -115. -115. -115. -115.]\n",
            " [-105. -105. -105. -105. -105. -105. -105. -105. -105. -105.]\n",
            " [ -95.  -95.  -95.  -95.  -95.  -95.  -95.  -95.  -95.  -95.]\n",
            " [ -85.  -85.  -85.  -85.  -85.  -85.  -85.  -85.  -85.  -85.]\n",
            " [ -75.  -75.  -75.  -75.  -75.  -75.  -75.  -75.  -75.  -75.]\n",
            " [ -65.  -65.  -65.  -65.  -65.  -65.  -65.  -65.  -65.  -65.]\n",
            " [ -55.  -55.  -55.  -55.  -55.  -55.  -55.  -55.  -55.  -55.]\n",
            " [ -45.  -45.  -45.  -45.  -45.  -45.  -45.  -45.  -45.  -45.]\n",
            " [ -35.  -35.  -35.  -35.  -35.  -35.  -35.  -35.  -35.  -35.]\n",
            " [ -25.  -25.  -25.  -25.  -25.  -25.  -25.  -25.  -25.  -25.]\n",
            " [ -15.  -15.  -15.  -15.  -15.  -15.  -15.  -15.  -15.  -15.]\n",
            " [  -5.   -5.   -5.   -5.   -5.   -5.   -5.   -5.   -5.   -5.]\n",
            " [   5.    5.    5.    5.    5.    5.    5.    5.    5.    5.]\n",
            " [  15.   15.   15.   15.   15.   15.   15.   15.   15.   15.]\n",
            " [  25.   25.   25.   25.   25.   25.   25.   25.   25.   25.]\n",
            " [  35.   35.   35.   35.   35.   35.   35.   35.   35.   35.]\n",
            " [  45.   45.   45.   45.   45.   45.   45.   45.   45.   45.]\n",
            " [  55.   55.   55.   55.   55.   55.   55.   55.   55.   55.]\n",
            " [  65.   65.   65.   65.   65.   65.   65.   65.   65.   65.]\n",
            " [  75.   75.   75.   75.   75.   75.   75.   75.   75.   75.]\n",
            " [  85.   85.   85.   85.   85.   85.   85.   85.   85.   85.]\n",
            " [  95.   95.   95.   95.   95.   95.   95.   95.   95.   95.]\n",
            " [ 105.  105.  105.  105.  105.  105.  105.  105.  105.  105.]\n",
            " [ 115.  115.  115.  115.  115.  115.  115.  115.  115.  115.]\n",
            " [ 125.  125.  125.  125.  125.  125.  125.  125.  125.  125.]\n",
            " [ 135.  135.  135.  135.  135.  135.  135.  135.  135.  135.]\n",
            " [ 145.  145.  145.  145.  145.  145.  145.  145.  145.  145.]]\n"
          ]
        }
      ],
      "source": [
        "print(datos - datos.mean(axis = 0))"
      ]
    },
    {
      "cell_type": "markdown",
      "metadata": {
        "id": "v-LzrTf5w0VF"
      },
      "source": [
        "# Broadcasting Review\n",
        "\n",
        "- Numpy operations can work on arrays of different dimensions as long as the arrays' shapes are still \"compatible\".\n",
        "- Broadcasting works by \"tiling\" the smaller array along the missing dimension.\n",
        "- The result of a broadcasted operation is always at least as large in each dimension as the largest array in that dimension."
      ]
    },
    {
      "cell_type": "markdown",
      "metadata": {
        "id": "rdSeHdMsw0VG"
      },
      "source": [
        "# Numpy Review"
      ]
    },
    {
      "cell_type": "markdown",
      "metadata": {
        "id": "9o3Neg4tw0VG"
      },
      "source": [
        "- Numerical algorithms are slow in pure Python because the overhead dynamic dispatch dominates our runtime."
      ]
    },
    {
      "cell_type": "markdown",
      "metadata": {
        "id": "YEjQjowgw0VG"
      },
      "source": [
        "- Numpy solves this problem by:\n",
        "  1. Imposing additional restrictions on the contents of arrays.\n",
        "  2. Moving the inner loops of our algorithms into compiled C code."
      ]
    },
    {
      "cell_type": "markdown",
      "metadata": {
        "id": "KT9K49tCw0VG"
      },
      "source": [
        "- Using Numpy effectively often requires reworking an algorithms to use vectorized operations instead of for-loops, but the resulting operations are usually simpler, clearer, and faster than the pure Python equivalent."
      ]
    },
    {
      "cell_type": "markdown",
      "metadata": {
        "id": "7clYMj0yw0VG"
      },
      "source": [
        "<center><img src=\"images/unicorn.jpg\" alt=\"Drawing\" style=\"width: 75%;\"/></center>"
      ]
    },
    {
      "cell_type": "markdown",
      "metadata": {
        "id": "MmKKbn10w0VG"
      },
      "source": [
        "Numpy is great for many things, but..."
      ]
    },
    {
      "cell_type": "markdown",
      "metadata": {
        "id": "vBs3sbAfw0VH"
      },
      "source": [
        "- Sometimes our data is equipped with a natural set of **labels**:\n",
        "  - Dates/Times\n",
        "  - Stock Tickers\n",
        "  - Field Names (e.g. Open/High/Low/Close)"
      ]
    },
    {
      "cell_type": "markdown",
      "metadata": {
        "id": "VVEFvj_0w0VH"
      },
      "source": [
        "- Sometimes we have **more than one type of data** that we want to keep grouped together.\n",
        "  - Tables with a mix of real-valued and categorical data."
      ]
    },
    {
      "cell_type": "markdown",
      "metadata": {
        "id": "-HiNa13fw0VH"
      },
      "source": [
        "- Sometimes we have **missing** data, which we need to ignore, fill, or otherwise work around."
      ]
    },
    {
      "cell_type": "markdown",
      "metadata": {
        "id": "EPSlgsoSw0VH"
      },
      "source": [
        "<center><img src=\"images/panda-wrangling.gif\" alt=\"Drawing\" style=\"width: 75%;\"/></center>"
      ]
    },
    {
      "cell_type": "markdown",
      "metadata": {
        "id": "e9d_yjmOw0VH"
      },
      "source": [
        "<center><img src=\"images/pandas_logo.png\" alt=\"Drawing\" style=\"width: 75%;\"/></center>\n"
      ]
    },
    {
      "cell_type": "markdown",
      "metadata": {
        "id": "zAHZw2aYw0VI"
      },
      "source": [
        "Pandas extends Numpy with more complex data structures:\n",
        "\n",
        "- `Series`: 1-dimensional, homogenously-typed, labelled array.\n",
        "- `DataFrame`: 2-dimensional, semi-homogenous, labelled table."
      ]
    },
    {
      "cell_type": "markdown",
      "metadata": {
        "id": "992h2pchw0VI"
      },
      "source": [
        "Pandas also provides many utilities for: \n",
        "- Input/Output\n",
        "- Data Cleaning\n",
        "- Rolling Algorithms\n",
        "- Plotting"
      ]
    },
    {
      "cell_type": "markdown",
      "metadata": {
        "id": "NF44cqdyw0VI"
      },
      "source": [
        "# Selection in Pandas"
      ]
    },
    {
      "cell_type": "code",
      "execution_count": null,
      "metadata": {
        "colab": {
          "base_uri": "https://localhost:8080/"
        },
        "id": "LKBCAnuuw0VI",
        "outputId": "5d2a2f42-4127-4359-e085-b66bdef975b6"
      },
      "outputs": [
        {
          "output_type": "execute_result",
          "data": {
            "text/plain": [
              "a    1\n",
              "b    2\n",
              "c    3\n",
              "d    4\n",
              "e    5\n",
              "dtype: int64"
            ]
          },
          "metadata": {},
          "execution_count": 737
        }
      ],
      "source": [
        "s = pd.Series(index=['a', 'b', 'c', 'd', 'e'], data=[1, 2, 3, 4, 5])\n",
        "s"
      ]
    },
    {
      "cell_type": "markdown",
      "metadata": {
        "id": "7KXBrG02CX1L"
      },
      "source": [
        "**My own example 62**"
      ]
    },
    {
      "cell_type": "code",
      "execution_count": null,
      "metadata": {
        "colab": {
          "base_uri": "https://localhost:8080/"
        },
        "id": "eUiWf3mjCXoa",
        "outputId": "278d3e59-5402-4d99-9981-d6ca19d852ed"
      },
      "outputs": [
        {
          "output_type": "execute_result",
          "data": {
            "text/plain": [
              "er     55\n",
              "sdd    44\n",
              "wad    88\n",
              "wad    77\n",
              "dtype: int64"
            ]
          },
          "metadata": {},
          "execution_count": 738
        }
      ],
      "source": [
        "rows = pd.Series(index = ['er','sdd','wad','wad'], data = [55,44,88,77])\n",
        "rows"
      ]
    },
    {
      "cell_type": "code",
      "execution_count": null,
      "metadata": {
        "colab": {
          "base_uri": "https://localhost:8080/"
        },
        "id": "3x7U6nYBw0VI",
        "outputId": "be257a89-e21f-4f6b-98cd-bfdef4418738"
      },
      "outputs": [
        {
          "output_type": "stream",
          "name": "stdout",
          "text": [
            "The index is: Index(['a', 'b', 'c', 'd', 'e'], dtype='object')\n",
            "The values are: [1 2 3 4 5]\n"
          ]
        }
      ],
      "source": [
        "# There are two pieces to a Series: the index and the values.\n",
        "print(\"The index is:\", s.index)\n",
        "print(\"The values are:\", s.values)"
      ]
    },
    {
      "cell_type": "markdown",
      "metadata": {
        "id": "kVorxsnaDQ2f"
      },
      "source": [
        "**My own example 63**"
      ]
    },
    {
      "cell_type": "code",
      "execution_count": null,
      "metadata": {
        "colab": {
          "base_uri": "https://localhost:8080/"
        },
        "id": "XZoZ-GwFDQo5",
        "outputId": "268b0fb1-7a16-4b03-dfb3-3ea927d357fb"
      },
      "outputs": [
        {
          "output_type": "stream",
          "name": "stdout",
          "text": [
            "Index(['er', 'sdd', 'wad', 'wad'], dtype='object')\n",
            "[55 44 88 77]\n"
          ]
        }
      ],
      "source": [
        "print(rows.index)\n",
        "print(rows.values)"
      ]
    },
    {
      "cell_type": "code",
      "execution_count": null,
      "metadata": {
        "colab": {
          "base_uri": "https://localhost:8080/"
        },
        "id": "c-2lJiXpw0VI",
        "outputId": "44a5773b-f302-4c5f-ec14-b887c58fe0e7"
      },
      "outputs": [
        {
          "output_type": "execute_result",
          "data": {
            "text/plain": [
              "1"
            ]
          },
          "metadata": {},
          "execution_count": 741
        }
      ],
      "source": [
        "# We can look up values out of a Series by position...\n",
        "s.iloc[0]"
      ]
    },
    {
      "cell_type": "markdown",
      "metadata": {
        "id": "9xeYjzPBEi3c"
      },
      "source": [
        "**My own example 64**"
      ]
    },
    {
      "cell_type": "code",
      "execution_count": null,
      "metadata": {
        "colab": {
          "base_uri": "https://localhost:8080/"
        },
        "id": "dsLZQW-iEisP",
        "outputId": "a1d0ffca-074c-4a46-db37-75dd89c1851f"
      },
      "outputs": [
        {
          "output_type": "execute_result",
          "data": {
            "text/plain": [
              "77"
            ]
          },
          "metadata": {},
          "execution_count": 742
        }
      ],
      "source": [
        "rows.iloc[3]"
      ]
    },
    {
      "cell_type": "code",
      "execution_count": null,
      "metadata": {
        "colab": {
          "base_uri": "https://localhost:8080/"
        },
        "id": "06eOikdNw0VJ",
        "outputId": "0c5db3e8-a282-40f4-f322-7c6b67191496"
      },
      "outputs": [
        {
          "output_type": "execute_result",
          "data": {
            "text/plain": [
              "1"
            ]
          },
          "metadata": {},
          "execution_count": 743
        }
      ],
      "source": [
        "# ... or by label.\n",
        "s.loc['a']"
      ]
    },
    {
      "cell_type": "markdown",
      "metadata": {
        "id": "c3S1W-rMEplG"
      },
      "source": [
        "**My own example 65**"
      ]
    },
    {
      "cell_type": "code",
      "execution_count": null,
      "metadata": {
        "colab": {
          "base_uri": "https://localhost:8080/"
        },
        "id": "RrvhJwVtEpVr",
        "outputId": "eba859d8-2e34-49da-df68-4056f991aaf6"
      },
      "outputs": [
        {
          "output_type": "execute_result",
          "data": {
            "text/plain": [
              "55"
            ]
          },
          "metadata": {},
          "execution_count": 744
        }
      ],
      "source": [
        "rows.loc['er']"
      ]
    },
    {
      "cell_type": "code",
      "execution_count": null,
      "metadata": {
        "colab": {
          "base_uri": "https://localhost:8080/"
        },
        "id": "rTYqPM5Hw0VJ",
        "outputId": "df11200f-c385-4450-ef1d-4fa4a9f3f2f2"
      },
      "outputs": [
        {
          "output_type": "execute_result",
          "data": {
            "text/plain": [
              "a    1\n",
              "b    2\n",
              "dtype: int64"
            ]
          },
          "metadata": {},
          "execution_count": 745
        }
      ],
      "source": [
        "# Slicing works as expected...\n",
        "s.iloc[:2]"
      ]
    },
    {
      "cell_type": "markdown",
      "metadata": {
        "id": "KYO9qExvE0NF"
      },
      "source": [
        "**My own example 66**"
      ]
    },
    {
      "cell_type": "code",
      "execution_count": null,
      "metadata": {
        "colab": {
          "base_uri": "https://localhost:8080/"
        },
        "id": "Nrkz1vpTE0Br",
        "outputId": "fc681266-b445-4b47-e1c6-e87b3d59303f"
      },
      "outputs": [
        {
          "output_type": "execute_result",
          "data": {
            "text/plain": [
              "sdd    44\n",
              "wad    88\n",
              "wad    77\n",
              "dtype: int64"
            ]
          },
          "metadata": {},
          "execution_count": 746
        }
      ],
      "source": [
        "rows.iloc[1:4]"
      ]
    },
    {
      "cell_type": "code",
      "execution_count": null,
      "metadata": {
        "colab": {
          "base_uri": "https://localhost:8080/"
        },
        "id": "ucaml59Iw0VJ",
        "outputId": "58773d0d-5f30-473b-d0e7-5cac000942f3"
      },
      "outputs": [
        {
          "output_type": "execute_result",
          "data": {
            "text/plain": [
              "a    1\n",
              "b    2\n",
              "c    3\n",
              "dtype: int64"
            ]
          },
          "metadata": {},
          "execution_count": 747
        }
      ],
      "source": [
        "# ...but it works with labels too!\n",
        "s.loc[:'c']"
      ]
    },
    {
      "cell_type": "markdown",
      "metadata": {
        "id": "VMBSu1OaE7w3"
      },
      "source": [
        "**My own example 67**"
      ]
    },
    {
      "cell_type": "code",
      "execution_count": null,
      "metadata": {
        "colab": {
          "base_uri": "https://localhost:8080/"
        },
        "id": "aC_Ma7p9E7fL",
        "outputId": "cc03687b-b324-43b8-f257-1f42cdb73156"
      },
      "outputs": [
        {
          "output_type": "execute_result",
          "data": {
            "text/plain": [
              "er     55\n",
              "sdd    44\n",
              "wad    88\n",
              "wad    77\n",
              "dtype: int64"
            ]
          },
          "metadata": {},
          "execution_count": 748
        }
      ],
      "source": [
        "rows.loc[:'wad']"
      ]
    },
    {
      "cell_type": "code",
      "execution_count": null,
      "metadata": {
        "colab": {
          "base_uri": "https://localhost:8080/"
        },
        "id": "liE-WPBWw0VJ",
        "outputId": "65b0b21f-e103-4be6-998d-636151498927"
      },
      "outputs": [
        {
          "output_type": "execute_result",
          "data": {
            "text/plain": [
              "a    1\n",
              "e    5\n",
              "dtype: int64"
            ]
          },
          "metadata": {},
          "execution_count": 749
        }
      ],
      "source": [
        "# Fancy indexing works the same as in numpy.\n",
        "s.iloc[[0, -1]]"
      ]
    },
    {
      "cell_type": "markdown",
      "metadata": {
        "id": "KXDQ2DaYFELX"
      },
      "source": [
        "**My own example 68**"
      ]
    },
    {
      "cell_type": "code",
      "execution_count": null,
      "metadata": {
        "colab": {
          "base_uri": "https://localhost:8080/"
        },
        "id": "dFpPF-bxFD_d",
        "outputId": "406d07f8-3470-4d0b-dcf5-ef9f4555bbe4"
      },
      "outputs": [
        {
          "output_type": "execute_result",
          "data": {
            "text/plain": [
              "wad    88\n",
              "sdd    44\n",
              "dtype: int64"
            ]
          },
          "metadata": {},
          "execution_count": 750
        }
      ],
      "source": [
        "rows.iloc[[2, -3]]"
      ]
    },
    {
      "cell_type": "code",
      "execution_count": null,
      "metadata": {
        "colab": {
          "base_uri": "https://localhost:8080/"
        },
        "id": "GWJv7CLJw0VK",
        "outputId": "bbee35ea-c484-4de3-bd3a-8d1e57a897a1"
      },
      "outputs": [
        {
          "output_type": "execute_result",
          "data": {
            "text/plain": [
              "c    3\n",
              "d    4\n",
              "e    5\n",
              "dtype: int64"
            ]
          },
          "metadata": {},
          "execution_count": 751
        }
      ],
      "source": [
        "# As does boolean masking.\n",
        "s.loc[s > 2]"
      ]
    },
    {
      "cell_type": "markdown",
      "metadata": {
        "id": "EBbZRzsLFNOJ"
      },
      "source": [
        "**My own example 69**"
      ]
    },
    {
      "cell_type": "code",
      "execution_count": null,
      "metadata": {
        "colab": {
          "base_uri": "https://localhost:8080/"
        },
        "id": "Ksr5q1kdFNBq",
        "outputId": "2fbd0e24-fce5-4f51-8663-b3a075eee44c"
      },
      "outputs": [
        {
          "output_type": "execute_result",
          "data": {
            "text/plain": [
              "er     55\n",
              "sdd    44\n",
              "wad    88\n",
              "wad    77\n",
              "dtype: int64"
            ]
          },
          "metadata": {},
          "execution_count": 752
        }
      ],
      "source": [
        "rows.loc[rows > 9]"
      ]
    },
    {
      "cell_type": "code",
      "execution_count": null,
      "metadata": {
        "colab": {
          "base_uri": "https://localhost:8080/"
        },
        "id": "5PLZMoXOw0VK",
        "outputId": "f1c5be2c-b45b-46cd-eabe-5da3d9886486"
      },
      "outputs": [
        {
          "output_type": "execute_result",
          "data": {
            "text/plain": [
              "a    10.0\n",
              "c    20.0\n",
              "d    30.0\n",
              "z    40.0\n",
              "dtype: float64"
            ]
          },
          "metadata": {},
          "execution_count": 753
        }
      ],
      "source": [
        "# Element-wise operations are aligned by index.\n",
        "other_s = pd.Series({'a': 10.0, 'c': 20.0, 'd': 30.0, 'z': 40.0})\n",
        "other_s"
      ]
    },
    {
      "cell_type": "markdown",
      "metadata": {
        "id": "EYZDhbqhFa95"
      },
      "source": [
        "**My own example 70**"
      ]
    },
    {
      "cell_type": "code",
      "execution_count": null,
      "metadata": {
        "colab": {
          "base_uri": "https://localhost:8080/"
        },
        "id": "IBH464gGFaxS",
        "outputId": "43a0f40d-ebce-4974-c0fe-6112012a675a"
      },
      "outputs": [
        {
          "output_type": "execute_result",
          "data": {
            "text/plain": [
              "Apple    56486\n",
              "Mac         44\n",
              "Book       545\n",
              "dtype: int64"
            ]
          },
          "metadata": {},
          "execution_count": 754
        }
      ],
      "source": [
        "jijija = pd.Series({'Apple' : 56486, 'Mac':44, 'Book':545})\n",
        "jijija"
      ]
    },
    {
      "cell_type": "code",
      "execution_count": null,
      "metadata": {
        "colab": {
          "base_uri": "https://localhost:8080/"
        },
        "id": "GfTExfmqw0VK",
        "outputId": "4554cb41-4516-43f5-8284-3f35390b60d2"
      },
      "outputs": [
        {
          "output_type": "execute_result",
          "data": {
            "text/plain": [
              "a    11.0\n",
              "b     NaN\n",
              "c    23.0\n",
              "d    34.0\n",
              "e     NaN\n",
              "z     NaN\n",
              "dtype: float64"
            ]
          },
          "metadata": {},
          "execution_count": 755
        }
      ],
      "source": [
        "s + other_s"
      ]
    },
    {
      "cell_type": "markdown",
      "metadata": {
        "id": "rXvwCbZ0FrgD"
      },
      "source": [
        "**My own example 71**"
      ]
    },
    {
      "cell_type": "code",
      "execution_count": null,
      "metadata": {
        "colab": {
          "base_uri": "https://localhost:8080/"
        },
        "id": "CJbVu4PbFrSJ",
        "outputId": "4d97cbf3-d720-410a-de64-8bb62f669855"
      },
      "outputs": [
        {
          "output_type": "execute_result",
          "data": {
            "text/plain": [
              "Apple   NaN\n",
              "Book    NaN\n",
              "Mac     NaN\n",
              "er      NaN\n",
              "sdd     NaN\n",
              "wad     NaN\n",
              "wad     NaN\n",
              "dtype: float64"
            ]
          },
          "metadata": {},
          "execution_count": 756
        }
      ],
      "source": [
        "rows + jijija"
      ]
    },
    {
      "cell_type": "code",
      "execution_count": null,
      "metadata": {
        "colab": {
          "base_uri": "https://localhost:8080/"
        },
        "id": "vQ3Xxfekw0VK",
        "outputId": "5a7a704e-b433-42ac-ce0a-9a96afa1ae45"
      },
      "outputs": [
        {
          "output_type": "execute_result",
          "data": {
            "text/plain": [
              "a    11.0\n",
              "b     0.0\n",
              "c    23.0\n",
              "d    34.0\n",
              "e     0.0\n",
              "z     0.0\n",
              "dtype: float64"
            ]
          },
          "metadata": {},
          "execution_count": 757
        }
      ],
      "source": [
        "# We can fill in missing values with fillna().\n",
        "(s + other_s).fillna(0.0)"
      ]
    },
    {
      "cell_type": "markdown",
      "metadata": {
        "id": "C8ewl9ckG-lK"
      },
      "source": [
        "**My own example 72**"
      ]
    },
    {
      "cell_type": "code",
      "execution_count": null,
      "metadata": {
        "colab": {
          "base_uri": "https://localhost:8080/"
        },
        "id": "lME53YoPHBxd",
        "outputId": "07607b46-7dfa-48ea-c5bb-c2dd515b7d6a"
      },
      "outputs": [
        {
          "output_type": "execute_result",
          "data": {
            "text/plain": [
              "Apple    21.0\n",
              "Book     21.0\n",
              "Mac      21.0\n",
              "er       21.0\n",
              "sdd      21.0\n",
              "wad      21.0\n",
              "wad      21.0\n",
              "dtype: float64"
            ]
          },
          "metadata": {},
          "execution_count": 758
        }
      ],
      "source": [
        "(rows + jijija).fillna(21)"
      ]
    },
    {
      "cell_type": "code",
      "execution_count": null,
      "metadata": {
        "id": "EAbecmTQw0VK",
        "colab": {
          "base_uri": "https://localhost:8080/",
          "height": 237
        },
        "outputId": "74e9bcd7-0f7b-4cd8-b7ae-b342225572d0"
      },
      "outputs": [
        {
          "output_type": "execute_result",
          "data": {
            "text/plain": [
              "            Adj Close      Close       High        Low       Open       Volume\n",
              "Date                                                                          \n",
              "2010-01-04  27.613066  30.572857  30.642857  30.340000  30.490000  123432400.0\n",
              "2010-01-05  27.660807  30.625713  30.798571  30.464285  30.657143  150476200.0\n",
              "2010-01-06  27.220825  30.138571  30.747143  30.107143  30.625713  138040000.0\n",
              "2010-01-07  27.170504  30.082857  30.285715  29.864286  30.250000  119282800.0\n",
              "2010-01-08  27.351143  30.282858  30.285715  29.865715  30.042856  111902700.0"
            ],
            "text/html": [
              "\n",
              "  <div id=\"df-3b1d6eac-591c-4c4b-8cf8-05d5d7b5a10b\">\n",
              "    <div class=\"colab-df-container\">\n",
              "      <div>\n",
              "<style scoped>\n",
              "    .dataframe tbody tr th:only-of-type {\n",
              "        vertical-align: middle;\n",
              "    }\n",
              "\n",
              "    .dataframe tbody tr th {\n",
              "        vertical-align: top;\n",
              "    }\n",
              "\n",
              "    .dataframe thead th {\n",
              "        text-align: right;\n",
              "    }\n",
              "</style>\n",
              "<table border=\"1\" class=\"dataframe\">\n",
              "  <thead>\n",
              "    <tr style=\"text-align: right;\">\n",
              "      <th></th>\n",
              "      <th>Adj Close</th>\n",
              "      <th>Close</th>\n",
              "      <th>High</th>\n",
              "      <th>Low</th>\n",
              "      <th>Open</th>\n",
              "      <th>Volume</th>\n",
              "    </tr>\n",
              "    <tr>\n",
              "      <th>Date</th>\n",
              "      <th></th>\n",
              "      <th></th>\n",
              "      <th></th>\n",
              "      <th></th>\n",
              "      <th></th>\n",
              "      <th></th>\n",
              "    </tr>\n",
              "  </thead>\n",
              "  <tbody>\n",
              "    <tr>\n",
              "      <th>2010-01-04</th>\n",
              "      <td>27.613066</td>\n",
              "      <td>30.572857</td>\n",
              "      <td>30.642857</td>\n",
              "      <td>30.340000</td>\n",
              "      <td>30.490000</td>\n",
              "      <td>123432400.0</td>\n",
              "    </tr>\n",
              "    <tr>\n",
              "      <th>2010-01-05</th>\n",
              "      <td>27.660807</td>\n",
              "      <td>30.625713</td>\n",
              "      <td>30.798571</td>\n",
              "      <td>30.464285</td>\n",
              "      <td>30.657143</td>\n",
              "      <td>150476200.0</td>\n",
              "    </tr>\n",
              "    <tr>\n",
              "      <th>2010-01-06</th>\n",
              "      <td>27.220825</td>\n",
              "      <td>30.138571</td>\n",
              "      <td>30.747143</td>\n",
              "      <td>30.107143</td>\n",
              "      <td>30.625713</td>\n",
              "      <td>138040000.0</td>\n",
              "    </tr>\n",
              "    <tr>\n",
              "      <th>2010-01-07</th>\n",
              "      <td>27.170504</td>\n",
              "      <td>30.082857</td>\n",
              "      <td>30.285715</td>\n",
              "      <td>29.864286</td>\n",
              "      <td>30.250000</td>\n",
              "      <td>119282800.0</td>\n",
              "    </tr>\n",
              "    <tr>\n",
              "      <th>2010-01-08</th>\n",
              "      <td>27.351143</td>\n",
              "      <td>30.282858</td>\n",
              "      <td>30.285715</td>\n",
              "      <td>29.865715</td>\n",
              "      <td>30.042856</td>\n",
              "      <td>111902700.0</td>\n",
              "    </tr>\n",
              "  </tbody>\n",
              "</table>\n",
              "</div>\n",
              "      <button class=\"colab-df-convert\" onclick=\"convertToInteractive('df-3b1d6eac-591c-4c4b-8cf8-05d5d7b5a10b')\"\n",
              "              title=\"Convert this dataframe to an interactive table.\"\n",
              "              style=\"display:none;\">\n",
              "        \n",
              "  <svg xmlns=\"http://www.w3.org/2000/svg\" height=\"24px\"viewBox=\"0 0 24 24\"\n",
              "       width=\"24px\">\n",
              "    <path d=\"M0 0h24v24H0V0z\" fill=\"none\"/>\n",
              "    <path d=\"M18.56 5.44l.94 2.06.94-2.06 2.06-.94-2.06-.94-.94-2.06-.94 2.06-2.06.94zm-11 1L8.5 8.5l.94-2.06 2.06-.94-2.06-.94L8.5 2.5l-.94 2.06-2.06.94zm10 10l.94 2.06.94-2.06 2.06-.94-2.06-.94-.94-2.06-.94 2.06-2.06.94z\"/><path d=\"M17.41 7.96l-1.37-1.37c-.4-.4-.92-.59-1.43-.59-.52 0-1.04.2-1.43.59L10.3 9.45l-7.72 7.72c-.78.78-.78 2.05 0 2.83L4 21.41c.39.39.9.59 1.41.59.51 0 1.02-.2 1.41-.59l7.78-7.78 2.81-2.81c.8-.78.8-2.07 0-2.86zM5.41 20L4 18.59l7.72-7.72 1.47 1.35L5.41 20z\"/>\n",
              "  </svg>\n",
              "      </button>\n",
              "      \n",
              "  <style>\n",
              "    .colab-df-container {\n",
              "      display:flex;\n",
              "      flex-wrap:wrap;\n",
              "      gap: 12px;\n",
              "    }\n",
              "\n",
              "    .colab-df-convert {\n",
              "      background-color: #E8F0FE;\n",
              "      border: none;\n",
              "      border-radius: 50%;\n",
              "      cursor: pointer;\n",
              "      display: none;\n",
              "      fill: #1967D2;\n",
              "      height: 32px;\n",
              "      padding: 0 0 0 0;\n",
              "      width: 32px;\n",
              "    }\n",
              "\n",
              "    .colab-df-convert:hover {\n",
              "      background-color: #E2EBFA;\n",
              "      box-shadow: 0px 1px 2px rgba(60, 64, 67, 0.3), 0px 1px 3px 1px rgba(60, 64, 67, 0.15);\n",
              "      fill: #174EA6;\n",
              "    }\n",
              "\n",
              "    [theme=dark] .colab-df-convert {\n",
              "      background-color: #3B4455;\n",
              "      fill: #D2E3FC;\n",
              "    }\n",
              "\n",
              "    [theme=dark] .colab-df-convert:hover {\n",
              "      background-color: #434B5C;\n",
              "      box-shadow: 0px 1px 3px 1px rgba(0, 0, 0, 0.15);\n",
              "      filter: drop-shadow(0px 1px 2px rgba(0, 0, 0, 0.3));\n",
              "      fill: #FFFFFF;\n",
              "    }\n",
              "  </style>\n",
              "\n",
              "      <script>\n",
              "        const buttonEl =\n",
              "          document.querySelector('#df-3b1d6eac-591c-4c4b-8cf8-05d5d7b5a10b button.colab-df-convert');\n",
              "        buttonEl.style.display =\n",
              "          google.colab.kernel.accessAllowed ? 'block' : 'none';\n",
              "\n",
              "        async function convertToInteractive(key) {\n",
              "          const element = document.querySelector('#df-3b1d6eac-591c-4c4b-8cf8-05d5d7b5a10b');\n",
              "          const dataTable =\n",
              "            await google.colab.kernel.invokeFunction('convertToInteractive',\n",
              "                                                     [key], {});\n",
              "          if (!dataTable) return;\n",
              "\n",
              "          const docLinkHtml = 'Like what you see? Visit the ' +\n",
              "            '<a target=\"_blank\" href=https://colab.research.google.com/notebooks/data_table.ipynb>data table notebook</a>'\n",
              "            + ' to learn more about interactive tables.';\n",
              "          element.innerHTML = '';\n",
              "          dataTable['output_type'] = 'display_data';\n",
              "          await google.colab.output.renderOutput(dataTable, element);\n",
              "          const docLink = document.createElement('div');\n",
              "          docLink.innerHTML = docLinkHtml;\n",
              "          element.appendChild(docLink);\n",
              "        }\n",
              "      </script>\n",
              "    </div>\n",
              "  </div>\n",
              "  "
            ]
          },
          "metadata": {},
          "execution_count": 759
        }
      ],
      "source": [
        "# Most real datasets are read in from an external file format.\n",
        "aapl = pd.read_csv('AAPL.csv', parse_dates=['Date'], index_col='Date')\n",
        "aapl.head()"
      ]
    },
    {
      "cell_type": "markdown",
      "metadata": {
        "id": "GVQbN3HP0cA5"
      },
      "source": [
        "**My own example 73**"
      ]
    },
    {
      "cell_type": "code",
      "execution_count": null,
      "metadata": {
        "colab": {
          "base_uri": "https://localhost:8080/",
          "height": 386
        },
        "id": "xEryDwJ42aCp",
        "outputId": "2decd4e5-b611-4a6b-f101-7ac7dff05a70"
      },
      "outputs": [
        {
          "output_type": "execute_result",
          "data": {
            "text/plain": [
              "     fecha_reporte_web  id_de_caso fecha_de_notificaci_n  departamento  \\\n",
              "0  2021-01-15 00:00:00     1851430   2021-01-11 00:00:00            66   \n",
              "1  2020-09-08 00:00:00      675930   2020-08-27 00:00:00            66   \n",
              "2  2021-02-16 00:00:00     2199264   2021-02-04 00:00:00            66   \n",
              "3  2021-03-26 00:00:00     2360530   2021-03-14 00:00:00            66   \n",
              "4  2021-03-26 00:00:00     2360550   2021-03-13 00:00:00            66   \n",
              "\n",
              "  departamento_nom  ciudad_municipio ciudad_municipio_nom  edad  \\\n",
              "0        RISARALDA             66001              PEREIRA    27   \n",
              "1        RISARALDA             66001              PEREIRA    42   \n",
              "2        RISARALDA             66001              PEREIRA    29   \n",
              "3        RISARALDA             66001              PEREIRA    67   \n",
              "4        RISARALDA             66001              PEREIRA    24   \n",
              "\n",
              "   unidad_medida sexo  ... pais_viajo_1_cod pais_viajo_1_nom  recuperado  \\\n",
              "0              1    M  ...              NaN              NaN  Recuperado   \n",
              "1              1    F  ...              NaN              NaN  Recuperado   \n",
              "2              1    M  ...              NaN              NaN  Recuperado   \n",
              "3              1    F  ...              NaN              NaN  Recuperado   \n",
              "4              1    F  ...              NaN              NaN  Recuperado   \n",
              "\n",
              "   fecha_inicio_sintomas fecha_muerte    fecha_diagnostico  \\\n",
              "0    2021-01-08 00:00:00          NaN  2021-01-12 00:00:00   \n",
              "1    2020-08-23 00:00:00          NaN  2020-09-07 00:00:00   \n",
              "2    2021-02-01 00:00:00          NaN  2021-02-15 00:00:00   \n",
              "3    2021-03-11 00:00:00          NaN  2021-03-25 00:00:00   \n",
              "4    2021-03-10 00:00:00          NaN  2021-03-24 00:00:00   \n",
              "\n",
              "      fecha_recuperado tipo_recuperacion per_etn_    nom_grupo_  \n",
              "0  2021-01-26 00:00:00            Tiempo        6           NaN  \n",
              "1  2020-09-13 00:00:00            Tiempo        1  EMBERA KATIO  \n",
              "2  2021-02-17 00:00:00            Tiempo        6           NaN  \n",
              "3  2021-03-27 00:00:00            Tiempo        6           NaN  \n",
              "4  2021-03-27 00:00:00            Tiempo        6           NaN  \n",
              "\n",
              "[5 rows x 23 columns]"
            ],
            "text/html": [
              "\n",
              "  <div id=\"df-378215e7-eaa4-44d7-af58-2d03ace98c9d\">\n",
              "    <div class=\"colab-df-container\">\n",
              "      <div>\n",
              "<style scoped>\n",
              "    .dataframe tbody tr th:only-of-type {\n",
              "        vertical-align: middle;\n",
              "    }\n",
              "\n",
              "    .dataframe tbody tr th {\n",
              "        vertical-align: top;\n",
              "    }\n",
              "\n",
              "    .dataframe thead th {\n",
              "        text-align: right;\n",
              "    }\n",
              "</style>\n",
              "<table border=\"1\" class=\"dataframe\">\n",
              "  <thead>\n",
              "    <tr style=\"text-align: right;\">\n",
              "      <th></th>\n",
              "      <th>fecha_reporte_web</th>\n",
              "      <th>id_de_caso</th>\n",
              "      <th>fecha_de_notificaci_n</th>\n",
              "      <th>departamento</th>\n",
              "      <th>departamento_nom</th>\n",
              "      <th>ciudad_municipio</th>\n",
              "      <th>ciudad_municipio_nom</th>\n",
              "      <th>edad</th>\n",
              "      <th>unidad_medida</th>\n",
              "      <th>sexo</th>\n",
              "      <th>...</th>\n",
              "      <th>pais_viajo_1_cod</th>\n",
              "      <th>pais_viajo_1_nom</th>\n",
              "      <th>recuperado</th>\n",
              "      <th>fecha_inicio_sintomas</th>\n",
              "      <th>fecha_muerte</th>\n",
              "      <th>fecha_diagnostico</th>\n",
              "      <th>fecha_recuperado</th>\n",
              "      <th>tipo_recuperacion</th>\n",
              "      <th>per_etn_</th>\n",
              "      <th>nom_grupo_</th>\n",
              "    </tr>\n",
              "  </thead>\n",
              "  <tbody>\n",
              "    <tr>\n",
              "      <th>0</th>\n",
              "      <td>2021-01-15 00:00:00</td>\n",
              "      <td>1851430</td>\n",
              "      <td>2021-01-11 00:00:00</td>\n",
              "      <td>66</td>\n",
              "      <td>RISARALDA</td>\n",
              "      <td>66001</td>\n",
              "      <td>PEREIRA</td>\n",
              "      <td>27</td>\n",
              "      <td>1</td>\n",
              "      <td>M</td>\n",
              "      <td>...</td>\n",
              "      <td>NaN</td>\n",
              "      <td>NaN</td>\n",
              "      <td>Recuperado</td>\n",
              "      <td>2021-01-08 00:00:00</td>\n",
              "      <td>NaN</td>\n",
              "      <td>2021-01-12 00:00:00</td>\n",
              "      <td>2021-01-26 00:00:00</td>\n",
              "      <td>Tiempo</td>\n",
              "      <td>6</td>\n",
              "      <td>NaN</td>\n",
              "    </tr>\n",
              "    <tr>\n",
              "      <th>1</th>\n",
              "      <td>2020-09-08 00:00:00</td>\n",
              "      <td>675930</td>\n",
              "      <td>2020-08-27 00:00:00</td>\n",
              "      <td>66</td>\n",
              "      <td>RISARALDA</td>\n",
              "      <td>66001</td>\n",
              "      <td>PEREIRA</td>\n",
              "      <td>42</td>\n",
              "      <td>1</td>\n",
              "      <td>F</td>\n",
              "      <td>...</td>\n",
              "      <td>NaN</td>\n",
              "      <td>NaN</td>\n",
              "      <td>Recuperado</td>\n",
              "      <td>2020-08-23 00:00:00</td>\n",
              "      <td>NaN</td>\n",
              "      <td>2020-09-07 00:00:00</td>\n",
              "      <td>2020-09-13 00:00:00</td>\n",
              "      <td>Tiempo</td>\n",
              "      <td>1</td>\n",
              "      <td>EMBERA KATIO</td>\n",
              "    </tr>\n",
              "    <tr>\n",
              "      <th>2</th>\n",
              "      <td>2021-02-16 00:00:00</td>\n",
              "      <td>2199264</td>\n",
              "      <td>2021-02-04 00:00:00</td>\n",
              "      <td>66</td>\n",
              "      <td>RISARALDA</td>\n",
              "      <td>66001</td>\n",
              "      <td>PEREIRA</td>\n",
              "      <td>29</td>\n",
              "      <td>1</td>\n",
              "      <td>M</td>\n",
              "      <td>...</td>\n",
              "      <td>NaN</td>\n",
              "      <td>NaN</td>\n",
              "      <td>Recuperado</td>\n",
              "      <td>2021-02-01 00:00:00</td>\n",
              "      <td>NaN</td>\n",
              "      <td>2021-02-15 00:00:00</td>\n",
              "      <td>2021-02-17 00:00:00</td>\n",
              "      <td>Tiempo</td>\n",
              "      <td>6</td>\n",
              "      <td>NaN</td>\n",
              "    </tr>\n",
              "    <tr>\n",
              "      <th>3</th>\n",
              "      <td>2021-03-26 00:00:00</td>\n",
              "      <td>2360530</td>\n",
              "      <td>2021-03-14 00:00:00</td>\n",
              "      <td>66</td>\n",
              "      <td>RISARALDA</td>\n",
              "      <td>66001</td>\n",
              "      <td>PEREIRA</td>\n",
              "      <td>67</td>\n",
              "      <td>1</td>\n",
              "      <td>F</td>\n",
              "      <td>...</td>\n",
              "      <td>NaN</td>\n",
              "      <td>NaN</td>\n",
              "      <td>Recuperado</td>\n",
              "      <td>2021-03-11 00:00:00</td>\n",
              "      <td>NaN</td>\n",
              "      <td>2021-03-25 00:00:00</td>\n",
              "      <td>2021-03-27 00:00:00</td>\n",
              "      <td>Tiempo</td>\n",
              "      <td>6</td>\n",
              "      <td>NaN</td>\n",
              "    </tr>\n",
              "    <tr>\n",
              "      <th>4</th>\n",
              "      <td>2021-03-26 00:00:00</td>\n",
              "      <td>2360550</td>\n",
              "      <td>2021-03-13 00:00:00</td>\n",
              "      <td>66</td>\n",
              "      <td>RISARALDA</td>\n",
              "      <td>66001</td>\n",
              "      <td>PEREIRA</td>\n",
              "      <td>24</td>\n",
              "      <td>1</td>\n",
              "      <td>F</td>\n",
              "      <td>...</td>\n",
              "      <td>NaN</td>\n",
              "      <td>NaN</td>\n",
              "      <td>Recuperado</td>\n",
              "      <td>2021-03-10 00:00:00</td>\n",
              "      <td>NaN</td>\n",
              "      <td>2021-03-24 00:00:00</td>\n",
              "      <td>2021-03-27 00:00:00</td>\n",
              "      <td>Tiempo</td>\n",
              "      <td>6</td>\n",
              "      <td>NaN</td>\n",
              "    </tr>\n",
              "  </tbody>\n",
              "</table>\n",
              "<p>5 rows × 23 columns</p>\n",
              "</div>\n",
              "      <button class=\"colab-df-convert\" onclick=\"convertToInteractive('df-378215e7-eaa4-44d7-af58-2d03ace98c9d')\"\n",
              "              title=\"Convert this dataframe to an interactive table.\"\n",
              "              style=\"display:none;\">\n",
              "        \n",
              "  <svg xmlns=\"http://www.w3.org/2000/svg\" height=\"24px\"viewBox=\"0 0 24 24\"\n",
              "       width=\"24px\">\n",
              "    <path d=\"M0 0h24v24H0V0z\" fill=\"none\"/>\n",
              "    <path d=\"M18.56 5.44l.94 2.06.94-2.06 2.06-.94-2.06-.94-.94-2.06-.94 2.06-2.06.94zm-11 1L8.5 8.5l.94-2.06 2.06-.94-2.06-.94L8.5 2.5l-.94 2.06-2.06.94zm10 10l.94 2.06.94-2.06 2.06-.94-2.06-.94-.94-2.06-.94 2.06-2.06.94z\"/><path d=\"M17.41 7.96l-1.37-1.37c-.4-.4-.92-.59-1.43-.59-.52 0-1.04.2-1.43.59L10.3 9.45l-7.72 7.72c-.78.78-.78 2.05 0 2.83L4 21.41c.39.39.9.59 1.41.59.51 0 1.02-.2 1.41-.59l7.78-7.78 2.81-2.81c.8-.78.8-2.07 0-2.86zM5.41 20L4 18.59l7.72-7.72 1.47 1.35L5.41 20z\"/>\n",
              "  </svg>\n",
              "      </button>\n",
              "      \n",
              "  <style>\n",
              "    .colab-df-container {\n",
              "      display:flex;\n",
              "      flex-wrap:wrap;\n",
              "      gap: 12px;\n",
              "    }\n",
              "\n",
              "    .colab-df-convert {\n",
              "      background-color: #E8F0FE;\n",
              "      border: none;\n",
              "      border-radius: 50%;\n",
              "      cursor: pointer;\n",
              "      display: none;\n",
              "      fill: #1967D2;\n",
              "      height: 32px;\n",
              "      padding: 0 0 0 0;\n",
              "      width: 32px;\n",
              "    }\n",
              "\n",
              "    .colab-df-convert:hover {\n",
              "      background-color: #E2EBFA;\n",
              "      box-shadow: 0px 1px 2px rgba(60, 64, 67, 0.3), 0px 1px 3px 1px rgba(60, 64, 67, 0.15);\n",
              "      fill: #174EA6;\n",
              "    }\n",
              "\n",
              "    [theme=dark] .colab-df-convert {\n",
              "      background-color: #3B4455;\n",
              "      fill: #D2E3FC;\n",
              "    }\n",
              "\n",
              "    [theme=dark] .colab-df-convert:hover {\n",
              "      background-color: #434B5C;\n",
              "      box-shadow: 0px 1px 3px 1px rgba(0, 0, 0, 0.15);\n",
              "      filter: drop-shadow(0px 1px 2px rgba(0, 0, 0, 0.3));\n",
              "      fill: #FFFFFF;\n",
              "    }\n",
              "  </style>\n",
              "\n",
              "      <script>\n",
              "        const buttonEl =\n",
              "          document.querySelector('#df-378215e7-eaa4-44d7-af58-2d03ace98c9d button.colab-df-convert');\n",
              "        buttonEl.style.display =\n",
              "          google.colab.kernel.accessAllowed ? 'block' : 'none';\n",
              "\n",
              "        async function convertToInteractive(key) {\n",
              "          const element = document.querySelector('#df-378215e7-eaa4-44d7-af58-2d03ace98c9d');\n",
              "          const dataTable =\n",
              "            await google.colab.kernel.invokeFunction('convertToInteractive',\n",
              "                                                     [key], {});\n",
              "          if (!dataTable) return;\n",
              "\n",
              "          const docLinkHtml = 'Like what you see? Visit the ' +\n",
              "            '<a target=\"_blank\" href=https://colab.research.google.com/notebooks/data_table.ipynb>data table notebook</a>'\n",
              "            + ' to learn more about interactive tables.';\n",
              "          element.innerHTML = '';\n",
              "          dataTable['output_type'] = 'display_data';\n",
              "          await google.colab.output.renderOutput(dataTable, element);\n",
              "          const docLink = document.createElement('div');\n",
              "          docLink.innerHTML = docLinkHtml;\n",
              "          element.appendChild(docLink);\n",
              "        }\n",
              "      </script>\n",
              "    </div>\n",
              "  </div>\n",
              "  "
            ]
          },
          "metadata": {},
          "execution_count": 760
        }
      ],
      "source": [
        "import pandas as pd\n",
        "dvargas = pd.read_csv('https://www.datos.gov.co/resource/i58g-rfwr.csv')\n",
        "dvargas.head()"
      ]
    },
    {
      "cell_type": "code",
      "execution_count": null,
      "metadata": {
        "id": "4YLV0lWgw0VL",
        "colab": {
          "base_uri": "https://localhost:8080/",
          "height": 143
        },
        "outputId": "21cc42a8-f494-44b6-f5bc-cc6ecfea73d6"
      },
      "outputs": [
        {
          "output_type": "execute_result",
          "data": {
            "text/plain": [
              "            Adj Close      Close\n",
              "Date                            \n",
              "2010-01-04  27.613066  30.572857\n",
              "2010-01-05  27.660807  30.625713"
            ],
            "text/html": [
              "\n",
              "  <div id=\"df-fdca82e7-e415-4e7e-8eb1-92508b69bd68\">\n",
              "    <div class=\"colab-df-container\">\n",
              "      <div>\n",
              "<style scoped>\n",
              "    .dataframe tbody tr th:only-of-type {\n",
              "        vertical-align: middle;\n",
              "    }\n",
              "\n",
              "    .dataframe tbody tr th {\n",
              "        vertical-align: top;\n",
              "    }\n",
              "\n",
              "    .dataframe thead th {\n",
              "        text-align: right;\n",
              "    }\n",
              "</style>\n",
              "<table border=\"1\" class=\"dataframe\">\n",
              "  <thead>\n",
              "    <tr style=\"text-align: right;\">\n",
              "      <th></th>\n",
              "      <th>Adj Close</th>\n",
              "      <th>Close</th>\n",
              "    </tr>\n",
              "    <tr>\n",
              "      <th>Date</th>\n",
              "      <th></th>\n",
              "      <th></th>\n",
              "    </tr>\n",
              "  </thead>\n",
              "  <tbody>\n",
              "    <tr>\n",
              "      <th>2010-01-04</th>\n",
              "      <td>27.613066</td>\n",
              "      <td>30.572857</td>\n",
              "    </tr>\n",
              "    <tr>\n",
              "      <th>2010-01-05</th>\n",
              "      <td>27.660807</td>\n",
              "      <td>30.625713</td>\n",
              "    </tr>\n",
              "  </tbody>\n",
              "</table>\n",
              "</div>\n",
              "      <button class=\"colab-df-convert\" onclick=\"convertToInteractive('df-fdca82e7-e415-4e7e-8eb1-92508b69bd68')\"\n",
              "              title=\"Convert this dataframe to an interactive table.\"\n",
              "              style=\"display:none;\">\n",
              "        \n",
              "  <svg xmlns=\"http://www.w3.org/2000/svg\" height=\"24px\"viewBox=\"0 0 24 24\"\n",
              "       width=\"24px\">\n",
              "    <path d=\"M0 0h24v24H0V0z\" fill=\"none\"/>\n",
              "    <path d=\"M18.56 5.44l.94 2.06.94-2.06 2.06-.94-2.06-.94-.94-2.06-.94 2.06-2.06.94zm-11 1L8.5 8.5l.94-2.06 2.06-.94-2.06-.94L8.5 2.5l-.94 2.06-2.06.94zm10 10l.94 2.06.94-2.06 2.06-.94-2.06-.94-.94-2.06-.94 2.06-2.06.94z\"/><path d=\"M17.41 7.96l-1.37-1.37c-.4-.4-.92-.59-1.43-.59-.52 0-1.04.2-1.43.59L10.3 9.45l-7.72 7.72c-.78.78-.78 2.05 0 2.83L4 21.41c.39.39.9.59 1.41.59.51 0 1.02-.2 1.41-.59l7.78-7.78 2.81-2.81c.8-.78.8-2.07 0-2.86zM5.41 20L4 18.59l7.72-7.72 1.47 1.35L5.41 20z\"/>\n",
              "  </svg>\n",
              "      </button>\n",
              "      \n",
              "  <style>\n",
              "    .colab-df-container {\n",
              "      display:flex;\n",
              "      flex-wrap:wrap;\n",
              "      gap: 12px;\n",
              "    }\n",
              "\n",
              "    .colab-df-convert {\n",
              "      background-color: #E8F0FE;\n",
              "      border: none;\n",
              "      border-radius: 50%;\n",
              "      cursor: pointer;\n",
              "      display: none;\n",
              "      fill: #1967D2;\n",
              "      height: 32px;\n",
              "      padding: 0 0 0 0;\n",
              "      width: 32px;\n",
              "    }\n",
              "\n",
              "    .colab-df-convert:hover {\n",
              "      background-color: #E2EBFA;\n",
              "      box-shadow: 0px 1px 2px rgba(60, 64, 67, 0.3), 0px 1px 3px 1px rgba(60, 64, 67, 0.15);\n",
              "      fill: #174EA6;\n",
              "    }\n",
              "\n",
              "    [theme=dark] .colab-df-convert {\n",
              "      background-color: #3B4455;\n",
              "      fill: #D2E3FC;\n",
              "    }\n",
              "\n",
              "    [theme=dark] .colab-df-convert:hover {\n",
              "      background-color: #434B5C;\n",
              "      box-shadow: 0px 1px 3px 1px rgba(0, 0, 0, 0.15);\n",
              "      filter: drop-shadow(0px 1px 2px rgba(0, 0, 0, 0.3));\n",
              "      fill: #FFFFFF;\n",
              "    }\n",
              "  </style>\n",
              "\n",
              "      <script>\n",
              "        const buttonEl =\n",
              "          document.querySelector('#df-fdca82e7-e415-4e7e-8eb1-92508b69bd68 button.colab-df-convert');\n",
              "        buttonEl.style.display =\n",
              "          google.colab.kernel.accessAllowed ? 'block' : 'none';\n",
              "\n",
              "        async function convertToInteractive(key) {\n",
              "          const element = document.querySelector('#df-fdca82e7-e415-4e7e-8eb1-92508b69bd68');\n",
              "          const dataTable =\n",
              "            await google.colab.kernel.invokeFunction('convertToInteractive',\n",
              "                                                     [key], {});\n",
              "          if (!dataTable) return;\n",
              "\n",
              "          const docLinkHtml = 'Like what you see? Visit the ' +\n",
              "            '<a target=\"_blank\" href=https://colab.research.google.com/notebooks/data_table.ipynb>data table notebook</a>'\n",
              "            + ' to learn more about interactive tables.';\n",
              "          element.innerHTML = '';\n",
              "          dataTable['output_type'] = 'display_data';\n",
              "          await google.colab.output.renderOutput(dataTable, element);\n",
              "          const docLink = document.createElement('div');\n",
              "          docLink.innerHTML = docLinkHtml;\n",
              "          element.appendChild(docLink);\n",
              "        }\n",
              "      </script>\n",
              "    </div>\n",
              "  </div>\n",
              "  "
            ]
          },
          "metadata": {},
          "execution_count": 761
        }
      ],
      "source": [
        "# Slicing generalizes to two dimensions as you'd expect:\n",
        "aapl.iloc[:2, :2]"
      ]
    },
    {
      "cell_type": "markdown",
      "metadata": {
        "id": "qg3B_pBG1XQK"
      },
      "source": [
        "**My own example 74**"
      ]
    },
    {
      "cell_type": "code",
      "execution_count": null,
      "metadata": {
        "colab": {
          "base_uri": "https://localhost:8080/",
          "height": 112
        },
        "id": "lt8pQvJS2aez",
        "outputId": "de4d9bff-5c42-4055-ca9a-ee17f7253803"
      },
      "outputs": [
        {
          "output_type": "execute_result",
          "data": {
            "text/plain": [
              "     fecha_reporte_web  id_de_caso\n",
              "0  2021-01-15 00:00:00     1851430\n",
              "1  2020-09-08 00:00:00      675930"
            ],
            "text/html": [
              "\n",
              "  <div id=\"df-e7b28580-df8f-4879-ad45-9f87b87e0c71\">\n",
              "    <div class=\"colab-df-container\">\n",
              "      <div>\n",
              "<style scoped>\n",
              "    .dataframe tbody tr th:only-of-type {\n",
              "        vertical-align: middle;\n",
              "    }\n",
              "\n",
              "    .dataframe tbody tr th {\n",
              "        vertical-align: top;\n",
              "    }\n",
              "\n",
              "    .dataframe thead th {\n",
              "        text-align: right;\n",
              "    }\n",
              "</style>\n",
              "<table border=\"1\" class=\"dataframe\">\n",
              "  <thead>\n",
              "    <tr style=\"text-align: right;\">\n",
              "      <th></th>\n",
              "      <th>fecha_reporte_web</th>\n",
              "      <th>id_de_caso</th>\n",
              "    </tr>\n",
              "  </thead>\n",
              "  <tbody>\n",
              "    <tr>\n",
              "      <th>0</th>\n",
              "      <td>2021-01-15 00:00:00</td>\n",
              "      <td>1851430</td>\n",
              "    </tr>\n",
              "    <tr>\n",
              "      <th>1</th>\n",
              "      <td>2020-09-08 00:00:00</td>\n",
              "      <td>675930</td>\n",
              "    </tr>\n",
              "  </tbody>\n",
              "</table>\n",
              "</div>\n",
              "      <button class=\"colab-df-convert\" onclick=\"convertToInteractive('df-e7b28580-df8f-4879-ad45-9f87b87e0c71')\"\n",
              "              title=\"Convert this dataframe to an interactive table.\"\n",
              "              style=\"display:none;\">\n",
              "        \n",
              "  <svg xmlns=\"http://www.w3.org/2000/svg\" height=\"24px\"viewBox=\"0 0 24 24\"\n",
              "       width=\"24px\">\n",
              "    <path d=\"M0 0h24v24H0V0z\" fill=\"none\"/>\n",
              "    <path d=\"M18.56 5.44l.94 2.06.94-2.06 2.06-.94-2.06-.94-.94-2.06-.94 2.06-2.06.94zm-11 1L8.5 8.5l.94-2.06 2.06-.94-2.06-.94L8.5 2.5l-.94 2.06-2.06.94zm10 10l.94 2.06.94-2.06 2.06-.94-2.06-.94-.94-2.06-.94 2.06-2.06.94z\"/><path d=\"M17.41 7.96l-1.37-1.37c-.4-.4-.92-.59-1.43-.59-.52 0-1.04.2-1.43.59L10.3 9.45l-7.72 7.72c-.78.78-.78 2.05 0 2.83L4 21.41c.39.39.9.59 1.41.59.51 0 1.02-.2 1.41-.59l7.78-7.78 2.81-2.81c.8-.78.8-2.07 0-2.86zM5.41 20L4 18.59l7.72-7.72 1.47 1.35L5.41 20z\"/>\n",
              "  </svg>\n",
              "      </button>\n",
              "      \n",
              "  <style>\n",
              "    .colab-df-container {\n",
              "      display:flex;\n",
              "      flex-wrap:wrap;\n",
              "      gap: 12px;\n",
              "    }\n",
              "\n",
              "    .colab-df-convert {\n",
              "      background-color: #E8F0FE;\n",
              "      border: none;\n",
              "      border-radius: 50%;\n",
              "      cursor: pointer;\n",
              "      display: none;\n",
              "      fill: #1967D2;\n",
              "      height: 32px;\n",
              "      padding: 0 0 0 0;\n",
              "      width: 32px;\n",
              "    }\n",
              "\n",
              "    .colab-df-convert:hover {\n",
              "      background-color: #E2EBFA;\n",
              "      box-shadow: 0px 1px 2px rgba(60, 64, 67, 0.3), 0px 1px 3px 1px rgba(60, 64, 67, 0.15);\n",
              "      fill: #174EA6;\n",
              "    }\n",
              "\n",
              "    [theme=dark] .colab-df-convert {\n",
              "      background-color: #3B4455;\n",
              "      fill: #D2E3FC;\n",
              "    }\n",
              "\n",
              "    [theme=dark] .colab-df-convert:hover {\n",
              "      background-color: #434B5C;\n",
              "      box-shadow: 0px 1px 3px 1px rgba(0, 0, 0, 0.15);\n",
              "      filter: drop-shadow(0px 1px 2px rgba(0, 0, 0, 0.3));\n",
              "      fill: #FFFFFF;\n",
              "    }\n",
              "  </style>\n",
              "\n",
              "      <script>\n",
              "        const buttonEl =\n",
              "          document.querySelector('#df-e7b28580-df8f-4879-ad45-9f87b87e0c71 button.colab-df-convert');\n",
              "        buttonEl.style.display =\n",
              "          google.colab.kernel.accessAllowed ? 'block' : 'none';\n",
              "\n",
              "        async function convertToInteractive(key) {\n",
              "          const element = document.querySelector('#df-e7b28580-df8f-4879-ad45-9f87b87e0c71');\n",
              "          const dataTable =\n",
              "            await google.colab.kernel.invokeFunction('convertToInteractive',\n",
              "                                                     [key], {});\n",
              "          if (!dataTable) return;\n",
              "\n",
              "          const docLinkHtml = 'Like what you see? Visit the ' +\n",
              "            '<a target=\"_blank\" href=https://colab.research.google.com/notebooks/data_table.ipynb>data table notebook</a>'\n",
              "            + ' to learn more about interactive tables.';\n",
              "          element.innerHTML = '';\n",
              "          dataTable['output_type'] = 'display_data';\n",
              "          await google.colab.output.renderOutput(dataTable, element);\n",
              "          const docLink = document.createElement('div');\n",
              "          docLink.innerHTML = docLinkHtml;\n",
              "          element.appendChild(docLink);\n",
              "        }\n",
              "      </script>\n",
              "    </div>\n",
              "  </div>\n",
              "  "
            ]
          },
          "metadata": {},
          "execution_count": 762
        }
      ],
      "source": [
        "dvargas.iloc[:2, :2]"
      ]
    },
    {
      "cell_type": "code",
      "execution_count": null,
      "metadata": {
        "id": "xZL_dvNow0VL",
        "colab": {
          "base_uri": "https://localhost:8080/",
          "height": 206
        },
        "outputId": "82ca80fd-8b8a-4886-c01a-71164e668da8"
      },
      "outputs": [
        {
          "output_type": "execute_result",
          "data": {
            "text/plain": [
              "                Close       Volume\n",
              "Date                              \n",
              "2010-02-01  27.818571  187469100.0\n",
              "2010-02-02  27.980000  174585600.0\n",
              "2010-02-03  28.461428  153832000.0\n",
              "2010-02-04  27.435715  189413000.0"
            ],
            "text/html": [
              "\n",
              "  <div id=\"df-996bce9b-d619-4f0e-892c-a52a04bfe238\">\n",
              "    <div class=\"colab-df-container\">\n",
              "      <div>\n",
              "<style scoped>\n",
              "    .dataframe tbody tr th:only-of-type {\n",
              "        vertical-align: middle;\n",
              "    }\n",
              "\n",
              "    .dataframe tbody tr th {\n",
              "        vertical-align: top;\n",
              "    }\n",
              "\n",
              "    .dataframe thead th {\n",
              "        text-align: right;\n",
              "    }\n",
              "</style>\n",
              "<table border=\"1\" class=\"dataframe\">\n",
              "  <thead>\n",
              "    <tr style=\"text-align: right;\">\n",
              "      <th></th>\n",
              "      <th>Close</th>\n",
              "      <th>Volume</th>\n",
              "    </tr>\n",
              "    <tr>\n",
              "      <th>Date</th>\n",
              "      <th></th>\n",
              "      <th></th>\n",
              "    </tr>\n",
              "  </thead>\n",
              "  <tbody>\n",
              "    <tr>\n",
              "      <th>2010-02-01</th>\n",
              "      <td>27.818571</td>\n",
              "      <td>187469100.0</td>\n",
              "    </tr>\n",
              "    <tr>\n",
              "      <th>2010-02-02</th>\n",
              "      <td>27.980000</td>\n",
              "      <td>174585600.0</td>\n",
              "    </tr>\n",
              "    <tr>\n",
              "      <th>2010-02-03</th>\n",
              "      <td>28.461428</td>\n",
              "      <td>153832000.0</td>\n",
              "    </tr>\n",
              "    <tr>\n",
              "      <th>2010-02-04</th>\n",
              "      <td>27.435715</td>\n",
              "      <td>189413000.0</td>\n",
              "    </tr>\n",
              "  </tbody>\n",
              "</table>\n",
              "</div>\n",
              "      <button class=\"colab-df-convert\" onclick=\"convertToInteractive('df-996bce9b-d619-4f0e-892c-a52a04bfe238')\"\n",
              "              title=\"Convert this dataframe to an interactive table.\"\n",
              "              style=\"display:none;\">\n",
              "        \n",
              "  <svg xmlns=\"http://www.w3.org/2000/svg\" height=\"24px\"viewBox=\"0 0 24 24\"\n",
              "       width=\"24px\">\n",
              "    <path d=\"M0 0h24v24H0V0z\" fill=\"none\"/>\n",
              "    <path d=\"M18.56 5.44l.94 2.06.94-2.06 2.06-.94-2.06-.94-.94-2.06-.94 2.06-2.06.94zm-11 1L8.5 8.5l.94-2.06 2.06-.94-2.06-.94L8.5 2.5l-.94 2.06-2.06.94zm10 10l.94 2.06.94-2.06 2.06-.94-2.06-.94-.94-2.06-.94 2.06-2.06.94z\"/><path d=\"M17.41 7.96l-1.37-1.37c-.4-.4-.92-.59-1.43-.59-.52 0-1.04.2-1.43.59L10.3 9.45l-7.72 7.72c-.78.78-.78 2.05 0 2.83L4 21.41c.39.39.9.59 1.41.59.51 0 1.02-.2 1.41-.59l7.78-7.78 2.81-2.81c.8-.78.8-2.07 0-2.86zM5.41 20L4 18.59l7.72-7.72 1.47 1.35L5.41 20z\"/>\n",
              "  </svg>\n",
              "      </button>\n",
              "      \n",
              "  <style>\n",
              "    .colab-df-container {\n",
              "      display:flex;\n",
              "      flex-wrap:wrap;\n",
              "      gap: 12px;\n",
              "    }\n",
              "\n",
              "    .colab-df-convert {\n",
              "      background-color: #E8F0FE;\n",
              "      border: none;\n",
              "      border-radius: 50%;\n",
              "      cursor: pointer;\n",
              "      display: none;\n",
              "      fill: #1967D2;\n",
              "      height: 32px;\n",
              "      padding: 0 0 0 0;\n",
              "      width: 32px;\n",
              "    }\n",
              "\n",
              "    .colab-df-convert:hover {\n",
              "      background-color: #E2EBFA;\n",
              "      box-shadow: 0px 1px 2px rgba(60, 64, 67, 0.3), 0px 1px 3px 1px rgba(60, 64, 67, 0.15);\n",
              "      fill: #174EA6;\n",
              "    }\n",
              "\n",
              "    [theme=dark] .colab-df-convert {\n",
              "      background-color: #3B4455;\n",
              "      fill: #D2E3FC;\n",
              "    }\n",
              "\n",
              "    [theme=dark] .colab-df-convert:hover {\n",
              "      background-color: #434B5C;\n",
              "      box-shadow: 0px 1px 3px 1px rgba(0, 0, 0, 0.15);\n",
              "      filter: drop-shadow(0px 1px 2px rgba(0, 0, 0, 0.3));\n",
              "      fill: #FFFFFF;\n",
              "    }\n",
              "  </style>\n",
              "\n",
              "      <script>\n",
              "        const buttonEl =\n",
              "          document.querySelector('#df-996bce9b-d619-4f0e-892c-a52a04bfe238 button.colab-df-convert');\n",
              "        buttonEl.style.display =\n",
              "          google.colab.kernel.accessAllowed ? 'block' : 'none';\n",
              "\n",
              "        async function convertToInteractive(key) {\n",
              "          const element = document.querySelector('#df-996bce9b-d619-4f0e-892c-a52a04bfe238');\n",
              "          const dataTable =\n",
              "            await google.colab.kernel.invokeFunction('convertToInteractive',\n",
              "                                                     [key], {});\n",
              "          if (!dataTable) return;\n",
              "\n",
              "          const docLinkHtml = 'Like what you see? Visit the ' +\n",
              "            '<a target=\"_blank\" href=https://colab.research.google.com/notebooks/data_table.ipynb>data table notebook</a>'\n",
              "            + ' to learn more about interactive tables.';\n",
              "          element.innerHTML = '';\n",
              "          dataTable['output_type'] = 'display_data';\n",
              "          await google.colab.output.renderOutput(dataTable, element);\n",
              "          const docLink = document.createElement('div');\n",
              "          docLink.innerHTML = docLinkHtml;\n",
              "          element.appendChild(docLink);\n",
              "        }\n",
              "      </script>\n",
              "    </div>\n",
              "  </div>\n",
              "  "
            ]
          },
          "metadata": {},
          "execution_count": 763
        }
      ],
      "source": [
        "aapl.loc[pd.Timestamp('2010-02-01'):pd.Timestamp('2010-02-04'), ['Close', 'Volume']]"
      ]
    },
    {
      "cell_type": "markdown",
      "metadata": {
        "id": "HVUUijC_w0VL"
      },
      "source": [
        "# Rolling Operations"
      ]
    },
    {
      "cell_type": "markdown",
      "metadata": {
        "id": "lAxYuUY3w0VP"
      },
      "source": [
        "<center><img src=\"images/rolling.gif\" alt=\"Drawing\" style=\"width: 75%;\"/></center>"
      ]
    },
    {
      "cell_type": "code",
      "execution_count": null,
      "metadata": {
        "id": "HZaHEKpow0VP",
        "outputId": "fca031a6-9caf-4b50-b3ad-b64c9650f0fb",
        "colab": {
          "base_uri": "https://localhost:8080/"
        }
      },
      "outputs": [
        {
          "output_type": "display_data",
          "data": {
            "text/plain": [
              "<Figure size 864x504 with 1 Axes>"
            ],
            "image/png": "[encoded data removed]"
          },
          "metadata": {
            "needs_background": "light"
          }
        }
      ],
      "source": [
        "aapl.rolling(5)[['Close', 'Adj Close']].mean().plot();"
      ]
    },
    {
      "cell_type": "markdown",
      "metadata": {
        "id": "Ib_CTSCx0dJS"
      },
      "source": [
        "**My own example 75**"
      ]
    },
    {
      "cell_type": "code",
      "execution_count": null,
      "metadata": {
        "colab": {
          "base_uri": "https://localhost:8080/"
        },
        "id": "dMI1bnzKGBOd",
        "outputId": "76ef4d15-6768-4209-e4ff-516199da4e0f"
      },
      "outputs": [
        {
          "output_type": "display_data",
          "data": {
            "text/plain": [
              "<Figure size 864x504 with 1 Axes>"
            ],
            "image/png": "[encoded data removed]"
          },
          "metadata": {
            "needs_background": "light"
          }
        }
      ],
      "source": [
        "dvargas.rolling(5)[['edad', 'id_de_caso']].mean().plot();"
      ]
    },
    {
      "cell_type": "code",
      "execution_count": null,
      "metadata": {
        "id": "k8QrYTU_w0VQ",
        "outputId": "1625281b-2903-478f-d9c1-6d95a2704d0a",
        "colab": {
          "base_uri": "https://localhost:8080/"
        }
      },
      "outputs": [
        {
          "output_type": "display_data",
          "data": {
            "text/plain": [
              "<Figure size 864x504 with 1 Axes>"
            ],
            "image/png": "[encoded data removed]"
          },
          "metadata": {
            "needs_background": "light"
          }
        }
      ],
      "source": [
        "# Drop `Volume`, since it's way bigger than everything else.\n",
        "aapl.drop('Volume', axis=1).resample('2W').max().plot();"
      ]
    },
    {
      "cell_type": "markdown",
      "metadata": {
        "id": "KJA30tsc0dl5"
      },
      "source": [
        "**My own example 76**"
      ]
    },
    {
      "cell_type": "code",
      "execution_count": null,
      "metadata": {
        "id": "CyHibXuvw0VQ",
        "outputId": "f971a87a-c534-4e44-bb7a-f27835d7db70",
        "colab": {
          "base_uri": "https://localhost:8080/"
        }
      },
      "outputs": [
        {
          "output_type": "display_data",
          "data": {
            "text/plain": [
              "<Figure size 864x504 with 1 Axes>"
            ],
            "image/png": "[encoded data removed]"
          },
          "metadata": {
            "needs_background": "light"
          }
        }
      ],
      "source": [
        "# 30-day rolling exponentially-weighted stddev of returns.\n",
        "aapl['Close'].pct_change().ewm(span=30).std().plot();"
      ]
    },
    {
      "cell_type": "markdown",
      "metadata": {
        "id": "sTJSTzUM0eCt"
      },
      "source": [
        "**My own example 77**"
      ]
    },
    {
      "cell_type": "code",
      "execution_count": null,
      "metadata": {
        "colab": {
          "base_uri": "https://localhost:8080/"
        },
        "id": "1MZY-V2OGdIq",
        "outputId": "6e59953d-6a54-451e-fbe1-c690d291324e"
      },
      "outputs": [
        {
          "output_type": "display_data",
          "data": {
            "text/plain": [
              "<Figure size 864x504 with 1 Axes>"
            ],
            "image/png": "[encoded data removed]"
          },
          "metadata": {
            "needs_background": "light"
          }
        }
      ],
      "source": [
        "dvargas['edad'].pct_change().ewm(span=30).std().plot();"
      ]
    },
    {
      "cell_type": "markdown",
      "metadata": {
        "id": "JFeWshndw0VQ"
      },
      "source": [
        "# \"Real World\" Data"
      ]
    },
    {
      "cell_type": "code",
      "execution_count": null,
      "metadata": {
        "colab": {
          "base_uri": "https://localhost:8080/"
        },
        "id": "7Lde1PATKxSs",
        "outputId": "04aeaa08-ac55-4913-b1fd-c837db664a61"
      },
      "outputs": [
        {
          "output_type": "stream",
          "name": "stdout",
          "text": [
            "fatal: destination path 'pydata-toolbox' already exists and is not an empty directory.\n"
          ]
        }
      ],
      "source": [
        "!git clone https://github.com/ssanderson/pydata-toolbox"
      ]
    },
    {
      "cell_type": "code",
      "execution_count": null,
      "metadata": {
        "id": "FvEiFkMDw0VQ"
      },
      "outputs": [],
      "source": [
        "#from demos.avocados import read_avocadata\n",
        "\n",
        "avocados = read_avocadata('2014', '2016')\n",
        "avocados.head()"
      ]
    },
    {
      "cell_type": "code",
      "execution_count": null,
      "metadata": {
        "id": "YE41TefLw0VQ"
      },
      "outputs": [],
      "source": [
        "# Unlike numpy arrays, pandas DataFrames can have a different dtype for each column.\n",
        "avocados.dtypes"
      ]
    },
    {
      "cell_type": "code",
      "execution_count": null,
      "metadata": {
        "id": "ugMuFafYw0VR"
      },
      "outputs": [],
      "source": [
        "# What's the regional average price of a HASS avocado every day?\n",
        "hass = avocados[avocados.Variety == 'HASS']\n",
        "hass.groupby(['Date', 'Region'])['Weighted Avg Price'].mean().unstack().ffill().plot();"
      ]
    },
    {
      "cell_type": "code",
      "execution_count": null,
      "metadata": {
        "collapsed": true,
        "id": "Kwvaco0Xw0VR"
      },
      "outputs": [],
      "source": [
        "def _organic_spread(group):\n",
        "\n",
        "    if len(group.columns) != 2:\n",
        "        return pd.Series(index=group.index, data=0.0)\n",
        "    \n",
        "    is_organic = group.columns.get_level_values('Organic').values.astype(bool)\n",
        "    organics = group.loc[:, is_organic].squeeze()\n",
        "    non_organics = group.loc[:, ~is_organic].squeeze()\n",
        "    diff = organics - non_organics\n",
        "    return diff\n",
        "\n",
        "def organic_spread_by_region(df):\n",
        "    \"\"\"What's the difference between the price of an organic \n",
        "    and non-organic avocado within each region?\n",
        "    \"\"\"\n",
        "    return (\n",
        "        df\n",
        "        .set_index(['Date', 'Region', 'Organic'])\n",
        "         ['Weighted Avg Price']\n",
        "        .unstack(level=['Region', 'Organic'])\n",
        "        .ffill()\n",
        "        .groupby(level='Region', axis=1)\n",
        "        .apply(_organic_spread)\n",
        "    )"
      ]
    },
    {
      "cell_type": "code",
      "execution_count": null,
      "metadata": {
        "id": "ourJ_EwUw0VR"
      },
      "outputs": [],
      "source": [
        "organic_spread_by_region(hass).plot();\n",
        "plt.gca().set_title(\"Daily Regional Organic Spread\");\n",
        "plt.legend(bbox_to_anchor=(1, 1));"
      ]
    },
    {
      "cell_type": "code",
      "execution_count": null,
      "metadata": {
        "id": "3S74Irotw0VR"
      },
      "outputs": [],
      "source": [
        "spread_correlation = organic_spread_by_region(hass).corr()\n",
        "spread_correlation"
      ]
    },
    {
      "cell_type": "code",
      "execution_count": null,
      "metadata": {
        "id": "a_VV3KVAw0VR"
      },
      "outputs": [],
      "source": [
        "import seaborn as sns\n",
        "grid = sns.clustermap(spread_correlation, annot=True)\n",
        "fig = grid.fig\n",
        "axes = fig.axes\n",
        "ax = axes[2]\n",
        "ax.set_xticklabels(ax.get_xticklabels(), rotation=45);"
      ]
    },
    {
      "cell_type": "markdown",
      "metadata": {
        "id": "N-3oQoRTIP2L"
      },
      "source": [
        "# Example datos.gov\n"
      ]
    },
    {
      "cell_type": "code",
      "execution_count": null,
      "metadata": {
        "colab": {
          "base_uri": "https://localhost:8080/",
          "height": 206
        },
        "id": "3hokggxqLVMm",
        "outputId": "c6da73e1-5cde-429e-edaf-b79ad56bdba1"
      },
      "outputs": [
        {
          "output_type": "execute_result",
          "data": {
            "text/plain": [
              "  municipios  producto  cantidad  anio\n",
              "0       Cali  Aguacate        15  2016\n",
              "1       Cali    Banano         0  2016\n",
              "2       Cali  Bananito         0  2016\n",
              "3       Cali    Borojó         0  2016\n",
              "4       Cali  Cítricos       161  2016"
            ],
            "text/html": [
              "\n",
              "  <div id=\"df-5f38d8db-9f68-4256-bc3f-cb8f03fcc449\">\n",
              "    <div class=\"colab-df-container\">\n",
              "      <div>\n",
              "<style scoped>\n",
              "    .dataframe tbody tr th:only-of-type {\n",
              "        vertical-align: middle;\n",
              "    }\n",
              "\n",
              "    .dataframe tbody tr th {\n",
              "        vertical-align: top;\n",
              "    }\n",
              "\n",
              "    .dataframe thead th {\n",
              "        text-align: right;\n",
              "    }\n",
              "</style>\n",
              "<table border=\"1\" class=\"dataframe\">\n",
              "  <thead>\n",
              "    <tr style=\"text-align: right;\">\n",
              "      <th></th>\n",
              "      <th>municipios</th>\n",
              "      <th>producto</th>\n",
              "      <th>cantidad</th>\n",
              "      <th>anio</th>\n",
              "    </tr>\n",
              "  </thead>\n",
              "  <tbody>\n",
              "    <tr>\n",
              "      <th>0</th>\n",
              "      <td>Cali</td>\n",
              "      <td>Aguacate</td>\n",
              "      <td>15</td>\n",
              "      <td>2016</td>\n",
              "    </tr>\n",
              "    <tr>\n",
              "      <th>1</th>\n",
              "      <td>Cali</td>\n",
              "      <td>Banano</td>\n",
              "      <td>0</td>\n",
              "      <td>2016</td>\n",
              "    </tr>\n",
              "    <tr>\n",
              "      <th>2</th>\n",
              "      <td>Cali</td>\n",
              "      <td>Bananito</td>\n",
              "      <td>0</td>\n",
              "      <td>2016</td>\n",
              "    </tr>\n",
              "    <tr>\n",
              "      <th>3</th>\n",
              "      <td>Cali</td>\n",
              "      <td>Borojó</td>\n",
              "      <td>0</td>\n",
              "      <td>2016</td>\n",
              "    </tr>\n",
              "    <tr>\n",
              "      <th>4</th>\n",
              "      <td>Cali</td>\n",
              "      <td>Cítricos</td>\n",
              "      <td>161</td>\n",
              "      <td>2016</td>\n",
              "    </tr>\n",
              "  </tbody>\n",
              "</table>\n",
              "</div>\n",
              "      <button class=\"colab-df-convert\" onclick=\"convertToInteractive('df-5f38d8db-9f68-4256-bc3f-cb8f03fcc449')\"\n",
              "              title=\"Convert this dataframe to an interactive table.\"\n",
              "              style=\"display:none;\">\n",
              "        \n",
              "  <svg xmlns=\"http://www.w3.org/2000/svg\" height=\"24px\"viewBox=\"0 0 24 24\"\n",
              "       width=\"24px\">\n",
              "    <path d=\"M0 0h24v24H0V0z\" fill=\"none\"/>\n",
              "    <path d=\"M18.56 5.44l.94 2.06.94-2.06 2.06-.94-2.06-.94-.94-2.06-.94 2.06-2.06.94zm-11 1L8.5 8.5l.94-2.06 2.06-.94-2.06-.94L8.5 2.5l-.94 2.06-2.06.94zm10 10l.94 2.06.94-2.06 2.06-.94-2.06-.94-.94-2.06-.94 2.06-2.06.94z\"/><path d=\"M17.41 7.96l-1.37-1.37c-.4-.4-.92-.59-1.43-.59-.52 0-1.04.2-1.43.59L10.3 9.45l-7.72 7.72c-.78.78-.78 2.05 0 2.83L4 21.41c.39.39.9.59 1.41.59.51 0 1.02-.2 1.41-.59l7.78-7.78 2.81-2.81c.8-.78.8-2.07 0-2.86zM5.41 20L4 18.59l7.72-7.72 1.47 1.35L5.41 20z\"/>\n",
              "  </svg>\n",
              "      </button>\n",
              "      \n",
              "  <style>\n",
              "    .colab-df-container {\n",
              "      display:flex;\n",
              "      flex-wrap:wrap;\n",
              "      gap: 12px;\n",
              "    }\n",
              "\n",
              "    .colab-df-convert {\n",
              "      background-color: #E8F0FE;\n",
              "      border: none;\n",
              "      border-radius: 50%;\n",
              "      cursor: pointer;\n",
              "      display: none;\n",
              "      fill: #1967D2;\n",
              "      height: 32px;\n",
              "      padding: 0 0 0 0;\n",
              "      width: 32px;\n",
              "    }\n",
              "\n",
              "    .colab-df-convert:hover {\n",
              "      background-color: #E2EBFA;\n",
              "      box-shadow: 0px 1px 2px rgba(60, 64, 67, 0.3), 0px 1px 3px 1px rgba(60, 64, 67, 0.15);\n",
              "      fill: #174EA6;\n",
              "    }\n",
              "\n",
              "    [theme=dark] .colab-df-convert {\n",
              "      background-color: #3B4455;\n",
              "      fill: #D2E3FC;\n",
              "    }\n",
              "\n",
              "    [theme=dark] .colab-df-convert:hover {\n",
              "      background-color: #434B5C;\n",
              "      box-shadow: 0px 1px 3px 1px rgba(0, 0, 0, 0.15);\n",
              "      filter: drop-shadow(0px 1px 2px rgba(0, 0, 0, 0.3));\n",
              "      fill: #FFFFFF;\n",
              "    }\n",
              "  </style>\n",
              "\n",
              "      <script>\n",
              "        const buttonEl =\n",
              "          document.querySelector('#df-5f38d8db-9f68-4256-bc3f-cb8f03fcc449 button.colab-df-convert');\n",
              "        buttonEl.style.display =\n",
              "          google.colab.kernel.accessAllowed ? 'block' : 'none';\n",
              "\n",
              "        async function convertToInteractive(key) {\n",
              "          const element = document.querySelector('#df-5f38d8db-9f68-4256-bc3f-cb8f03fcc449');\n",
              "          const dataTable =\n",
              "            await google.colab.kernel.invokeFunction('convertToInteractive',\n",
              "                                                     [key], {});\n",
              "          if (!dataTable) return;\n",
              "\n",
              "          const docLinkHtml = 'Like what you see? Visit the ' +\n",
              "            '<a target=\"_blank\" href=https://colab.research.google.com/notebooks/data_table.ipynb>data table notebook</a>'\n",
              "            + ' to learn more about interactive tables.';\n",
              "          element.innerHTML = '';\n",
              "          dataTable['output_type'] = 'display_data';\n",
              "          await google.colab.output.renderOutput(dataTable, element);\n",
              "          const docLink = document.createElement('div');\n",
              "          docLink.innerHTML = docLinkHtml;\n",
              "          element.appendChild(docLink);\n",
              "        }\n",
              "      </script>\n",
              "    </div>\n",
              "  </div>\n",
              "  "
            ]
          },
          "metadata": {},
          "execution_count": 777
        }
      ],
      "source": [
        "import pandas as pd\n",
        "\n",
        "FrutaCali = pd.read_csv('https://www.datos.gov.co/resource/8xap-gecf.csv')\n",
        "FrutaCali.head()"
      ]
    },
    {
      "cell_type": "code",
      "execution_count": null,
      "metadata": {
        "colab": {
          "base_uri": "https://localhost:8080/"
        },
        "id": "nEgnu57ZMeKc",
        "outputId": "41bc0f40-2006-4730-d9f0-f4077529ee09"
      },
      "outputs": [
        {
          "output_type": "execute_result",
          "data": {
            "text/plain": [
              "municipios    object\n",
              "producto      object\n",
              "cantidad       int64\n",
              "anio           int64\n",
              "dtype: object"
            ]
          },
          "metadata": {},
          "execution_count": 778
        }
      ],
      "source": [
        "FrutaCali.dtypes"
      ]
    },
    {
      "cell_type": "code",
      "execution_count": null,
      "metadata": {
        "colab": {
          "base_uri": "https://localhost:8080/",
          "height": 442
        },
        "id": "PS-zcLJUMhm3",
        "outputId": "4525a256-5aa0-4ee5-f14b-d0412b3621c1"
      },
      "outputs": [
        {
          "output_type": "display_data",
          "data": {
            "text/plain": [
              "<Figure size 864x504 with 1 Axes>"
            ],
            "image/png": "[encoded data removed]"
          },
          "metadata": {
            "needs_background": "light"
          }
        }
      ],
      "source": [
        "FrutaCali.groupby(['producto','anio'])['cantidad'].mean().unstack().ffill().plot();"
      ]
    },
    {
      "cell_type": "code",
      "execution_count": null,
      "metadata": {
        "colab": {
          "base_uri": "https://localhost:8080/",
          "height": 443
        },
        "id": "3bP6rOv_Mlk1",
        "outputId": "ffc69033-1f8f-475d-c36d-5e3e44a74a29"
      },
      "outputs": [
        {
          "output_type": "display_data",
          "data": {
            "text/plain": [
              "<Figure size 864x504 with 1 Axes>"
            ],
            "image/png": "[encoded data removed]"
          },
          "metadata": {
            "needs_background": "light"
          }
        }
      ],
      "source": [
        "FrutaCali.groupby(['producto'])['anio'].mean().ffill().plot();"
      ]
    },
    {
      "cell_type": "markdown",
      "metadata": {
        "id": "AAu_XZmcw0VS"
      },
      "source": [
        "# Pandas Review\n",
        "\n",
        "- Pandas extends numpy with more complex datastructures and algorithms.\n",
        "- If you understand numpy, you understand 90% of pandas.\n",
        "- `groupby`, `set_index`, and `unstack` are powerful tools for working with categorical data.\n",
        "- Avocado prices are surprisingly interesting :)"
      ]
    },
    {
      "cell_type": "markdown",
      "metadata": {
        "id": "OZTjmOgzw0VS"
      },
      "source": [
        "# Thanks!"
      ]
    }
  ],
  "metadata": {
    "celltoolbar": "Slideshow",
    "colab": {
      "collapsed_sections": [
        "RxP_mALuw0Uv",
        "eWWvZ_kxw0U8",
        "ekq11cehw0U9",
        "HhAchLC8w0VE",
        "v-LzrTf5w0VF",
        "HVUUijC_w0VL",
        "JFeWshndw0VQ",
        "AAu_XZmcw0VS",
        "OZTjmOgzw0VS"
      ],
      "provenance": []
    },
    "kernelspec": {
      "display_name": "Python 3",
      "language": "python",
      "name": "python3"
    },
    "language_info": {
      "codemirror_mode": {
        "name": "ipython",
        "version": 3
      },
      "file_extension": ".py",
      "mimetype": "text/x-python",
      "name": "python",
      "nbconvert_exporter": "python",
      "pygments_lexer": "ipython3",
      "version": "3.5.2"
    },
    "livereveal": {
      "start_slideshow_at": "selected"
    },
    "name": "Main.ipynb"
  },
  "nbformat": 4,
  "nbformat_minor": 0
}