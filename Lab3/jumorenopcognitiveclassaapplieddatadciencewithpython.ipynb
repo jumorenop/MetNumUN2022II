{
  "nbformat": 4,
  "nbformat_minor": 0,
  "metadata": {
    "colab": {
      "provenance": [],
      "authorship_tag": "ABX9TyOQ2rWTkkm4KH5PN35cO6/w",
      "include_colab_link": true
    },
    "kernelspec": {
      "name": "python3",
      "display_name": "Python 3"
    },
    "language_info": {
      "name": "python"
    }
  },
  "cells": [
    {
      "cell_type": "markdown",
      "metadata": {
        "id": "view-in-github",
        "colab_type": "text"
      },
      "source": [
        "<a href=\"https://colab.research.google.com/github/jumorenop/MetNumUN2022II/blob/main/Lab3/jumorenopcognitiveclassaapplieddatadciencewithpython.ipynb\" target=\"_parent\"><img src=\"https://colab.research.google.com/assets/colab-badge.svg\" alt=\"Open In Colab\"/></a>"
      ]
    },
    {
      "cell_type": "code",
      "execution_count": null,
      "metadata": {
        "id": "q9RUdYA8kwSN"
      },
      "outputs": [],
      "source": [
        "https://www.linkedin.com/feed/update/urn:li:activity:6980689504734978050/"
      ]
    }
  ]
}