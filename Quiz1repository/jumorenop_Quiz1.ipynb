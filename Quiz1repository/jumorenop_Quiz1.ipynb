{
  "nbformat": 4,
  "nbformat_minor": 0,
  "metadata": {
    "colab": {
      "name": "Quiz1.ipynb",
      "provenance": [],
      "collapsed_sections": [],
      "authorship_tag": "ABX9TyMMVs66X81N3UXtyfEtQPQN",
      "include_colab_link": true
    },
    "kernelspec": {
      "name": "python3",
      "display_name": "Python 3"
    },
    "language_info": {
      "name": "python"
    }
  },
  "cells": [
    {
      "cell_type": "markdown",
      "metadata": {
        "id": "view-in-github",
        "colab_type": "text"
      },
      "source": [
        "<a href=\"https://colab.research.google.com/github/jumorenop/MetNumUN2022II/blob/main/Quiz1repository/jumorenop_Quiz1.ipynb\" target=\"_parent\"><img src=\"https://colab.research.google.com/assets/colab-badge.svg\" alt=\"Open In Colab\"/></a>"
      ]
    },
    {
      "cell_type": "markdown",
      "source": [
        "Problema 1"
      ],
      "metadata": {
        "id": "L3vW5-HuZ9II"
      }
    },
    {
      "cell_type": "code",
      "source": [
        "!python --version\n",
        "import numpy as np\n",
        "\n",
        "print('NumPy', np.__version__)"
      ],
      "metadata": {
        "colab": {
          "base_uri": "https://localhost:8080/"
        },
        "id": "ILBQ-gZvZ-QX",
        "outputId": "38861b43-b99e-44c9-8c82-b3b41f8aed04"
      },
      "execution_count": 3,
      "outputs": [
        {
          "output_type": "stream",
          "name": "stdout",
          "text": [
            "Python 3.7.13\n",
            "NumPy 1.21.6\n"
          ]
        }
      ]
    },
    {
      "cell_type": "code",
      "source": [
        "def FizzBuzz(x):  \n",
        "  if x % 3 == 0:\n",
        "    if x % 5 != 0:\n",
        "        print ('Fizz!')\n",
        "    elif x % 5 == 0:\n",
        "        print ('FizzBuzz!')\n",
        "  elif x % 5 == 0:\n",
        "    if x % 3 != 0:\n",
        "        print ('Buzz!')\n",
        "  else:\n",
        "    print ('...')\n",
        "\n",
        "  answer =\"\"\n",
        "  return answer"
      ],
      "metadata": {
        "id": "yiz-RqHYa_e_"
      },
      "execution_count": 41,
      "outputs": []
    },
    {
      "cell_type": "markdown",
      "source": [
        "Problema 2"
      ],
      "metadata": {
        "id": "_y2SLoZIbAPm"
      }
    },
    {
      "cell_type": "code",
      "source": [
        "def FizzBuzzList(n):\n",
        "    ans = []\n",
        "    i = 1\n",
        "    for i in range(1,n+1):\n",
        "        ans.append(i)\n",
        "        if i % 3 == 0:\n",
        "          if i % 5 != 0:\n",
        "              ans[i-1] = \"Fizz!\"\n",
        "          elif i % 5 == 0:\n",
        "              ans[i-1] = \"FizzBuzz!\"\n",
        "        elif i % 5 == 0:\n",
        "          if i % 3 != 0:\n",
        "              ans[i-1] = \"Buzz!\"\n",
        "        else:\n",
        "          ans[i-1] = \"...\"\n",
        "        i += 1 \n",
        "    return ans\n",
        "print(FizzBuzzList(5))\n",
        "print(FizzBuzzList(-30))"
      ],
      "metadata": {
        "colab": {
          "base_uri": "https://localhost:8080/"
        },
        "id": "3HkEZEOVbBhu",
        "outputId": "2dffd073-ad15-4706-87e1-2d2c9d3106c5"
      },
      "execution_count": 44,
      "outputs": [
        {
          "output_type": "stream",
          "name": "stdout",
          "text": [
            "['...', '...', 'Fizz!', '...', 'Buzz!']\n",
            "[]\n"
          ]
        }
      ]
    },
    {
      "cell_type": "markdown",
      "source": [
        "Problema 3"
      ],
      "metadata": {
        "id": "u8_7RjMmpRMM"
      }
    },
    {
      "cell_type": "code",
      "source": [
        "import numpy as np\n",
        "def standarize(X):\n",
        "  X_standarized = np.std()\n",
        "  return X_standarized"
      ],
      "metadata": {
        "id": "kAojixkJpSsq"
      },
      "execution_count": 52,
      "outputs": []
    }
  ]
}